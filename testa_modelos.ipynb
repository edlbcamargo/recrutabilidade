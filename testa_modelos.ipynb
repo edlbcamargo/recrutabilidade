{
 "cells": [
  {
   "cell_type": "code",
   "execution_count": 2,
   "metadata": {
    "ExecuteTime": {
     "end_time": "2021-03-12T23:12:14.817485Z",
     "start_time": "2021-03-12T23:12:14.068238Z"
    }
   },
   "outputs": [],
   "source": [
    "import numpy as np         # para fazer contas e mexer com matrizes\n",
    "import pandas as pd        # para montar DataFrames (tabelas de bancos de dados)\n",
    "\n",
    "from pathlib import Path   # para trabalhar com diretorios e arquivos\n",
    "import pickle              # para gravar e ler dados\n",
    "\n",
    "import matplotlib.pyplot as plt\n",
    "\n",
    "from scipy.optimize import curve_fit\n",
    "\n",
    "#import class_pig  \n",
    "#import glob\n",
    "#import seaborn as sns\n",
    "#\n",
    "#plt.style.use('ggplot')\n",
    "\n",
    "#import os\n",
    "#from scipy.optimize import curve_fit\n",
    "#\"\"\"\n",
    "#CUIDADO!!\n",
    "#\"\"\"\n",
    "#import warnings\n",
    "#warnings.filterwarnings(\"ignore\")"
   ]
  },
  {
   "cell_type": "code",
   "execution_count": 28,
   "metadata": {
    "ExecuteTime": {
     "end_time": "2021-03-12T23:12:14.825381Z",
     "start_time": "2021-03-12T23:12:14.821042Z"
    }
   },
   "outputs": [],
   "source": [
    "# função usada para fitar o modelo PV sigmoide (doente)\n",
    "#                b                                   b\n",
    "# V(x) = a + ----------------------   = a + ------------------------\n",
    "#            1 + exp(-(x/d) + (c/d)          1 + exp(-x/d).exp(c/d)\n",
    "#\n",
    "# lim (x-> inf)  V(x) = a + b\n",
    "def sigmoidvenegas1(x, a, b, c, d):\n",
    "    return a + b/(1 + np.exp(-(x-c)/d))\n",
    "\n",
    "def sigmoidpaiva(x,TLC,k1,k2):\n",
    "    return TLC/(1+(k1*np.exp(-k2*x)))\n",
    "\n",
    "def sigmoidvenegas2(x,TLC,B,k,c,d):\n",
    "    return (TLC-(B*np.exp(-k*x)))/(1 - np.exp(-(x-c)/d))\n",
    "\n",
    "def expsalazar(x,Vo,K):\n",
    "    return Vo*(1-np.exp(-K*x))\n",
    "\n"
   ]
  },
  {
   "cell_type": "markdown",
   "metadata": {},
   "source": [
    "# Lendo dados"
   ]
  },
  {
   "cell_type": "code",
   "execution_count": 29,
   "metadata": {
    "ExecuteTime": {
     "end_time": "2021-03-12T23:12:14.835102Z",
     "start_time": "2021-03-12T23:12:14.827461Z"
    }
   },
   "outputs": [
    {
     "name": "stdout",
     "output_type": "stream",
     "text": [
      "porquinho_mra26.pickle\n",
      "porquinho_mra28.pickle\n",
      "porquinho_mra29.pickle\n",
      "porquinho_mra31.pickle\n",
      "porquinho_mra32.pickle\n",
      "porquinho_mra33.pickle\n",
      "porquinho_mra34.pickle\n"
     ]
    }
   ],
   "source": [
    "# verifica quais dados estão disponíveis para análise\n",
    "for file_name in Path('porquinhos').rglob('*.pickle'):\n",
    "    print(file_name.name)"
   ]
  },
  {
   "cell_type": "code",
   "execution_count": 30,
   "metadata": {
    "ExecuteTime": {
     "end_time": "2021-03-12T23:12:14.881543Z",
     "start_time": "2021-03-12T23:12:14.837388Z"
    }
   },
   "outputs": [
    {
     "name": "stdout",
     "output_type": "stream",
     "text": [
      "\r",
      "Lendo porquinho_mra26.pickle\t\t\t\n",
      "\r",
      "Lendo porquinho_mra28.pickle\t\t\t\n",
      "\r",
      "Lendo porquinho_mra29.pickle\t\t\t\n",
      "\r",
      "Lendo porquinho_mra31.pickle\t\t\t\n",
      "\r",
      "Lendo porquinho_mra32.pickle\t\t\t\n",
      "\r",
      "Lendo porquinho_mra33.pickle\t\t\t\n",
      "\r",
      "Lendo porquinho_mra34.pickle\t\t\t\n"
     ]
    }
   ],
   "source": [
    "\"\"\"\n",
    "lista de dataframe: Cada elemento da lista corresponde a um dataframe de um porco/manobra/dados PV\n",
    "\"\"\"\n",
    "dataframes_lst = []\n",
    "\n",
    "for file_name in Path('porquinhos').rglob('*.pickle'):\n",
    "    \n",
    "    print(f\"\\rLendo {file_name.name}\\t\\t\\t\")\n",
    "\n",
    "    with open(file_name, \"rb\") as file: # abre o arquivo.pickle\n",
    "\n",
    "        porquinho = pickle.load(file)\n",
    "        for manobra in porquinho: #Para cada manobra \n",
    "\n",
    "            if manobra == \"D\": # Posso fazer 3,4,5 passos\n",
    "                n_steps = 5\n",
    "            elif manobra == \"C\": # Posso fazer 3,4 passos\n",
    "                n_steps = 4\n",
    "            elif manobra == \"B\": # Posso fazer 3 passos\n",
    "                n_steps = 3\n",
    "\n",
    "            # Formato os dados de entrada\n",
    "            format_data = []\n",
    "\n",
    "            for pi, pe, wi, we in zip(porquinho[manobra][\"p_i\"], porquinho[manobra][\"p_e\"],\n",
    "                                      porquinho[manobra][\"w_i\"], porquinho[manobra][\"w_e\"]):\n",
    "\n",
    "                format_data.extend([pi,wi,pe,we])\n",
    "\n",
    "            format_data = np.array(format_data).reshape(-1,2) # monta matriz de N linhas e 2 colunas\n",
    "            \n",
    "\n",
    "            ##########################################################\n",
    "            caso = []\n",
    "            caso.append(porquinho.name)\n",
    "            caso.append(manobra)\n",
    "            caso.append(format_data)\n",
    "            caso.append(n_steps)\n",
    "            casodf = pd.DataFrame(caso, index = ['Animal', 'Manobra', 'Dados', 'n_steps']).T\n",
    "            dataframes_lst.append(casodf)\n"
   ]
  },
  {
   "cell_type": "code",
   "execution_count": 31,
   "metadata": {
    "ExecuteTime": {
     "end_time": "2021-03-12T23:12:14.892813Z",
     "start_time": "2021-03-12T23:12:14.886650Z"
    }
   },
   "outputs": [],
   "source": [
    "dadosdf = pd.concat(dataframes_lst, ignore_index=True)"
   ]
  },
  {
   "cell_type": "code",
   "execution_count": 32,
   "metadata": {
    "ExecuteTime": {
     "end_time": "2021-03-12T23:12:14.925101Z",
     "start_time": "2021-03-12T23:12:14.896580Z"
    }
   },
   "outputs": [
    {
     "data": {
      "text/html": [
       "<div>\n",
       "<style scoped>\n",
       "    .dataframe tbody tr th:only-of-type {\n",
       "        vertical-align: middle;\n",
       "    }\n",
       "\n",
       "    .dataframe tbody tr th {\n",
       "        vertical-align: top;\n",
       "    }\n",
       "\n",
       "    .dataframe thead th {\n",
       "        text-align: right;\n",
       "    }\n",
       "</style>\n",
       "<table border=\"1\" class=\"dataframe\">\n",
       "  <thead>\n",
       "    <tr style=\"text-align: right;\">\n",
       "      <th></th>\n",
       "      <th>Animal</th>\n",
       "      <th>Manobra</th>\n",
       "      <th>Dados</th>\n",
       "      <th>n_steps</th>\n",
       "    </tr>\n",
       "  </thead>\n",
       "  <tbody>\n",
       "    <tr>\n",
       "      <th>0</th>\n",
       "      <td>mra26</td>\n",
       "      <td>B</td>\n",
       "      <td>[[10.25, -145.76797485351562], [20.61562538146...</td>\n",
       "      <td>3</td>\n",
       "    </tr>\n",
       "    <tr>\n",
       "      <th>1</th>\n",
       "      <td>mra26</td>\n",
       "      <td>D</td>\n",
       "      <td>[[10.178125381469727, -197.8517303466797], [20...</td>\n",
       "      <td>5</td>\n",
       "    </tr>\n",
       "    <tr>\n",
       "      <th>2</th>\n",
       "      <td>mra26</td>\n",
       "      <td>C</td>\n",
       "      <td>[[10.131250381469727, -147.3227081298828], [20...</td>\n",
       "      <td>4</td>\n",
       "    </tr>\n",
       "    <tr>\n",
       "      <th>3</th>\n",
       "      <td>mra28</td>\n",
       "      <td>C</td>\n",
       "      <td>[[10.287500381469727, -152.2864532470703], [20...</td>\n",
       "      <td>4</td>\n",
       "    </tr>\n",
       "  </tbody>\n",
       "</table>\n",
       "</div>"
      ],
      "text/plain": [
       "  Animal Manobra                                              Dados n_steps\n",
       "0  mra26       B  [[10.25, -145.76797485351562], [20.61562538146...       3\n",
       "1  mra26       D  [[10.178125381469727, -197.8517303466797], [20...       5\n",
       "2  mra26       C  [[10.131250381469727, -147.3227081298828], [20...       4\n",
       "3  mra28       C  [[10.287500381469727, -152.2864532470703], [20...       4"
      ]
     },
     "execution_count": 32,
     "metadata": {},
     "output_type": "execute_result"
    }
   ],
   "source": [
    "dadosdf.head(4)"
   ]
  },
  {
   "cell_type": "code",
   "execution_count": 33,
   "metadata": {
    "ExecuteTime": {
     "end_time": "2021-03-12T23:12:14.934542Z",
     "start_time": "2021-03-12T23:12:14.927117Z"
    }
   },
   "outputs": [
    {
     "data": {
      "text/plain": [
       "Animal                                                 mra33\n",
       "Manobra                                                    D\n",
       "Dados      [[10.312239646911621, -75.62246704101562], [20...\n",
       "n_steps                                                    5\n",
       "Name: 15, dtype: object"
      ]
     },
     "execution_count": 33,
     "metadata": {},
     "output_type": "execute_result"
    }
   ],
   "source": [
    "caso_teste = 15\n",
    "dadosdf.iloc[caso_teste]"
   ]
  },
  {
   "cell_type": "code",
   "execution_count": 34,
   "metadata": {
    "ExecuteTime": {
     "end_time": "2021-03-12T23:12:14.945164Z",
     "start_time": "2021-03-12T23:12:14.937062Z"
    }
   },
   "outputs": [
    {
     "data": {
      "text/plain": [
       "array([[  10.31223965,  -75.62246704],\n",
       "       [  20.05546951,   84.0883255 ],\n",
       "       [  14.99140644,  107.81485748],\n",
       "       [  25.18541718,  233.03657532],\n",
       "       [  20.00651073,  363.42288208],\n",
       "       [  30.22552109,  501.05053711],\n",
       "       [  24.99192715,  706.1350708 ],\n",
       "       [  35.26276207,  833.0881958 ],\n",
       "       [  30.10989571, 1131.9465332 ],\n",
       "       [  40.40755272, 1222.84228516]])"
      ]
     },
     "execution_count": 34,
     "metadata": {},
     "output_type": "execute_result"
    }
   ],
   "source": [
    "dadosdf.iloc[caso_teste].Dados"
   ]
  },
  {
   "cell_type": "code",
   "execution_count": 35,
   "metadata": {
    "ExecuteTime": {
     "end_time": "2021-03-12T23:12:14.953698Z",
     "start_time": "2021-03-12T23:12:14.948329Z"
    }
   },
   "outputs": [],
   "source": [
    "def Data2PV(data):\n",
    "    data2 = data[0::2, :]\n",
    "    pressures = data2[:,0]\n",
    "    volumes = data2[:,1]\n",
    "    return pressures,volumes"
   ]
  },
  {
   "cell_type": "code",
   "execution_count": 36,
   "metadata": {
    "ExecuteTime": {
     "end_time": "2021-03-12T23:12:14.980016Z",
     "start_time": "2021-03-12T23:12:14.956067Z"
    }
   },
   "outputs": [],
   "source": [
    "pv_lst = []\n",
    "for idx,caso in dadosdf.iterrows():\n",
    "    pv = []\n",
    "    #print(f'{caso.Animal} {caso.Manobra}')\n",
    "    ps,vs = Data2PV(caso.Dados)\n",
    "    #pv.append(idx)\n",
    "    pv.append(ps)\n",
    "    pv.append(vs)\n",
    "    pvdf = pd.DataFrame([pv], columns = ['Pressoes', 'Volumes'])\n",
    "    pv_lst.append(pvdf)\n",
    "    #parameters, pcov = curve_fit(func, \n",
    "    #                                                     self.interp_pressures,  \n",
    "    #                                                     self.interp_volumes, \n",
    "    #                                                     method=estimator,\n",
    "    #                                                     bounds=meus_bounds)\n"
   ]
  },
  {
   "cell_type": "code",
   "execution_count": 37,
   "metadata": {
    "ExecuteTime": {
     "end_time": "2021-03-12T23:12:15.001162Z",
     "start_time": "2021-03-12T23:12:14.983411Z"
    }
   },
   "outputs": [
    {
     "data": {
      "text/html": [
       "<div>\n",
       "<style scoped>\n",
       "    .dataframe tbody tr th:only-of-type {\n",
       "        vertical-align: middle;\n",
       "    }\n",
       "\n",
       "    .dataframe tbody tr th {\n",
       "        vertical-align: top;\n",
       "    }\n",
       "\n",
       "    .dataframe thead th {\n",
       "        text-align: right;\n",
       "    }\n",
       "</style>\n",
       "<table border=\"1\" class=\"dataframe\">\n",
       "  <thead>\n",
       "    <tr style=\"text-align: right;\">\n",
       "      <th></th>\n",
       "      <th>Pressoes</th>\n",
       "      <th>Volumes</th>\n",
       "    </tr>\n",
       "  </thead>\n",
       "  <tbody>\n",
       "    <tr>\n",
       "      <th>0</th>\n",
       "      <td>[10.25, 15.334375381469727, 20.375]</td>\n",
       "      <td>[-145.76797485351562, -37.26432800292969, 166....</td>\n",
       "    </tr>\n",
       "    <tr>\n",
       "      <th>1</th>\n",
       "      <td>[10.178125381469727, 15.212499618530273, 20.42...</td>\n",
       "      <td>[-197.8517303466797, -95.13343811035156, 97.13...</td>\n",
       "    </tr>\n",
       "    <tr>\n",
       "      <th>2</th>\n",
       "      <td>[10.131250381469727, 15.112500190734863, 20.27...</td>\n",
       "      <td>[-147.3227081298828, -36.04450607299805, 131.8...</td>\n",
       "    </tr>\n",
       "    <tr>\n",
       "      <th>3</th>\n",
       "      <td>[10.287500381469727, 14.931250095367432, 20.21...</td>\n",
       "      <td>[-152.2864532470703, -45.45492172241211, 234.1...</td>\n",
       "    </tr>\n",
       "    <tr>\n",
       "      <th>4</th>\n",
       "      <td>[10.021874904632568, 14.962499618530273, 20.01...</td>\n",
       "      <td>[-128.87612915039062, -2.0903725624084473, 208...</td>\n",
       "    </tr>\n",
       "  </tbody>\n",
       "</table>\n",
       "</div>"
      ],
      "text/plain": [
       "                                            Pressoes  \\\n",
       "0                [10.25, 15.334375381469727, 20.375]   \n",
       "1  [10.178125381469727, 15.212499618530273, 20.42...   \n",
       "2  [10.131250381469727, 15.112500190734863, 20.27...   \n",
       "3  [10.287500381469727, 14.931250095367432, 20.21...   \n",
       "4  [10.021874904632568, 14.962499618530273, 20.01...   \n",
       "\n",
       "                                             Volumes  \n",
       "0  [-145.76797485351562, -37.26432800292969, 166....  \n",
       "1  [-197.8517303466797, -95.13343811035156, 97.13...  \n",
       "2  [-147.3227081298828, -36.04450607299805, 131.8...  \n",
       "3  [-152.2864532470703, -45.45492172241211, 234.1...  \n",
       "4  [-128.87612915039062, -2.0903725624084473, 208...  "
      ]
     },
     "execution_count": 37,
     "metadata": {},
     "output_type": "execute_result"
    }
   ],
   "source": [
    "pvdf_all = pd.concat(pv_lst, ignore_index=True)\n",
    "pvdf_all.head(5)"
   ]
  },
  {
   "cell_type": "code",
   "execution_count": 38,
   "metadata": {
    "ExecuteTime": {
     "end_time": "2021-03-12T23:12:15.008582Z",
     "start_time": "2021-03-12T23:12:15.003194Z"
    }
   },
   "outputs": [],
   "source": [
    "dadosdf2 = pd.concat((dadosdf,pvdf_all),axis=1)\n"
   ]
  },
  {
   "cell_type": "code",
   "execution_count": 39,
   "metadata": {
    "ExecuteTime": {
     "end_time": "2021-03-12T23:12:15.086893Z",
     "start_time": "2021-03-12T23:12:15.010814Z"
    },
    "scrolled": false
   },
   "outputs": [
    {
     "data": {
      "text/html": [
       "<div>\n",
       "<style scoped>\n",
       "    .dataframe tbody tr th:only-of-type {\n",
       "        vertical-align: middle;\n",
       "    }\n",
       "\n",
       "    .dataframe tbody tr th {\n",
       "        vertical-align: top;\n",
       "    }\n",
       "\n",
       "    .dataframe thead th {\n",
       "        text-align: right;\n",
       "    }\n",
       "</style>\n",
       "<table border=\"1\" class=\"dataframe\">\n",
       "  <thead>\n",
       "    <tr style=\"text-align: right;\">\n",
       "      <th></th>\n",
       "      <th>Animal</th>\n",
       "      <th>Manobra</th>\n",
       "      <th>Dados</th>\n",
       "      <th>n_steps</th>\n",
       "      <th>Pressoes</th>\n",
       "      <th>Volumes</th>\n",
       "    </tr>\n",
       "  </thead>\n",
       "  <tbody>\n",
       "    <tr>\n",
       "      <th>0</th>\n",
       "      <td>mra26</td>\n",
       "      <td>B</td>\n",
       "      <td>[[10.25, -145.76797485351562], [20.61562538146...</td>\n",
       "      <td>3</td>\n",
       "      <td>[10.25, 15.334375381469727, 20.375]</td>\n",
       "      <td>[-145.76797485351562, -37.26432800292969, 166....</td>\n",
       "    </tr>\n",
       "    <tr>\n",
       "      <th>1</th>\n",
       "      <td>mra26</td>\n",
       "      <td>D</td>\n",
       "      <td>[[10.178125381469727, -197.8517303466797], [20...</td>\n",
       "      <td>5</td>\n",
       "      <td>[10.178125381469727, 15.212499618530273, 20.42...</td>\n",
       "      <td>[-197.8517303466797, -95.13343811035156, 97.13...</td>\n",
       "    </tr>\n",
       "    <tr>\n",
       "      <th>2</th>\n",
       "      <td>mra26</td>\n",
       "      <td>C</td>\n",
       "      <td>[[10.131250381469727, -147.3227081298828], [20...</td>\n",
       "      <td>4</td>\n",
       "      <td>[10.131250381469727, 15.112500190734863, 20.27...</td>\n",
       "      <td>[-147.3227081298828, -36.04450607299805, 131.8...</td>\n",
       "    </tr>\n",
       "    <tr>\n",
       "      <th>3</th>\n",
       "      <td>mra28</td>\n",
       "      <td>C</td>\n",
       "      <td>[[10.287500381469727, -152.2864532470703], [20...</td>\n",
       "      <td>4</td>\n",
       "      <td>[10.287500381469727, 14.931250095367432, 20.21...</td>\n",
       "      <td>[-152.2864532470703, -45.45492172241211, 234.1...</td>\n",
       "    </tr>\n",
       "    <tr>\n",
       "      <th>4</th>\n",
       "      <td>mra28</td>\n",
       "      <td>B</td>\n",
       "      <td>[[10.021874904632568, -128.87612915039062], [2...</td>\n",
       "      <td>3</td>\n",
       "      <td>[10.021874904632568, 14.962499618530273, 20.01...</td>\n",
       "      <td>[-128.87612915039062, -2.0903725624084473, 208...</td>\n",
       "    </tr>\n",
       "    <tr>\n",
       "      <th>5</th>\n",
       "      <td>mra28</td>\n",
       "      <td>D</td>\n",
       "      <td>[[10.240625381469727, -179.3195037841797], [20...</td>\n",
       "      <td>5</td>\n",
       "      <td>[10.240625381469727, 14.828125, 20.05937480926...</td>\n",
       "      <td>[-179.3195037841797, -62.187042236328125, 182....</td>\n",
       "    </tr>\n",
       "    <tr>\n",
       "      <th>6</th>\n",
       "      <td>mra29</td>\n",
       "      <td>D</td>\n",
       "      <td>[[10.286250114440918, -210.43722534179688], [2...</td>\n",
       "      <td>5</td>\n",
       "      <td>[10.286250114440918, 15.094120502471924, 19.99...</td>\n",
       "      <td>[-210.43722534179688, -118.89096069335938, 33....</td>\n",
       "    </tr>\n",
       "    <tr>\n",
       "      <th>7</th>\n",
       "      <td>mra29</td>\n",
       "      <td>B</td>\n",
       "      <td>[[10.26111125946045, -307.4459228515625], [20....</td>\n",
       "      <td>3</td>\n",
       "      <td>[10.26111125946045, 15.117916584014893, 20.029...</td>\n",
       "      <td>[-307.4459228515625, -156.31631469726562, 16.6...</td>\n",
       "    </tr>\n",
       "    <tr>\n",
       "      <th>8</th>\n",
       "      <td>mra29</td>\n",
       "      <td>C</td>\n",
       "      <td>[[10.105555534362793, -265.270263671875], [20....</td>\n",
       "      <td>4</td>\n",
       "      <td>[10.105555534362793, 15.18842601776123, 20.045...</td>\n",
       "      <td>[-265.270263671875, -145.95188903808594, 74.12...</td>\n",
       "    </tr>\n",
       "    <tr>\n",
       "      <th>9</th>\n",
       "      <td>mra31</td>\n",
       "      <td>D</td>\n",
       "      <td>[[10.0, -107.7169418334961], [20.2000007629394...</td>\n",
       "      <td>5</td>\n",
       "      <td>[10.0, 15.0, 20.100000381469727, 24.8999996185...</td>\n",
       "      <td>[-107.7169418334961, 47.35507583618164, 235.19...</td>\n",
       "    </tr>\n",
       "    <tr>\n",
       "      <th>10</th>\n",
       "      <td>mra31</td>\n",
       "      <td>B</td>\n",
       "      <td>[[10.300000190734863, -25.01786231994629], [20...</td>\n",
       "      <td>3</td>\n",
       "      <td>[10.300000190734863, 15.100000381469727, 19.89...</td>\n",
       "      <td>[-25.01786231994629, 122.25248718261719, 244.6...</td>\n",
       "    </tr>\n",
       "    <tr>\n",
       "      <th>11</th>\n",
       "      <td>mra31</td>\n",
       "      <td>C</td>\n",
       "      <td>[[9.699999809265137, -228.3211212158203], [20....</td>\n",
       "      <td>4</td>\n",
       "      <td>[9.699999809265137, 15.300000190734863, 20.100...</td>\n",
       "      <td>[-228.3211212158203, -71.18547058105469, 125.5...</td>\n",
       "    </tr>\n",
       "    <tr>\n",
       "      <th>12</th>\n",
       "      <td>mra32</td>\n",
       "      <td>D</td>\n",
       "      <td>[[10.625260829925537, -53.54884338378906], [20...</td>\n",
       "      <td>5</td>\n",
       "      <td>[10.625260829925537, 15.398958206176758, 20.37...</td>\n",
       "      <td>[-53.54884338378906, 33.332923889160156, 174.5...</td>\n",
       "    </tr>\n",
       "    <tr>\n",
       "      <th>13</th>\n",
       "      <td>mra32</td>\n",
       "      <td>C</td>\n",
       "      <td>[[10.299739837646484, -71.4944076538086], [20....</td>\n",
       "      <td>4</td>\n",
       "      <td>[10.299739837646484, 15.213281631469727, 20.33...</td>\n",
       "      <td>[-71.4944076538086, 46.17720031738281, 192.731...</td>\n",
       "    </tr>\n",
       "    <tr>\n",
       "      <th>14</th>\n",
       "      <td>mra32</td>\n",
       "      <td>B</td>\n",
       "      <td>[[10.62864637374878, -25.914222717285156], [20...</td>\n",
       "      <td>3</td>\n",
       "      <td>[10.62864637374878, 15.36510419845581, 20.3697...</td>\n",
       "      <td>[-25.914222717285156, 74.27739715576172, 206.2...</td>\n",
       "    </tr>\n",
       "    <tr>\n",
       "      <th>15</th>\n",
       "      <td>mra33</td>\n",
       "      <td>D</td>\n",
       "      <td>[[10.312239646911621, -75.62246704101562], [20...</td>\n",
       "      <td>5</td>\n",
       "      <td>[10.312239646911621, 14.991406440734863, 20.00...</td>\n",
       "      <td>[-75.62246704101562, 107.81485748291016, 363.4...</td>\n",
       "    </tr>\n",
       "    <tr>\n",
       "      <th>16</th>\n",
       "      <td>mra33</td>\n",
       "      <td>B</td>\n",
       "      <td>[[10.303646087646484, 146.587890625], [20.1421...</td>\n",
       "      <td>3</td>\n",
       "      <td>[10.303646087646484, 14.871094226837158, 20.07...</td>\n",
       "      <td>[146.587890625, 330.3841552734375, 560.5339355...</td>\n",
       "    </tr>\n",
       "    <tr>\n",
       "      <th>17</th>\n",
       "      <td>mra33</td>\n",
       "      <td>C</td>\n",
       "      <td>[[10.202864646911621, -56.06181335449219], [20...</td>\n",
       "      <td>4</td>\n",
       "      <td>[10.202864646911621, 15.145573139190674, 20.05...</td>\n",
       "      <td>[-56.06181335449219, 113.50151824951172, 334.8...</td>\n",
       "    </tr>\n",
       "    <tr>\n",
       "      <th>18</th>\n",
       "      <td>mra34</td>\n",
       "      <td>C</td>\n",
       "      <td>[[9.928905963897705, -259.58831787109375], [20...</td>\n",
       "      <td>4</td>\n",
       "      <td>[9.928905963897705, 14.968489646911621, 20.058...</td>\n",
       "      <td>[-259.58831787109375, -81.21270751953125, 147....</td>\n",
       "    </tr>\n",
       "    <tr>\n",
       "      <th>19</th>\n",
       "      <td>mra34</td>\n",
       "      <td>D</td>\n",
       "      <td>[[9.9609375, -167.6243133544922], [20.25208377...</td>\n",
       "      <td>5</td>\n",
       "      <td>[9.9609375, 15.040364742279053, 20.13463592529...</td>\n",
       "      <td>[-167.6243133544922, 13.06080150604248, 203.19...</td>\n",
       "    </tr>\n",
       "    <tr>\n",
       "      <th>20</th>\n",
       "      <td>mra34</td>\n",
       "      <td>B</td>\n",
       "      <td>[[10.135156631469727, -149.72845458984375], [2...</td>\n",
       "      <td>3</td>\n",
       "      <td>[10.135156631469727, 15.052343845367432, 20.00...</td>\n",
       "      <td>[-149.72845458984375, 36.645347595214844, 243....</td>\n",
       "    </tr>\n",
       "  </tbody>\n",
       "</table>\n",
       "</div>"
      ],
      "text/plain": [
       "   Animal Manobra                                              Dados n_steps  \\\n",
       "0   mra26       B  [[10.25, -145.76797485351562], [20.61562538146...       3   \n",
       "1   mra26       D  [[10.178125381469727, -197.8517303466797], [20...       5   \n",
       "2   mra26       C  [[10.131250381469727, -147.3227081298828], [20...       4   \n",
       "3   mra28       C  [[10.287500381469727, -152.2864532470703], [20...       4   \n",
       "4   mra28       B  [[10.021874904632568, -128.87612915039062], [2...       3   \n",
       "5   mra28       D  [[10.240625381469727, -179.3195037841797], [20...       5   \n",
       "6   mra29       D  [[10.286250114440918, -210.43722534179688], [2...       5   \n",
       "7   mra29       B  [[10.26111125946045, -307.4459228515625], [20....       3   \n",
       "8   mra29       C  [[10.105555534362793, -265.270263671875], [20....       4   \n",
       "9   mra31       D  [[10.0, -107.7169418334961], [20.2000007629394...       5   \n",
       "10  mra31       B  [[10.300000190734863, -25.01786231994629], [20...       3   \n",
       "11  mra31       C  [[9.699999809265137, -228.3211212158203], [20....       4   \n",
       "12  mra32       D  [[10.625260829925537, -53.54884338378906], [20...       5   \n",
       "13  mra32       C  [[10.299739837646484, -71.4944076538086], [20....       4   \n",
       "14  mra32       B  [[10.62864637374878, -25.914222717285156], [20...       3   \n",
       "15  mra33       D  [[10.312239646911621, -75.62246704101562], [20...       5   \n",
       "16  mra33       B  [[10.303646087646484, 146.587890625], [20.1421...       3   \n",
       "17  mra33       C  [[10.202864646911621, -56.06181335449219], [20...       4   \n",
       "18  mra34       C  [[9.928905963897705, -259.58831787109375], [20...       4   \n",
       "19  mra34       D  [[9.9609375, -167.6243133544922], [20.25208377...       5   \n",
       "20  mra34       B  [[10.135156631469727, -149.72845458984375], [2...       3   \n",
       "\n",
       "                                             Pressoes  \\\n",
       "0                 [10.25, 15.334375381469727, 20.375]   \n",
       "1   [10.178125381469727, 15.212499618530273, 20.42...   \n",
       "2   [10.131250381469727, 15.112500190734863, 20.27...   \n",
       "3   [10.287500381469727, 14.931250095367432, 20.21...   \n",
       "4   [10.021874904632568, 14.962499618530273, 20.01...   \n",
       "5   [10.240625381469727, 14.828125, 20.05937480926...   \n",
       "6   [10.286250114440918, 15.094120502471924, 19.99...   \n",
       "7   [10.26111125946045, 15.117916584014893, 20.029...   \n",
       "8   [10.105555534362793, 15.18842601776123, 20.045...   \n",
       "9   [10.0, 15.0, 20.100000381469727, 24.8999996185...   \n",
       "10  [10.300000190734863, 15.100000381469727, 19.89...   \n",
       "11  [9.699999809265137, 15.300000190734863, 20.100...   \n",
       "12  [10.625260829925537, 15.398958206176758, 20.37...   \n",
       "13  [10.299739837646484, 15.213281631469727, 20.33...   \n",
       "14  [10.62864637374878, 15.36510419845581, 20.3697...   \n",
       "15  [10.312239646911621, 14.991406440734863, 20.00...   \n",
       "16  [10.303646087646484, 14.871094226837158, 20.07...   \n",
       "17  [10.202864646911621, 15.145573139190674, 20.05...   \n",
       "18  [9.928905963897705, 14.968489646911621, 20.058...   \n",
       "19  [9.9609375, 15.040364742279053, 20.13463592529...   \n",
       "20  [10.135156631469727, 15.052343845367432, 20.00...   \n",
       "\n",
       "                                              Volumes  \n",
       "0   [-145.76797485351562, -37.26432800292969, 166....  \n",
       "1   [-197.8517303466797, -95.13343811035156, 97.13...  \n",
       "2   [-147.3227081298828, -36.04450607299805, 131.8...  \n",
       "3   [-152.2864532470703, -45.45492172241211, 234.1...  \n",
       "4   [-128.87612915039062, -2.0903725624084473, 208...  \n",
       "5   [-179.3195037841797, -62.187042236328125, 182....  \n",
       "6   [-210.43722534179688, -118.89096069335938, 33....  \n",
       "7   [-307.4459228515625, -156.31631469726562, 16.6...  \n",
       "8   [-265.270263671875, -145.95188903808594, 74.12...  \n",
       "9   [-107.7169418334961, 47.35507583618164, 235.19...  \n",
       "10  [-25.01786231994629, 122.25248718261719, 244.6...  \n",
       "11  [-228.3211212158203, -71.18547058105469, 125.5...  \n",
       "12  [-53.54884338378906, 33.332923889160156, 174.5...  \n",
       "13  [-71.4944076538086, 46.17720031738281, 192.731...  \n",
       "14  [-25.914222717285156, 74.27739715576172, 206.2...  \n",
       "15  [-75.62246704101562, 107.81485748291016, 363.4...  \n",
       "16  [146.587890625, 330.3841552734375, 560.5339355...  \n",
       "17  [-56.06181335449219, 113.50151824951172, 334.8...  \n",
       "18  [-259.58831787109375, -81.21270751953125, 147....  \n",
       "19  [-167.6243133544922, 13.06080150604248, 203.19...  \n",
       "20  [-149.72845458984375, 36.645347595214844, 243....  "
      ]
     },
     "execution_count": 39,
     "metadata": {},
     "output_type": "execute_result"
    }
   ],
   "source": [
    "dadosdf2"
   ]
  },
  {
   "cell_type": "code",
   "execution_count": 47,
   "metadata": {
    "ExecuteTime": {
     "end_time": "2021-03-12T23:12:52.517130Z",
     "start_time": "2021-03-12T23:12:52.461706Z"
    }
   },
   "outputs": [
    {
     "name": "stdout",
     "output_type": "stream",
     "text": [
      "[-294.67551441 1695.33852578   28.10570415    6.39623691]\n",
      "mra26\n"
     ]
    },
    {
     "data": {
      "image/png": "[encoded data removed]",
      "text/plain": [
       "<Figure size 432x288 with 1 Axes>"
      ]
     },
     "metadata": {
      "needs_background": "light"
     },
     "output_type": "display_data"
    },
    {
     "name": "stdout",
     "output_type": "stream",
     "text": [
      "[-297.05994796 1381.37407782   23.66987602    5.63017175]\n",
      "mra28\n"
     ]
    },
    {
     "data": {
      "image/png": "[encoded data removed]",
      "text/plain": [
       "<Figure size 432x288 with 1 Axes>"
      ]
     },
     "metadata": {
      "needs_background": "light"
     },
     "output_type": "display_data"
    },
    {
     "name": "stdout",
     "output_type": "stream",
     "text": [
      "[-247.55701301  968.97506803   23.70543175    4.35256343]\n",
      "mra29\n"
     ]
    },
    {
     "data": {
      "image/png": "[encoded data removed]",
      "text/plain": [
       "<Figure size 432x288 with 1 Axes>"
      ]
     },
     "metadata": {
      "needs_background": "light"
     },
     "output_type": "display_data"
    },
    {
     "name": "stdout",
     "output_type": "stream",
     "text": [
      "[-330.8312787  1143.7978598    20.14734166    7.18400213]\n",
      "mra31\n"
     ]
    },
    {
     "data": {
      "image/png": "[encoded data removed]",
      "text/plain": [
       "<Figure size 432x288 with 1 Axes>"
      ]
     },
     "metadata": {
      "needs_background": "light"
     },
     "output_type": "display_data"
    },
    {
     "name": "stdout",
     "output_type": "stream",
     "text": [
      "[-139.55927647  634.25670264   20.55392719    5.33333494]\n",
      "mra32\n"
     ]
    },
    {
     "data": {
      "image/png": "[encoded data removed]",
      "text/plain": [
       "<Figure size 432x288 with 1 Axes>"
      ]
     },
     "metadata": {
      "needs_background": "light"
     },
     "output_type": "display_data"
    },
    {
     "name": "stdout",
     "output_type": "stream",
     "text": [
      "[-500.91278271 4760.42204105   37.8127808    11.85675946]\n",
      "mra33\n"
     ]
    },
    {
     "data": {
      "image/png": "[encoded data removed]",
      "text/plain": [
       "<Figure size 432x288 with 1 Axes>"
      ]
     },
     "metadata": {
      "needs_background": "light"
     },
     "output_type": "display_data"
    },
    {
     "name": "stdout",
     "output_type": "stream",
     "text": [
      "[2.66917938e+02 9.53782050e+01 7.42308298e+05 1.04826902e+05]\n",
      "mra34\n"
     ]
    },
    {
     "data": {
      "image/png": "[encoded data removed]",
      "text/plain": [
       "<Figure size 432x288 with 1 Axes>"
      ]
     },
     "metadata": {
      "needs_background": "light"
     },
     "output_type": "display_data"
    }
   ],
   "source": [
    "for i in range(21):\n",
    "    caso_teste=i\n",
    "    metodo = 'lm' # lm, dogbox, trf\n",
    "    modelo = sigmoidvenegas1\n",
    "    if dadosdf2.iloc[caso_teste].n_steps ==:\n",
    "        p = dadosdf2.iloc[caso_teste].Pressoes\n",
    "        v = dadosdf2.iloc[caso_teste].Volumes\n",
    "        parameters, pcov = curve_fit(modelo, p, v, method=metodo)\n",
    "        print(parameters)\n",
    "        print(dadosdf2.iloc[caso_teste].Animal)\n",
    "        meu_p = range(1,100)\n",
    "        meu_v = modelo(meu_p,*parameters)\n",
    "        plt.scatter(dadosdf2.iloc[caso_teste].Pressoes,v)\n",
    "        plt.plot(meu_p,meu_v,'r')\n",
    "        plt.title('Gráfico pressão x volume')\n",
    "        plt.xlabel('Pressão [cmH2o]')\n",
    "        plt.ylabel('Volume [mL]')\n",
    "        plt.show()\n",
    "        plt.close()\n"
   ]
  },
  {
   "cell_type": "code",
   "execution_count": null,
   "metadata": {
    "ExecuteTime": {
     "end_time": "2021-03-12T23:12:15.342472Z",
     "start_time": "2021-03-12T23:12:15.339943Z"
    }
   },
   "outputs": [],
   "source": [
    "#meu_p0 = [0, 2000, 20, 20]\n",
    "#for idx,caso in dadosdf2.iterrows():\n",
    "#    print(f'Fitando {caso.Animal}_{caso.Manobra}')\n",
    "#    parameters, pcov = curve_fit(sigmoid, caso.Pressoes, caso.Volumes, method='lm')\n",
    "#    print(parameters)\n",
    "#    meu_p = range(1,100)\n",
    "#    volume_fitado = sigmoid(meu_p,*parameters)\n",
    "#    plt.plot(caso.Pressoes,caso.Volumes)\n",
    "#    plt.plot(meu_p,volume_fitado)\n",
    "#    plt.show()\n",
    "    #                                                     self.interp_pressures,  \n",
    "    #                                                     self.interp_volumes, \n",
    "    #                                                     method=estimator,\n",
    "    #                                                     bounds=meus_bounds)"
   ]
  },
  {
   "cell_type": "code",
   "execution_count": null,
   "metadata": {},
   "outputs": [],
   "source": []
  }
 ],
 "metadata": {
  "kernelspec": {
   "display_name": "Python 3",
   "language": "python",
   "name": "python3"
  },
  "language_info": {
   "codemirror_mode": {
    "name": "ipython",
    "version": 3
   },
   "file_extension": ".py",
   "mimetype": "text/x-python",
   "name": "python",
   "nbconvert_exporter": "python",
   "pygments_lexer": "ipython3",
   "version": "3.9.0"
  },
  "toc": {
   "base_numbering": 1,
   "nav_menu": {},
   "number_sections": true,
   "sideBar": true,
   "skip_h1_title": false,
   "title_cell": "Table of Contents",
   "title_sidebar": "Contents",
   "toc_cell": false,
   "toc_position": {},
   "toc_section_display": true,
   "toc_window_display": false
  }
 },
 "nbformat": 4,
 "nbformat_minor": 4
}
