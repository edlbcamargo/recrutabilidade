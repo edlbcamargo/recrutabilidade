{
 "cells": [
  {
   "cell_type": "markdown",
   "metadata": {
    "heading_collapsed": true
   },
   "source": [
    "# Importando bibliotecas"
   ]
  },
  {
   "cell_type": "code",
   "execution_count": 1,
   "metadata": {
    "ExecuteTime": {
     "end_time": "2021-04-16T21:40:37.755233Z",
     "start_time": "2021-04-16T21:40:36.823995Z"
    },
    "hidden": true
   },
   "outputs": [],
   "source": [
    "import numpy as np         # para fazer contas e mexer com matrizes\n",
    "import pandas as pd        # para montar DataFrames (tabelas de bancos de dados)\n",
    "\n",
    "import matplotlib.pyplot as plt\n",
    "import seaborn as sns\n",
    "\n",
    "import modelos as m\n",
    "\n",
    "# CUIDADO!!! Para esconder os avisos do curvefit():\n",
    "import warnings\n",
    "warnings.filterwarnings(\"ignore\")"
   ]
  },
  {
   "cell_type": "code",
   "execution_count": 2,
   "metadata": {
    "ExecuteTime": {
     "end_time": "2021-04-16T21:40:43.652913Z",
     "start_time": "2021-04-16T21:40:43.625169Z"
    },
    "hidden": true
   },
   "outputs": [],
   "source": [
    "# para não precisar reiniciar o kernel do jupyter-notebook quando mudar os arquivos .py\n",
    "%load_ext autoreload\n",
    "%autoreload 2"
   ]
  },
  {
   "cell_type": "code",
   "execution_count": 3,
   "metadata": {
    "ExecuteTime": {
     "end_time": "2021-04-16T21:40:50.090095Z",
     "start_time": "2021-04-16T21:40:50.067605Z"
    },
    "hidden": true
   },
   "outputs": [],
   "source": [
    "sns.set_theme()"
   ]
  },
  {
   "cell_type": "markdown",
   "metadata": {},
   "source": [
    "# Lendo dados"
   ]
  },
  {
   "cell_type": "code",
   "execution_count": 12,
   "metadata": {
    "ExecuteTime": {
     "end_time": "2021-04-16T21:54:01.201119Z",
     "start_time": "2021-04-16T21:54:01.143750Z"
    }
   },
   "outputs": [
    {
     "data": {
      "text/html": [
       "<div>\n",
       "<style scoped>\n",
       "    .dataframe tbody tr th:only-of-type {\n",
       "        vertical-align: middle;\n",
       "    }\n",
       "\n",
       "    .dataframe tbody tr th {\n",
       "        vertical-align: top;\n",
       "    }\n",
       "\n",
       "    .dataframe thead th {\n",
       "        text-align: right;\n",
       "    }\n",
       "</style>\n",
       "<table border=\"1\" class=\"dataframe\">\n",
       "  <thead>\n",
       "    <tr style=\"text-align: right;\">\n",
       "      <th></th>\n",
       "      <th>Animal</th>\n",
       "      <th>Maneuver</th>\n",
       "      <th>n_steps</th>\n",
       "      <th>Pressures</th>\n",
       "      <th>Volumes</th>\n",
       "      <th>Model</th>\n",
       "      <th>Method</th>\n",
       "      <th>TLC_index</th>\n",
       "      <th>N_points_interp</th>\n",
       "      <th>p0</th>\n",
       "      <th>bounds</th>\n",
       "      <th>fitted</th>\n",
       "      <th>parameters</th>\n",
       "      <th>Vol_CT</th>\n",
       "      <th>error</th>\n",
       "      <th>fit error</th>\n",
       "      <th>error factor</th>\n",
       "      <th>Raw data</th>\n",
       "    </tr>\n",
       "  </thead>\n",
       "  <tbody>\n",
       "    <tr>\n",
       "      <th>1798</th>\n",
       "      <td>mra33</td>\n",
       "      <td>B</td>\n",
       "      <td>3</td>\n",
       "      <td>[10.303646087646484, 14.871094226837158, 20.07...</td>\n",
       "      <td>[146.587890625, 330.3841552734375, 560.5339355...</td>\n",
       "      <td>sigmoidmurphyoffset</td>\n",
       "      <td>dogbox</td>\n",
       "      <td>0</td>\n",
       "      <td>20</td>\n",
       "      <td>[2000.0, -200.0, 6000, 6000, 32.0]</td>\n",
       "      <td>([500, -600, 2000, 2000, 10], [3500, -100, 200...</td>\n",
       "      <td>True</td>\n",
       "      <td>[2399.162461735464, -600.0, 20000.0, 12249.219...</td>\n",
       "      <td>2154.6</td>\n",
       "      <td>11.350713</td>\n",
       "      <td>0.149489</td>\n",
       "      <td>3.655387</td>\n",
       "      <td>[[10.303646087646484, 146.587890625], [20.1421...</td>\n",
       "    </tr>\n",
       "    <tr>\n",
       "      <th>1799</th>\n",
       "      <td>mra33</td>\n",
       "      <td>C</td>\n",
       "      <td>4</td>\n",
       "      <td>[10.202864646911621, 15.145573139190674, 20.05...</td>\n",
       "      <td>[-56.06181335449219, 113.50151824951172, 334.8...</td>\n",
       "      <td>sigmoidmurphyoffset</td>\n",
       "      <td>dogbox</td>\n",
       "      <td>0</td>\n",
       "      <td>20</td>\n",
       "      <td>[2000.0, -200.0, 6000, 6000, 32.0]</td>\n",
       "      <td>([500, -600, 2000, 2000, 10], [3500, -100, 200...</td>\n",
       "      <td>True</td>\n",
       "      <td>[2287.6878993115215, -599.9999999976203, 20000...</td>\n",
       "      <td>2154.6</td>\n",
       "      <td>6.176919</td>\n",
       "      <td>0.064135</td>\n",
       "      <td>1.364676</td>\n",
       "      <td>[[10.202864646911621, -56.06181335449219], [20...</td>\n",
       "    </tr>\n",
       "  </tbody>\n",
       "</table>\n",
       "</div>"
      ],
      "text/plain": [
       "     Animal Maneuver n_steps  \\\n",
       "1798  mra33        B       3   \n",
       "1799  mra33        C       4   \n",
       "\n",
       "                                              Pressures  \\\n",
       "1798  [10.303646087646484, 14.871094226837158, 20.07...   \n",
       "1799  [10.202864646911621, 15.145573139190674, 20.05...   \n",
       "\n",
       "                                                Volumes                Model  \\\n",
       "1798  [146.587890625, 330.3841552734375, 560.5339355...  sigmoidmurphyoffset   \n",
       "1799  [-56.06181335449219, 113.50151824951172, 334.8...  sigmoidmurphyoffset   \n",
       "\n",
       "      Method TLC_index N_points_interp                                  p0  \\\n",
       "1798  dogbox         0              20  [2000.0, -200.0, 6000, 6000, 32.0]   \n",
       "1799  dogbox         0              20  [2000.0, -200.0, 6000, 6000, 32.0]   \n",
       "\n",
       "                                                 bounds fitted  \\\n",
       "1798  ([500, -600, 2000, 2000, 10], [3500, -100, 200...   True   \n",
       "1799  ([500, -600, 2000, 2000, 10], [3500, -100, 200...   True   \n",
       "\n",
       "                                             parameters  Vol_CT      error  \\\n",
       "1798  [2399.162461735464, -600.0, 20000.0, 12249.219...  2154.6  11.350713   \n",
       "1799  [2287.6878993115215, -599.9999999976203, 20000...  2154.6   6.176919   \n",
       "\n",
       "     fit error error factor                                           Raw data  \n",
       "1798  0.149489     3.655387  [[10.303646087646484, 146.587890625], [20.1421...  \n",
       "1799  0.064135     1.364676  [[10.202864646911621, -56.06181335449219], [20...  "
      ]
     },
     "execution_count": 12,
     "metadata": {},
     "output_type": "execute_result"
    }
   ],
   "source": [
    "resultdf_indiv = pd.read_pickle('./output/dados_eit_modelos.pkl')\n",
    "resultdf_indiv.tail(2)"
   ]
  },
  {
   "cell_type": "code",
   "execution_count": 11,
   "metadata": {
    "ExecuteTime": {
     "end_time": "2021-04-16T21:44:13.840268Z",
     "start_time": "2021-04-16T21:44:13.797734Z"
    },
    "scrolled": true
   },
   "outputs": [
    {
     "data": {
      "text/html": [
       "<div>\n",
       "<style scoped>\n",
       "    .dataframe tbody tr th:only-of-type {\n",
       "        vertical-align: middle;\n",
       "    }\n",
       "\n",
       "    .dataframe tbody tr th {\n",
       "        vertical-align: top;\n",
       "    }\n",
       "\n",
       "    .dataframe thead th {\n",
       "        text-align: right;\n",
       "    }\n",
       "</style>\n",
       "<table border=\"1\" class=\"dataframe\">\n",
       "  <thead>\n",
       "    <tr style=\"text-align: right;\">\n",
       "      <th></th>\n",
       "      <th>Animal</th>\n",
       "      <th>Pressure</th>\n",
       "      <th>CT Volume</th>\n",
       "      <th>Volume (Luva)</th>\n",
       "      <th>Estimated TLC</th>\n",
       "      <th>Estimated K</th>\n",
       "      <th>CT_Volume (rec)</th>\n",
       "      <th>Pressure (rec)</th>\n",
       "      <th>CT folders</th>\n",
       "      <th>CT folders (rec)</th>\n",
       "      <th>Recruited percentage</th>\n",
       "      <th>Recruitment potential</th>\n",
       "    </tr>\n",
       "  </thead>\n",
       "  <tbody>\n",
       "    <tr>\n",
       "      <th>0</th>\n",
       "      <td>mra26</td>\n",
       "      <td>[10, 30, 45]</td>\n",
       "      <td>[458.40117130279543, 1406.1211183943176, 1969....</td>\n",
       "      <td>[1367.135, 1944.058, 2571.724]</td>\n",
       "      <td>2622.866589</td>\n",
       "      <td>0.030899</td>\n",
       "      <td>[0, 1373.4339242285157, 1969.8752383276367]</td>\n",
       "      <td>[0, 24, 45]</td>\n",
       "      <td>[/mnt/hdsda3/arquivos/Recrutamento/CT_data_org...</td>\n",
       "      <td>[/mnt/hdsda3/arquivos/Recrutamento/CT_data_org...</td>\n",
       "      <td>[0.657497323175345, 0.8872168925301633, 1.0]</td>\n",
       "      <td>[0.34250267682465496, 0.11278310746983666, 0.0]</td>\n",
       "    </tr>\n",
       "    <tr>\n",
       "      <th>1</th>\n",
       "      <td>mra28</td>\n",
       "      <td>[10, 20, 25, 30, 45]</td>\n",
       "      <td>[539.5733922408295, 866.4519947195436, 1110.76...</td>\n",
       "      <td>[1283.233, 1660.177, 1847.163, 2051.841, 2076....</td>\n",
       "      <td>2105.897077</td>\n",
       "      <td>0.044662</td>\n",
       "      <td>[0, 1384.9271159648897, 1823.6774616718296]</td>\n",
       "      <td>[0, 24, 45]</td>\n",
       "      <td>[/mnt/hdsda3/arquivos/Recrutamento/CT_data_org...</td>\n",
       "      <td>[/mnt/hdsda3/arquivos/Recrutamento/CT_data_org...</td>\n",
       "      <td>[0.7112959429745049, 0.6965586330935198, 0.784...</td>\n",
       "      <td>[0.28870405702549506, 0.30344136690648016, 0.2...</td>\n",
       "    </tr>\n",
       "  </tbody>\n",
       "</table>\n",
       "</div>"
      ],
      "text/plain": [
       "  Animal              Pressure  \\\n",
       "0  mra26          [10, 30, 45]   \n",
       "1  mra28  [10, 20, 25, 30, 45]   \n",
       "\n",
       "                                           CT Volume  \\\n",
       "0  [458.40117130279543, 1406.1211183943176, 1969....   \n",
       "1  [539.5733922408295, 866.4519947195436, 1110.76...   \n",
       "\n",
       "                                       Volume (Luva)  Estimated TLC  \\\n",
       "0                     [1367.135, 1944.058, 2571.724]    2622.866589   \n",
       "1  [1283.233, 1660.177, 1847.163, 2051.841, 2076....    2105.897077   \n",
       "\n",
       "   Estimated K                              CT_Volume (rec) Pressure (rec)  \\\n",
       "0     0.030899  [0, 1373.4339242285157, 1969.8752383276367]    [0, 24, 45]   \n",
       "1     0.044662  [0, 1384.9271159648897, 1823.6774616718296]    [0, 24, 45]   \n",
       "\n",
       "                                          CT folders  \\\n",
       "0  [/mnt/hdsda3/arquivos/Recrutamento/CT_data_org...   \n",
       "1  [/mnt/hdsda3/arquivos/Recrutamento/CT_data_org...   \n",
       "\n",
       "                                    CT folders (rec)  \\\n",
       "0  [/mnt/hdsda3/arquivos/Recrutamento/CT_data_org...   \n",
       "1  [/mnt/hdsda3/arquivos/Recrutamento/CT_data_org...   \n",
       "\n",
       "                                Recruited percentage  \\\n",
       "0       [0.657497323175345, 0.8872168925301633, 1.0]   \n",
       "1  [0.7112959429745049, 0.6965586330935198, 0.784...   \n",
       "\n",
       "                               Recruitment potential  \n",
       "0    [0.34250267682465496, 0.11278310746983666, 0.0]  \n",
       "1  [0.28870405702549506, 0.30344136690648016, 0.2...  "
      ]
     },
     "execution_count": 11,
     "metadata": {},
     "output_type": "execute_result"
    }
   ],
   "source": [
    "dados_ct_df = pd.read_pickle('./volume_referencia/dados_ct_completo.pkl')\n",
    "dados_ct_df.head(2)"
   ]
  },
  {
   "cell_type": "code",
   "execution_count": null,
   "metadata": {},
   "outputs": [],
   "source": []
  }
 ],
 "metadata": {
  "kernelspec": {
   "display_name": "Python 3",
   "language": "python",
   "name": "python3"
  },
  "language_info": {
   "codemirror_mode": {
    "name": "ipython",
    "version": 3
   },
   "file_extension": ".py",
   "mimetype": "text/x-python",
   "name": "python",
   "nbconvert_exporter": "python",
   "pygments_lexer": "ipython3",
   "version": "3.8.5"
  }
 },
 "nbformat": 4,
 "nbformat_minor": 4
}
