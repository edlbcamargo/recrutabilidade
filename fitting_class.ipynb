{
 "cells": [
  {
   "cell_type": "markdown",
   "metadata": {},
   "source": [
    "Programa para testar as funções de ajuste dos modelos.\n",
    "\n",
    "Baseado em dados antigos (dados do artigo do modelo exponencial).\n",
    "\n",
    "Algumas funções não funcionam mais."
   ]
  },
  {
   "cell_type": "code",
   "execution_count": 1,
   "metadata": {
    "ExecuteTime": {
     "end_time": "2021-03-30T15:30:50.632816Z",
     "start_time": "2021-03-30T15:30:49.798100Z"
    }
   },
   "outputs": [],
   "source": [
    "import pandas as pd\n",
    "import numpy as np\n",
    "\n",
    "import class_pig  \n",
    "\n",
    "import glob\n",
    "import pickle\n",
    "\n",
    "import seaborn as sns\n",
    "import matplotlib.pyplot as plt\n",
    "plt.style.use('ggplot')\n",
    "\n",
    "import os\n",
    "from scipy.optimize import curve_fit\n",
    "\"\"\"\n",
    "CUIDADO!!\n",
    "\"\"\"\n",
    "import warnings\n",
    "warnings.filterwarnings(\"ignore\")"
   ]
  },
  {
   "cell_type": "code",
   "execution_count": 2,
   "metadata": {
    "ExecuteTime": {
     "end_time": "2021-03-30T15:30:50.826244Z",
     "start_time": "2021-03-30T15:30:50.635433Z"
    }
   },
   "outputs": [],
   "source": [
    "from fitterClass import funcFitter\n",
    "from utils import find_best_b, plot_exponentials"
   ]
  },
  {
   "cell_type": "markdown",
   "metadata": {},
   "source": [
    "* d para Doente\n",
    "* s para Saudavel"
   ]
  },
  {
   "cell_type": "markdown",
   "metadata": {
    "collapsed": "true"
   },
   "source": [
    "## Loading Data "
   ]
  },
  {
   "cell_type": "code",
   "execution_count": 3,
   "metadata": {
    "ExecuteTime": {
     "end_time": "2021-03-30T15:30:50.833820Z",
     "start_time": "2021-03-30T15:30:50.828263Z"
    }
   },
   "outputs": [],
   "source": [
    "with open(\"data//doente.txt\", \"r\") as file:\n",
    "    d_data = file.readlines()\n",
    "    #Cleaning\n",
    "    d_data = np.array([list(map(float, row.split())) for row in d_data if row != '\\n'])\n",
    "\n",
    "with open(\"data//normal.txt\", \"r\") as file:\n",
    "    s_data = file.readlines()\n",
    "    #Cleaning\n",
    "    s_data = np.array([list(map(float, row.split())) for row in s_data if row != '\\n'])\n",
    "    \n",
    "#with open(\"data//k_func.txt\", \"r\") as file: # k_func.txt não existe mais...\n",
    "with open(\"data//doente.txt\", \"r\") as file:\n",
    "    k_data = file.readlines()\n",
    "    #Cleaning\n",
    "    k_data = np.array([list(map(float, row.split())) for row in k_data if row != '\\n'])"
   ]
  },
  {
   "cell_type": "code",
   "execution_count": 4,
   "metadata": {
    "ExecuteTime": {
     "end_time": "2021-03-30T15:30:50.843355Z",
     "start_time": "2021-03-30T15:30:50.835279Z"
    }
   },
   "outputs": [
    {
     "data": {
      "text/plain": [
       "array([[ 1.05461847e+01, -3.24999420e-01],\n",
       "       [ 2.17429719e+01,  1.51937229e+02],\n",
       "       [ 1.54618474e+01,  1.13610511e+02],\n",
       "       [ 2.66586345e+01,  2.36971005e+02],\n",
       "       [ 2.03775100e+01,  2.73788797e+02],\n",
       "       [ 3.14377510e+01,  4.20317107e+02],\n",
       "       [ 2.54297189e+01,  4.74383081e+02],\n",
       "       [ 3.66265060e+01,  6.09304269e+02],\n",
       "       [ 3.04819277e+01,  6.51855979e+02],\n",
       "       [ 4.09959839e+01,  7.63887922e+02]])"
      ]
     },
     "execution_count": 4,
     "metadata": {},
     "output_type": "execute_result"
    }
   ],
   "source": [
    "k_data"
   ]
  },
  {
   "cell_type": "markdown",
   "metadata": {
    "collapsed": "true"
   },
   "source": [
    "## Cleaning "
   ]
  },
  {
   "cell_type": "code",
   "execution_count": 5,
   "metadata": {
    "ExecuteTime": {
     "end_time": "2021-03-30T15:30:50.850112Z",
     "start_time": "2021-03-30T15:30:50.845816Z"
    }
   },
   "outputs": [],
   "source": [
    "d_data[6,1] = 466 # valor corrigido"
   ]
  },
  {
   "cell_type": "markdown",
   "metadata": {},
   "source": [
    "## Fitting Sigmoid"
   ]
  },
  {
   "cell_type": "markdown",
   "metadata": {},
   "source": [
    "### Parameters"
   ]
  },
  {
   "cell_type": "code",
   "execution_count": 6,
   "metadata": {
    "ExecuteTime": {
     "end_time": "2021-03-30T15:30:50.857390Z",
     "start_time": "2021-03-30T15:30:50.851961Z"
    }
   },
   "outputs": [],
   "source": [
    "def sigmoid(x, a, b, c, d):\n",
    "    return a + b/(1 + np.exp(-(x-c)/d))\n",
    "\n",
    "def exponential(x, a, b, c, d):\n",
    "    return a - b*np.exp(-(x-c)/d)\n",
    "\n",
    "def exponential_cicle_fixed_b(x, a, c):\n",
    "    return -a*np.exp(-best_b*x)+c\n",
    "\n",
    "estimators = [\"lm\", \"trf\", \"dogbox\"]\n",
    "funcs = [sigmoid, exponential]"
   ]
  },
  {
   "cell_type": "markdown",
   "metadata": {
    "execution": {
     "iopub.execute_input": "2020-09-19T01:59:23.629662Z",
     "iopub.status.busy": "2020-09-19T01:59:23.629554Z",
     "iopub.status.idle": "2020-09-19T01:59:23.631870Z",
     "shell.execute_reply": "2020-09-19T01:59:23.631344Z",
     "shell.execute_reply.started": "2020-09-19T01:59:23.629648Z"
    }
   },
   "source": [
    "### K data"
   ]
  },
  {
   "cell_type": "code",
   "execution_count": 7,
   "metadata": {
    "ExecuteTime": {
     "end_time": "2021-03-30T15:30:54.057657Z",
     "start_time": "2021-03-30T15:30:50.858886Z"
    }
   },
   "outputs": [
    {
     "data": {
      "text/html": [
       "<div>\n",
       "<style scoped>\n",
       "    .dataframe tbody tr th:only-of-type {\n",
       "        vertical-align: middle;\n",
       "    }\n",
       "\n",
       "    .dataframe tbody tr th {\n",
       "        vertical-align: top;\n",
       "    }\n",
       "\n",
       "    .dataframe thead th {\n",
       "        text-align: right;\n",
       "    }\n",
       "</style>\n",
       "<table border=\"1\" class=\"dataframe\">\n",
       "  <thead>\n",
       "    <tr style=\"text-align: right;\">\n",
       "      <th></th>\n",
       "      <th>subject</th>\n",
       "      <th>manobra</th>\n",
       "      <th>n_point</th>\n",
       "      <th>function</th>\n",
       "      <th>function_name</th>\n",
       "      <th>estimator</th>\n",
       "      <th>error</th>\n",
       "      <th>param</th>\n",
       "      <th>interp_point</th>\n",
       "      <th>interp_pressure</th>\n",
       "      <th>interp_volume</th>\n",
       "      <th>raw_data</th>\n",
       "    </tr>\n",
       "  </thead>\n",
       "  <tbody>\n",
       "    <tr>\n",
       "      <th>0</th>\n",
       "      <td>mra26</td>\n",
       "      <td>D</td>\n",
       "      <td>5</td>\n",
       "      <td>&lt;function sigmoid at 0x7f443c44e310&gt;</td>\n",
       "      <td>sigmoid</td>\n",
       "      <td>trf</td>\n",
       "      <td>1.239690</td>\n",
       "      <td>[-137.47245572541627, 1075.4302113641606, 23.5...</td>\n",
       "      <td>5</td>\n",
       "      <td>[10.546184739, 15.53012048195, 20.514056224900...</td>\n",
       "      <td>[-0.324999419644, 115.83520981764416, 279.2102...</td>\n",
       "      <td>[[10.546184739, -0.324999419644], [21.74297188...</td>\n",
       "    </tr>\n",
       "    <tr>\n",
       "      <th>1</th>\n",
       "      <td>mra26</td>\n",
       "      <td>D</td>\n",
       "      <td>5</td>\n",
       "      <td>&lt;function sigmoid at 0x7f443c44e310&gt;</td>\n",
       "      <td>sigmoid</td>\n",
       "      <td>trf</td>\n",
       "      <td>3.143767</td>\n",
       "      <td>[-161.87190596778518, 1151.0165358156034, 23.9...</td>\n",
       "      <td>10</td>\n",
       "      <td>[10.546184739, 12.761267291422222, 14.97634984...</td>\n",
       "      <td>[-0.324999419644, 51.016311015736, 102.3576214...</td>\n",
       "      <td>[[10.546184739, -0.324999419644], [21.74297188...</td>\n",
       "    </tr>\n",
       "  </tbody>\n",
       "</table>\n",
       "</div>"
      ],
      "text/plain": [
       "  subject manobra  n_point                              function  \\\n",
       "0   mra26       D        5  <function sigmoid at 0x7f443c44e310>   \n",
       "1   mra26       D        5  <function sigmoid at 0x7f443c44e310>   \n",
       "\n",
       "  function_name estimator     error  \\\n",
       "0       sigmoid       trf  1.239690   \n",
       "1       sigmoid       trf  3.143767   \n",
       "\n",
       "                                               param  interp_point  \\\n",
       "0  [-137.47245572541627, 1075.4302113641606, 23.5...             5   \n",
       "1  [-161.87190596778518, 1151.0165358156034, 23.9...            10   \n",
       "\n",
       "                                     interp_pressure  \\\n",
       "0  [10.546184739, 15.53012048195, 20.514056224900...   \n",
       "1  [10.546184739, 12.761267291422222, 14.97634984...   \n",
       "\n",
       "                                       interp_volume  \\\n",
       "0  [-0.324999419644, 115.83520981764416, 279.2102...   \n",
       "1  [-0.324999419644, 51.016311015736, 102.3576214...   \n",
       "\n",
       "                                            raw_data  \n",
       "0  [[10.546184739, -0.324999419644], [21.74297188...  \n",
       "1  [[10.546184739, -0.324999419644], [21.74297188...  "
      ]
     },
     "execution_count": 7,
     "metadata": {},
     "output_type": "execute_result"
    }
   ],
   "source": [
    "#Interpolando\n",
    "# funcFitter(subject:str, manobra:str, raw_data, data:np.ndarray, n_point:int=5, estimators:list=[\"lm\"])\n",
    "fitter_k = funcFitter(\"mra26\", \"D\", k_data, k_data[0::2, :], n_point = 5, estimators = estimators)\n",
    "k_df = fitter_k.fit(funcs=funcs, interpolate=True, n_interp_point=100, interp_method=\"linear\")\n",
    "k_df.to_csv(os.path.join(\"data\",\"k_df.csv\"), index = False)\n",
    "k_df.head(2)"
   ]
  },
  {
   "cell_type": "code",
   "execution_count": 8,
   "metadata": {
    "ExecuteTime": {
     "end_time": "2021-03-30T15:30:54.970825Z",
     "start_time": "2021-03-30T15:30:54.059652Z"
    }
   },
   "outputs": [
    {
     "data": {
      "image/png": "[encoded data removed]",
      "text/plain": [
       "<Figure size 720x576 with 4 Axes>"
      ]
     },
     "metadata": {},
     "output_type": "display_data"
    }
   ],
   "source": [
    "fitter_k.make_plot(df = k_df, n_best = 4)"
   ]
  },
  {
   "cell_type": "code",
   "execution_count": 9,
   "metadata": {
    "ExecuteTime": {
     "end_time": "2021-03-30T15:30:55.046919Z",
     "start_time": "2021-03-30T15:30:54.973016Z"
    }
   },
   "outputs": [
    {
     "data": {
      "text/html": [
       "<div>\n",
       "<style scoped>\n",
       "    .dataframe tbody tr th:only-of-type {\n",
       "        vertical-align: middle;\n",
       "    }\n",
       "\n",
       "    .dataframe tbody tr th {\n",
       "        vertical-align: top;\n",
       "    }\n",
       "\n",
       "    .dataframe thead th {\n",
       "        text-align: right;\n",
       "    }\n",
       "</style>\n",
       "<table border=\"1\" class=\"dataframe\">\n",
       "  <thead>\n",
       "    <tr style=\"text-align: right;\">\n",
       "      <th></th>\n",
       "      <th>subject</th>\n",
       "      <th>manobra</th>\n",
       "      <th>n_point</th>\n",
       "      <th>function</th>\n",
       "      <th>function_name</th>\n",
       "      <th>estimator</th>\n",
       "      <th>error</th>\n",
       "      <th>param</th>\n",
       "      <th>interp_point</th>\n",
       "      <th>interp_pressure</th>\n",
       "      <th>interp_volume</th>\n",
       "      <th>raw_data</th>\n",
       "    </tr>\n",
       "  </thead>\n",
       "  <tbody>\n",
       "    <tr>\n",
       "      <th>0</th>\n",
       "      <td>mra26</td>\n",
       "      <td>D</td>\n",
       "      <td>5</td>\n",
       "      <td>&lt;function sigmoid at 0x7f443c44e310&gt;</td>\n",
       "      <td>sigmoid</td>\n",
       "      <td>trf</td>\n",
       "      <td>1.239690</td>\n",
       "      <td>[-137.47245572541627, 1075.4302113641606, 23.5...</td>\n",
       "      <td>5</td>\n",
       "      <td>[10.546184739, 15.53012048195, 20.514056224900...</td>\n",
       "      <td>[-0.324999419644, 115.83520981764416, 279.2102...</td>\n",
       "      <td>[[10.546184739, -0.324999419644], [21.74297188...</td>\n",
       "    </tr>\n",
       "    <tr>\n",
       "      <th>1</th>\n",
       "      <td>mra26</td>\n",
       "      <td>D</td>\n",
       "      <td>5</td>\n",
       "      <td>&lt;function sigmoid at 0x7f443c44e310&gt;</td>\n",
       "      <td>sigmoid</td>\n",
       "      <td>trf</td>\n",
       "      <td>3.143767</td>\n",
       "      <td>[-161.87190596778518, 1151.0165358156034, 23.9...</td>\n",
       "      <td>10</td>\n",
       "      <td>[10.546184739, 12.761267291422222, 14.97634984...</td>\n",
       "      <td>[-0.324999419644, 51.016311015736, 102.3576214...</td>\n",
       "      <td>[[10.546184739, -0.324999419644], [21.74297188...</td>\n",
       "    </tr>\n",
       "    <tr>\n",
       "      <th>2</th>\n",
       "      <td>mra26</td>\n",
       "      <td>D</td>\n",
       "      <td>5</td>\n",
       "      <td>&lt;function sigmoid at 0x7f443c44e310&gt;</td>\n",
       "      <td>sigmoid</td>\n",
       "      <td>trf</td>\n",
       "      <td>3.215376</td>\n",
       "      <td>[-155.40888496514634, 1134.4780277528992, 23.8...</td>\n",
       "      <td>15</td>\n",
       "      <td>[10.546184739, 11.970166379842857, 13.39414802...</td>\n",
       "      <td>[-0.324999419644, 32.680128717386005, 65.68525...</td>\n",
       "      <td>[[10.546184739, -0.324999419644], [21.74297188...</td>\n",
       "    </tr>\n",
       "    <tr>\n",
       "      <th>3</th>\n",
       "      <td>mra26</td>\n",
       "      <td>D</td>\n",
       "      <td>5</td>\n",
       "      <td>&lt;function sigmoid at 0x7f443c44e310&gt;</td>\n",
       "      <td>sigmoid</td>\n",
       "      <td>trf</td>\n",
       "      <td>3.271205</td>\n",
       "      <td>[-151.49256349688173, 1121.6478374278165, 23.8...</td>\n",
       "      <td>20</td>\n",
       "      <td>[10.546184739, 11.595434369094736, 12.64468399...</td>\n",
       "      <td>[-0.324999419644, 23.99456868132547, 48.314136...</td>\n",
       "      <td>[[10.546184739, -0.324999419644], [21.74297188...</td>\n",
       "    </tr>\n",
       "    <tr>\n",
       "      <th>4</th>\n",
       "      <td>mra26</td>\n",
       "      <td>D</td>\n",
       "      <td>5</td>\n",
       "      <td>&lt;function sigmoid at 0x7f443c44e310&gt;</td>\n",
       "      <td>sigmoid</td>\n",
       "      <td>trf</td>\n",
       "      <td>3.289887</td>\n",
       "      <td>[-148.6575105444855, 1113.3134482730886, 23.79...</td>\n",
       "      <td>25</td>\n",
       "      <td>[10.546184739, 11.376840696158332, 12.20749665...</td>\n",
       "      <td>[-0.324999419644, 18.927991993623493, 38.18098...</td>\n",
       "      <td>[[10.546184739, -0.324999419644], [21.74297188...</td>\n",
       "    </tr>\n",
       "    <tr>\n",
       "      <th>...</th>\n",
       "      <td>...</td>\n",
       "      <td>...</td>\n",
       "      <td>...</td>\n",
       "      <td>...</td>\n",
       "      <td>...</td>\n",
       "      <td>...</td>\n",
       "      <td>...</td>\n",
       "      <td>...</td>\n",
       "      <td>...</td>\n",
       "      <td>...</td>\n",
       "      <td>...</td>\n",
       "      <td>...</td>\n",
       "    </tr>\n",
       "    <tr>\n",
       "      <th>63</th>\n",
       "      <td>mra26</td>\n",
       "      <td>D</td>\n",
       "      <td>5</td>\n",
       "      <td>&lt;function exponential at 0x7f43e00b0040&gt;</td>\n",
       "      <td>exponential</td>\n",
       "      <td>dogbox</td>\n",
       "      <td>68.596607</td>\n",
       "      <td>[803.106006428429, 941.663542975223, 10.0, 15.0]</td>\n",
       "      <td>65</td>\n",
       "      <td>[10.546184739, 10.857680722934374, 11.16917670...</td>\n",
       "      <td>[-0.324999419644, 6.8948723603313065, 14.11474...</td>\n",
       "      <td>[[10.546184739, -0.324999419644], [21.74297188...</td>\n",
       "    </tr>\n",
       "    <tr>\n",
       "      <th>64</th>\n",
       "      <td>mra26</td>\n",
       "      <td>D</td>\n",
       "      <td>5</td>\n",
       "      <td>&lt;function exponential at 0x7f43e00b0040&gt;</td>\n",
       "      <td>exponential</td>\n",
       "      <td>dogbox</td>\n",
       "      <td>68.647009</td>\n",
       "      <td>[803.1443820777089, 127.48469754649754, 39.999...</td>\n",
       "      <td>70</td>\n",
       "      <td>[10.546184739, 10.835108550185506, 11.12403236...</td>\n",
       "      <td>[-0.324999419644, 6.371693245840338, 13.068385...</td>\n",
       "      <td>[[10.546184739, -0.324999419644], [21.74297188...</td>\n",
       "    </tr>\n",
       "    <tr>\n",
       "      <th>65</th>\n",
       "      <td>mra26</td>\n",
       "      <td>D</td>\n",
       "      <td>5</td>\n",
       "      <td>&lt;function exponential at 0x7f43e00b0040&gt;</td>\n",
       "      <td>exponential</td>\n",
       "      <td>dogbox</td>\n",
       "      <td>68.686062</td>\n",
       "      <td>[803.1844436306474, 127.51562909768342, 39.999...</td>\n",
       "      <td>75</td>\n",
       "      <td>[10.546184739, 10.815586671051351, 11.08498860...</td>\n",
       "      <td>[-0.324999419644, 5.919214011686012, 12.163427...</td>\n",
       "      <td>[[10.546184739, -0.324999419644], [21.74297188...</td>\n",
       "    </tr>\n",
       "    <tr>\n",
       "      <th>66</th>\n",
       "      <td>mra26</td>\n",
       "      <td>D</td>\n",
       "      <td>5</td>\n",
       "      <td>&lt;function exponential at 0x7f43e00b0040&gt;</td>\n",
       "      <td>exponential</td>\n",
       "      <td>dogbox</td>\n",
       "      <td>68.722692</td>\n",
       "      <td>[803.2163418026074, 942.4164698064305, 10.0, 1...</td>\n",
       "      <td>80</td>\n",
       "      <td>[10.546184739, 10.798535915858228, 11.05088709...</td>\n",
       "      <td>[-0.324999419644, 5.524010629956268, 11.373020...</td>\n",
       "      <td>[[10.546184739, -0.324999419644], [21.74297188...</td>\n",
       "    </tr>\n",
       "    <tr>\n",
       "      <th>67</th>\n",
       "      <td>mra26</td>\n",
       "      <td>D</td>\n",
       "      <td>5</td>\n",
       "      <td>&lt;function exponential at 0x7f43e00b0040&gt;</td>\n",
       "      <td>exponential</td>\n",
       "      <td>dogbox</td>\n",
       "      <td>68.785064</td>\n",
       "      <td>[803.2698741294015, 127.59201114436443, 40.0, ...</td>\n",
       "      <td>90</td>\n",
       "      <td>[10.546184739, 10.770181851042697, 10.99417896...</td>\n",
       "      <td>[-0.324999419644, 4.866818489551752, 10.058636...</td>\n",
       "      <td>[[10.546184739, -0.324999419644], [21.74297188...</td>\n",
       "    </tr>\n",
       "  </tbody>\n",
       "</table>\n",
       "<p>68 rows × 12 columns</p>\n",
       "</div>"
      ],
      "text/plain": [
       "   subject manobra  n_point                                  function  \\\n",
       "0    mra26       D        5      <function sigmoid at 0x7f443c44e310>   \n",
       "1    mra26       D        5      <function sigmoid at 0x7f443c44e310>   \n",
       "2    mra26       D        5      <function sigmoid at 0x7f443c44e310>   \n",
       "3    mra26       D        5      <function sigmoid at 0x7f443c44e310>   \n",
       "4    mra26       D        5      <function sigmoid at 0x7f443c44e310>   \n",
       "..     ...     ...      ...                                       ...   \n",
       "63   mra26       D        5  <function exponential at 0x7f43e00b0040>   \n",
       "64   mra26       D        5  <function exponential at 0x7f43e00b0040>   \n",
       "65   mra26       D        5  <function exponential at 0x7f43e00b0040>   \n",
       "66   mra26       D        5  <function exponential at 0x7f43e00b0040>   \n",
       "67   mra26       D        5  <function exponential at 0x7f43e00b0040>   \n",
       "\n",
       "   function_name estimator      error  \\\n",
       "0        sigmoid       trf   1.239690   \n",
       "1        sigmoid       trf   3.143767   \n",
       "2        sigmoid       trf   3.215376   \n",
       "3        sigmoid       trf   3.271205   \n",
       "4        sigmoid       trf   3.289887   \n",
       "..           ...       ...        ...   \n",
       "63   exponential    dogbox  68.596607   \n",
       "64   exponential    dogbox  68.647009   \n",
       "65   exponential    dogbox  68.686062   \n",
       "66   exponential    dogbox  68.722692   \n",
       "67   exponential    dogbox  68.785064   \n",
       "\n",
       "                                                param  interp_point  \\\n",
       "0   [-137.47245572541627, 1075.4302113641606, 23.5...             5   \n",
       "1   [-161.87190596778518, 1151.0165358156034, 23.9...            10   \n",
       "2   [-155.40888496514634, 1134.4780277528992, 23.8...            15   \n",
       "3   [-151.49256349688173, 1121.6478374278165, 23.8...            20   \n",
       "4   [-148.6575105444855, 1113.3134482730886, 23.79...            25   \n",
       "..                                                ...           ...   \n",
       "63   [803.106006428429, 941.663542975223, 10.0, 15.0]            65   \n",
       "64  [803.1443820777089, 127.48469754649754, 39.999...            70   \n",
       "65  [803.1844436306474, 127.51562909768342, 39.999...            75   \n",
       "66  [803.2163418026074, 942.4164698064305, 10.0, 1...            80   \n",
       "67  [803.2698741294015, 127.59201114436443, 40.0, ...            90   \n",
       "\n",
       "                                      interp_pressure  \\\n",
       "0   [10.546184739, 15.53012048195, 20.514056224900...   \n",
       "1   [10.546184739, 12.761267291422222, 14.97634984...   \n",
       "2   [10.546184739, 11.970166379842857, 13.39414802...   \n",
       "3   [10.546184739, 11.595434369094736, 12.64468399...   \n",
       "4   [10.546184739, 11.376840696158332, 12.20749665...   \n",
       "..                                                ...   \n",
       "63  [10.546184739, 10.857680722934374, 11.16917670...   \n",
       "64  [10.546184739, 10.835108550185506, 11.12403236...   \n",
       "65  [10.546184739, 10.815586671051351, 11.08498860...   \n",
       "66  [10.546184739, 10.798535915858228, 11.05088709...   \n",
       "67  [10.546184739, 10.770181851042697, 10.99417896...   \n",
       "\n",
       "                                        interp_volume  \\\n",
       "0   [-0.324999419644, 115.83520981764416, 279.2102...   \n",
       "1   [-0.324999419644, 51.016311015736, 102.3576214...   \n",
       "2   [-0.324999419644, 32.680128717386005, 65.68525...   \n",
       "3   [-0.324999419644, 23.99456868132547, 48.314136...   \n",
       "4   [-0.324999419644, 18.927991993623493, 38.18098...   \n",
       "..                                                ...   \n",
       "63  [-0.324999419644, 6.8948723603313065, 14.11474...   \n",
       "64  [-0.324999419644, 6.371693245840338, 13.068385...   \n",
       "65  [-0.324999419644, 5.919214011686012, 12.163427...   \n",
       "66  [-0.324999419644, 5.524010629956268, 11.373020...   \n",
       "67  [-0.324999419644, 4.866818489551752, 10.058636...   \n",
       "\n",
       "                                             raw_data  \n",
       "0   [[10.546184739, -0.324999419644], [21.74297188...  \n",
       "1   [[10.546184739, -0.324999419644], [21.74297188...  \n",
       "2   [[10.546184739, -0.324999419644], [21.74297188...  \n",
       "3   [[10.546184739, -0.324999419644], [21.74297188...  \n",
       "4   [[10.546184739, -0.324999419644], [21.74297188...  \n",
       "..                                                ...  \n",
       "63  [[10.546184739, -0.324999419644], [21.74297188...  \n",
       "64  [[10.546184739, -0.324999419644], [21.74297188...  \n",
       "65  [[10.546184739, -0.324999419644], [21.74297188...  \n",
       "66  [[10.546184739, -0.324999419644], [21.74297188...  \n",
       "67  [[10.546184739, -0.324999419644], [21.74297188...  \n",
       "\n",
       "[68 rows x 12 columns]"
      ]
     },
     "execution_count": 9,
     "metadata": {},
     "output_type": "execute_result"
    }
   ],
   "source": [
    "k_df"
   ]
  },
  {
   "cell_type": "code",
   "execution_count": 10,
   "metadata": {
    "ExecuteTime": {
     "end_time": "2021-03-30T15:30:55.051512Z",
     "start_time": "2021-03-30T15:30:55.048786Z"
    }
   },
   "outputs": [],
   "source": [
    "### ESTAS FUNÇÕES NÃO FUNCIONAM MAIS COM ESSES PARÂMETROS...\n",
    "#best_b, guess_zero = find_best_b(k_df, raw_pressures=k_data,  b_percentage_range=(0.05,0.125), step=0.001, plot_figure=False)\n",
    "#plot_exponentials(best_b, guess_zero, k_df, k_data, exponential_cicle_fixed_b)"
   ]
  }
 ],
 "metadata": {
  "kernelspec": {
   "display_name": "Python 3",
   "language": "python",
   "name": "python3"
  },
  "language_info": {
   "codemirror_mode": {
    "name": "ipython",
    "version": 3
   },
   "file_extension": ".py",
   "mimetype": "text/x-python",
   "name": "python",
   "nbconvert_exporter": "python",
   "pygments_lexer": "ipython3",
   "version": "3.8.5"
  },
  "toc": {
   "base_numbering": 1,
   "nav_menu": {},
   "number_sections": true,
   "sideBar": true,
   "skip_h1_title": false,
   "title_cell": "Table of Contents",
   "title_sidebar": "Contents",
   "toc_cell": false,
   "toc_position": {},
   "toc_section_display": true,
   "toc_window_display": false
  }
 },
 "nbformat": 4,
 "nbformat_minor": 4
}
