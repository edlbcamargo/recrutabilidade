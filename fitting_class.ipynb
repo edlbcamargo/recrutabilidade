{
 "cells": [
  {
   "cell_type": "code",
   "execution_count": 1,
   "metadata": {
    "ExecuteTime": {
     "end_time": "2020-08-24T00:00:29.795704Z",
     "start_time": "2020-08-24T00:00:10.177642Z"
    }
   },
   "outputs": [],
   "source": [
    "import pandas as pd\n",
    "import numpy as np\n",
    "\n",
    "import pig_class  \n",
    "\n",
    "import glob\n",
    "import pickle\n",
    "\n",
    "import seaborn as sns\n",
    "import matplotlib.pyplot as plt\n",
    "plt.style.use('ggplot')\n",
    "\n",
    "import os\n",
    "from scipy.optimize import curve_fit\n",
    "\"\"\"\n",
    "CUIDADO!!\n",
    "\"\"\"\n",
    "import warnings\n",
    "warnings.filterwarnings(\"ignore\")"
   ]
  },
  {
   "cell_type": "code",
   "execution_count": 2,
   "metadata": {},
   "outputs": [],
   "source": [
    "from fitterClass import funcFitter\n",
    "from utils import find_best_b, plot_exponentials"
   ]
  },
  {
   "cell_type": "markdown",
   "metadata": {},
   "source": [
    "* d para Doente\n",
    "* s para Saudavel"
   ]
  },
  {
   "cell_type": "markdown",
   "metadata": {},
   "source": [
    "## Loading Data "
   ]
  },
  {
   "cell_type": "code",
   "execution_count": 3,
   "metadata": {
    "ExecuteTime": {
     "end_time": "2020-08-24T00:00:34.291705Z",
     "start_time": "2020-08-24T00:00:34.284705Z"
    }
   },
   "outputs": [],
   "source": [
    "with open(\"data//doente.txt\", \"r\") as file:\n",
    "    d_data = file.readlines()\n",
    "    #Cleaning\n",
    "    d_data = np.array([list(map(float, row.split())) for row in d_data if row != '\\n'])\n",
    "\n",
    "with open(\"data//normal.txt\", \"r\") as file:\n",
    "    s_data = file.readlines()\n",
    "    #Cleaning\n",
    "    s_data = np.array([list(map(float, row.split())) for row in s_data if row != '\\n'])\n",
    "    \n",
    "with open(\"data//k_func.txt\", \"r\") as file:\n",
    "    k_data = file.readlines()\n",
    "    #Cleaning\n",
    "    k_data = np.array([list(map(float, row.split())) for row in k_data if row != '\\n'])"
   ]
  },
  {
   "cell_type": "code",
   "execution_count": 8,
   "metadata": {},
   "outputs": [
    {
     "data": {
      "text/plain": [
       "array([[  10.17812538, -197.85173035],\n",
       "       [  20.55937481,  -50.39464188],\n",
       "       [  15.21249962,  -95.13343811],\n",
       "       [  25.51250076,   41.52325439],\n",
       "       [  20.421875  ,   97.13526917],\n",
       "       [  30.65312481,  271.86264038],\n",
       "       [  25.34687519,  373.07644653],\n",
       "       [  35.64375114,  563.88049316],\n",
       "       [  30.46250057,  707.39672852],\n",
       "       [  40.765625  ,  864.88140869]])"
      ]
     },
     "execution_count": 8,
     "metadata": {},
     "output_type": "execute_result"
    }
   ],
   "source": [
    "k_data"
   ]
  },
  {
   "cell_type": "markdown",
   "metadata": {},
   "source": [
    "## Cleaning "
   ]
  },
  {
   "cell_type": "code",
   "execution_count": 4,
   "metadata": {
    "ExecuteTime": {
     "end_time": "2020-08-24T00:00:35.136902Z",
     "start_time": "2020-08-24T00:00:35.133902Z"
    }
   },
   "outputs": [],
   "source": [
    "d_data[6,1] = 466 # valor corrigido"
   ]
  },
  {
   "cell_type": "markdown",
   "metadata": {},
   "source": [
    "## Fitting Sigmoid"
   ]
  },
  {
   "cell_type": "markdown",
   "metadata": {},
   "source": [
    "### Parameters"
   ]
  },
  {
   "cell_type": "code",
   "execution_count": 5,
   "metadata": {
    "ExecuteTime": {
     "end_time": "2020-08-24T00:00:37.943106Z",
     "start_time": "2020-08-24T00:00:37.938106Z"
    }
   },
   "outputs": [],
   "source": [
    "def sigmoid(x, a, b, c, d):\n",
    "    return a + b/(1 + np.exp(-(x-c)/d))\n",
    "\n",
    "def exponential(x, a, b, c, d):\n",
    "    return a - b*np.exp(-(x-c)/d)\n",
    "\n",
    "def exponential_cicle_fixed_b(x, a, c):\n",
    "    return -a*np.exp(-best_b*x)+c\n",
    "\n",
    "estimators = [\"lm\", \"trf\", \"dogbox\"]\n",
    "funcs = [sigmoid, exponential]"
   ]
  },
  {
   "cell_type": "markdown",
   "metadata": {},
   "source": [
    "### Injuried"
   ]
  },
  {
   "cell_type": "code",
   "execution_count": 9,
   "metadata": {
    "ExecuteTime": {
     "end_time": "2020-08-24T00:00:41.671336Z",
     "start_time": "2020-08-24T00:00:39.053107Z"
    }
   },
   "outputs": [],
   "source": [
    "#Interpolando\n",
    "fitter = funcFitter(\"mra26\", \"D\", d_data[0::2, :], n_point = 5, estimators = estimators)\n",
    "injuried_D_5 = fitter.fit(funcs=funcs, interpolate=True, n_interp_point=20, interp_method=\"linear\")\n",
    "\n",
    "fitter = funcFitter(\"mra26\", \"D\", d_data[0::2, :], n_point = 4, estimators = estimators)\n",
    "injuried_D_4 = fitter.fit(funcs=funcs, interpolate=True, n_interp_point=20, interp_method=\"linear\")"
   ]
  },
  {
   "cell_type": "code",
   "execution_count": null,
   "metadata": {},
   "outputs": [],
   "source": [
    "nome_porquinhos = [\"mra26\"]\n",
    "manobras_lst = [\"B\", \"C\", \"D\"]\n",
    "n_point = [3,4,5]\n",
    "subject_lst = [1]"
   ]
  },
  {
   "cell_type": "code",
   "execution_count": null,
   "metadata": {},
   "outputs": [],
   "source": [
    "for file_name in glob.glob('porquinhos/*'):\n",
    "    print(file_name)\n",
    "    with open(file_name, \"rb\") as file:\n",
    "        porquinho = pickle.load(file)"
   ]
  },
  {
   "cell_type": "code",
   "execution_count": null,
   "metadata": {},
   "outputs": [],
   "source": [
    "porquinho.manobra[\"B\"]"
   ]
  },
  {
   "cell_type": "code",
   "execution_count": null,
   "metadata": {},
   "outputs": [],
   "source": [
    "k_data"
   ]
  },
  {
   "cell_type": "code",
   "execution_count": null,
   "metadata": {},
   "outputs": [],
   "source": [
    "porquinho.p_e\n",
    "\n",
    "with open(\"k_func.txt\", \"wt\") as file:\n",
    "    for pi, pe, wi, we in zip(p_i, p_e, w_i, w_e):\n"
   ]
  },
  {
   "cell_type": "code",
   "execution_count": null,
   "metadata": {},
   "outputs": [],
   "source": [
    "opa=pd.concat([injuried_D_5, injuried_D_4])\n",
    "opa.groupby(\"n_point\").mean()"
   ]
  },
  {
   "cell_type": "code",
   "execution_count": null,
   "metadata": {
    "ExecuteTime": {
     "end_time": "2020-08-24T00:00:42.643336Z",
     "start_time": "2020-08-24T00:00:42.275337Z"
    }
   },
   "outputs": [],
   "source": [
    "fitter.make_plot(df = injuried, n_best = 2)"
   ]
  },
  {
   "cell_type": "code",
   "execution_count": null,
   "metadata": {},
   "outputs": [],
   "source": [
    "best_b, guess_zero = find_best_b(injuried, raw_pressures=d_data,  b_percentage_range=(0.05,0.125), step=0.001, plot_figure=False)\n",
    "\n",
    "plot_exponentials(best_b, guess_zero, injuried, d_data, exponential_cicle_fixed_b)"
   ]
  },
  {
   "cell_type": "markdown",
   "metadata": {
    "execution": {
     "iopub.execute_input": "2020-09-19T01:59:23.629662Z",
     "iopub.status.busy": "2020-09-19T01:59:23.629554Z",
     "iopub.status.idle": "2020-09-19T01:59:23.631870Z",
     "shell.execute_reply": "2020-09-19T01:59:23.631344Z",
     "shell.execute_reply.started": "2020-09-19T01:59:23.629648Z"
    },
    "jupyter": {
     "source_hidden": true
    }
   },
   "source": [
    "### K data"
   ]
  },
  {
   "cell_type": "code",
   "execution_count": null,
   "metadata": {},
   "outputs": [],
   "source": [
    "#Interpolando\n",
    "fitter_k = funcFitter(k_data[0::2, :], n_point = 5, estimators = estimators)\n",
    "k_df = fitter_k.fit(funcs=funcs, interpolate=True, n_interp_point=100, interp_method=\"linear\")\n",
    "k_df.to_csv(os.path.join(\"data\",\"k_df.csv\"), index = False)\n",
    "k_df.head(2)"
   ]
  },
  {
   "cell_type": "code",
   "execution_count": null,
   "metadata": {},
   "outputs": [],
   "source": [
    "fitter_k.make_plot(df = k_df, n_best = 4)"
   ]
  },
  {
   "cell_type": "code",
   "execution_count": null,
   "metadata": {},
   "outputs": [],
   "source": []
  },
  {
   "cell_type": "code",
   "execution_count": null,
   "metadata": {
    "ExecuteTime": {
     "end_time": "2020-08-24T00:00:45.291337Z",
     "start_time": "2020-08-24T00:00:44.697336Z"
    }
   },
   "outputs": [],
   "source": [
    "best_b, guess_zero = find_best_b(k_df, raw_pressures=k_data,  b_percentage_range=(0.05,0.125), step=0.001, plot_figure=False)\n",
    "\n",
    "plot_exponentials(best_b, guess_zero, k_df, k_data, exponential_cicle_fixed_b)"
   ]
  },
  {
   "cell_type": "code",
   "execution_count": null,
   "metadata": {},
   "outputs": [],
   "source": [
    "best_b, guess_zero = find_best_b(injuried, raw_pressures=d_data,  b_percentage_range=(0.05,0.125), step=0.001, plot_figure=False)\n",
    "\n",
    "plot_exponentials(best_b, guess_zero, injuried, d_data, exponential_cicle_fixed_b)"
   ]
  },
  {
   "cell_type": "markdown",
   "metadata": {},
   "source": [
    "### Healthy"
   ]
  },
  {
   "cell_type": "code",
   "execution_count": null,
   "metadata": {
    "ExecuteTime": {
     "end_time": "2020-08-24T00:00:46.158337Z",
     "start_time": "2020-08-24T00:00:46.101337Z"
    }
   },
   "outputs": [],
   "source": [
    "#Interpolando\n",
    "fitter = funcFitter(s_data[0::2, :], n_point = 5, estimators = estimators)\n",
    "healthy = fitter.fit(funcs=funcs, interpolate=True, n_interp_point=10, interp_method=\"linear\")"
   ]
  },
  {
   "cell_type": "code",
   "execution_count": null,
   "metadata": {
    "ExecuteTime": {
     "end_time": "2020-08-24T00:00:46.999455Z",
     "start_time": "2020-08-24T00:00:46.469337Z"
    }
   },
   "outputs": [],
   "source": [
    "fitter.make_plot(df = healthy, n_best = 5)"
   ]
  },
  {
   "cell_type": "code",
   "execution_count": null,
   "metadata": {},
   "outputs": [],
   "source": [
    "best_b, guess_zero = find_best_b(healthy, raw_pressures=s_data,  b_percentage_range=(0.05,0.125), step=0.001, plot_figure=False)\n",
    "\n",
    "plot_exponentials(best_b, guess_zero, healthy, s_data, exponential_cicle_fixed_b)"
   ]
  }
 ],
 "metadata": {
  "kernelspec": {
   "display_name": "venv_tie",
   "language": "python",
   "name": "venv_tie"
  },
  "language_info": {
   "codemirror_mode": {
    "name": "ipython",
    "version": 3
   },
   "file_extension": ".py",
   "mimetype": "text/x-python",
   "name": "python",
   "nbconvert_exporter": "python",
   "pygments_lexer": "ipython3",
   "version": "3.8.5"
  },
  "toc": {
   "base_numbering": 1,
   "nav_menu": {},
   "number_sections": true,
   "sideBar": true,
   "skip_h1_title": false,
   "title_cell": "Table of Contents",
   "title_sidebar": "Contents",
   "toc_cell": false,
   "toc_position": {},
   "toc_section_display": true,
   "toc_window_display": false
  }
 },
 "nbformat": 4,
 "nbformat_minor": 4
}
