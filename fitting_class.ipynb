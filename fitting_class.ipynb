{
 "cells": [
  {
   "cell_type": "code",
   "execution_count": 1,
   "metadata": {
    "ExecuteTime": {
     "end_time": "2020-08-18T23:52:13.779575Z",
     "start_time": "2020-08-18T23:52:13.129577Z"
    }
   },
   "outputs": [],
   "source": [
    "import pandas as pd\n",
    "import numpy as np\n",
    "\n",
    "import seaborn as sns\n",
    "import matplotlib.pyplot as plt\n",
    "plt.style.use('ggplot')\n",
    "\n",
    "import os\n",
    "from scipy.optimize import curve_fit\n",
    "\"\"\"\n",
    "CUIDADO!!\n",
    "\"\"\"\n",
    "import warnings\n",
    "warnings.filterwarnings(\"ignore\")"
   ]
  },
  {
   "cell_type": "markdown",
   "metadata": {},
   "source": [
    "* d para Doente\n",
    "* s para Saudavel"
   ]
  },
  {
   "cell_type": "markdown",
   "metadata": {},
   "source": [
    "## Loading Data "
   ]
  },
  {
   "cell_type": "code",
   "execution_count": 2,
   "metadata": {
    "ExecuteTime": {
     "end_time": "2020-08-18T23:52:13.822576Z",
     "start_time": "2020-08-18T23:52:13.818578Z"
    }
   },
   "outputs": [],
   "source": [
    "with open(\"data//doente.txt\", \"r\") as file:\n",
    "    d_data = file.readlines()\n",
    "    #Cleaning\n",
    "    d_data = np.array([list(map(float, row.split())) for row in d_data if row != '\\n'])\n",
    "\n",
    "with open(\"data//normal.txt\", \"r\") as file:\n",
    "    s_data = file.readlines()\n",
    "    #Cleaning\n",
    "    s_data = np.array([list(map(float, row.split())) for row in s_data if row != '\\n'])"
   ]
  },
  {
   "cell_type": "markdown",
   "metadata": {},
   "source": [
    "## Cleaning "
   ]
  },
  {
   "cell_type": "code",
   "execution_count": 3,
   "metadata": {
    "ExecuteTime": {
     "end_time": "2020-08-18T23:52:14.910580Z",
     "start_time": "2020-08-18T23:52:14.907579Z"
    }
   },
   "outputs": [],
   "source": [
    "d_data[6,1] = 466 # valor corrigido"
   ]
  },
  {
   "cell_type": "markdown",
   "metadata": {},
   "source": [
    "## Fitting Sigmoid"
   ]
  },
  {
   "cell_type": "code",
   "execution_count": 4,
   "metadata": {
    "ExecuteTime": {
     "end_time": "2020-08-18T23:52:15.451574Z",
     "start_time": "2020-08-18T23:52:15.423578Z"
    }
   },
   "outputs": [],
   "source": [
    "from fitterClass import funcFitter"
   ]
  },
  {
   "cell_type": "markdown",
   "metadata": {},
   "source": [
    "### Parameters"
   ]
  },
  {
   "cell_type": "code",
   "execution_count": 5,
   "metadata": {
    "ExecuteTime": {
     "end_time": "2020-08-18T23:52:16.379577Z",
     "start_time": "2020-08-18T23:52:16.375578Z"
    }
   },
   "outputs": [],
   "source": [
    "def sigmoid(x, a, b, c, d):\n",
    "    return a + b/(1 + np.exp(-(x-c)/d))\n",
    "\n",
    "def exponential(x, a, b, c, d):\n",
    "    return a - b*np.exp(-(x-c)/d)\n",
    "\n",
    "estimators = [\"lm\", \"trf\", \"dogbox\"]\n",
    "funcs = [sigmoid, exponential]"
   ]
  },
  {
   "cell_type": "markdown",
   "metadata": {},
   "source": [
    "### Injuried"
   ]
  },
  {
   "cell_type": "code",
   "execution_count": 6,
   "metadata": {
    "ExecuteTime": {
     "end_time": "2020-08-18T23:52:20.258577Z",
     "start_time": "2020-08-18T23:52:17.628578Z"
    }
   },
   "outputs": [
    {
     "data": {
      "text/html": [
       "<div>\n",
       "<style scoped>\n",
       "    .dataframe tbody tr th:only-of-type {\n",
       "        vertical-align: middle;\n",
       "    }\n",
       "\n",
       "    .dataframe tbody tr th {\n",
       "        vertical-align: top;\n",
       "    }\n",
       "\n",
       "    .dataframe thead th {\n",
       "        text-align: right;\n",
       "    }\n",
       "</style>\n",
       "<table border=\"1\" class=\"dataframe\">\n",
       "  <thead>\n",
       "    <tr style=\"text-align: right;\">\n",
       "      <th></th>\n",
       "      <th>function</th>\n",
       "      <th>function_name</th>\n",
       "      <th>estimator</th>\n",
       "      <th>error</th>\n",
       "      <th>param</th>\n",
       "      <th>interp_point</th>\n",
       "      <th>interp_pressure</th>\n",
       "      <th>interp_volume</th>\n",
       "    </tr>\n",
       "  </thead>\n",
       "  <tbody>\n",
       "    <tr>\n",
       "      <th>0</th>\n",
       "      <td>&lt;function sigmoid at 0x00000276BBDA4550&gt;</td>\n",
       "      <td>sigmoid</td>\n",
       "      <td>lm</td>\n",
       "      <td>82.741265</td>\n",
       "      <td>[-183.8841085954966, 1181.0232960674384, 24.01...</td>\n",
       "      <td>5</td>\n",
       "      <td>[10.546184739, 13.0040160643, 15.4618473895999...</td>\n",
       "      <td>[-0.324999419644, 56.642755995178, 113.6105114...</td>\n",
       "    </tr>\n",
       "    <tr>\n",
       "      <th>1</th>\n",
       "      <td>&lt;function sigmoid at 0x00000276BBDA4550&gt;</td>\n",
       "      <td>sigmoid</td>\n",
       "      <td>lm</td>\n",
       "      <td>46.713111</td>\n",
       "      <td>[-188.7779022559329, 1222.3314770453546, 24.41...</td>\n",
       "      <td>10</td>\n",
       "      <td>[10.546184739, 11.63855421691111, 12.730923694...</td>\n",
       "      <td>[-0.324999419644, 24.99400298694355, 50.313005...</td>\n",
       "    </tr>\n",
       "  </tbody>\n",
       "</table>\n",
       "</div>"
      ],
      "text/plain": [
       "                                   function function_name estimator  \\\n",
       "0  <function sigmoid at 0x00000276BBDA4550>       sigmoid        lm   \n",
       "1  <function sigmoid at 0x00000276BBDA4550>       sigmoid        lm   \n",
       "\n",
       "       error                                              param  interp_point  \\\n",
       "0  82.741265  [-183.8841085954966, 1181.0232960674384, 24.01...             5   \n",
       "1  46.713111  [-188.7779022559329, 1222.3314770453546, 24.41...            10   \n",
       "\n",
       "                                     interp_pressure  \\\n",
       "0  [10.546184739, 13.0040160643, 15.4618473895999...   \n",
       "1  [10.546184739, 11.63855421691111, 12.730923694...   \n",
       "\n",
       "                                       interp_volume  \n",
       "0  [-0.324999419644, 56.642755995178, 113.6105114...  \n",
       "1  [-0.324999419644, 24.99400298694355, 50.313005...  "
      ]
     },
     "execution_count": 6,
     "metadata": {},
     "output_type": "execute_result"
    }
   ],
   "source": [
    "#Interpolando\n",
    "fitter = funcFitter(d_data[0::2, :], n_point = 3, estimators = estimators)\n",
    "injuried = fitter.fit(funcs=funcs, interpolate=True, n_interp_point=100, interp_method=\"linear\")\n",
    "injuried.to_csv(os.path.join(\"data\",\"injuried_fit.csv\"), index = False)\n",
    "injuried.head(2)"
   ]
  },
  {
   "cell_type": "code",
   "execution_count": 7,
   "metadata": {
    "ExecuteTime": {
     "end_time": "2020-08-18T23:52:20.597574Z",
     "start_time": "2020-08-18T23:52:20.259577Z"
    }
   },
   "outputs": [
    {
     "data": {
      "image/png": "[encoded data removed]",
      "text/plain": [
       "<Figure size 720x288 with 2 Axes>"
      ]
     },
     "metadata": {},
     "output_type": "display_data"
    }
   ],
   "source": [
    "fitter.make_plot(df = injuried, n_best = 2)"
   ]
  },
  {
   "cell_type": "markdown",
   "metadata": {},
   "source": [
    "### Find zero and exp (NAO INTERPOLADO)"
   ]
  },
  {
   "cell_type": "code",
   "execution_count": 10,
   "metadata": {
    "ExecuteTime": {
     "end_time": "2020-08-18T23:56:34.244797Z",
     "start_time": "2020-08-18T23:56:34.235796Z"
    }
   },
   "outputs": [],
   "source": [
    "def select_best(df:pd.DataFrame):\n",
    "    best_fit = df.sort_values(by = \"error\").reset_index().iloc[0]\n",
    "\n",
    "    a = best_fit[\"param\"][0]\n",
    "    b = best_fit[\"param\"][1]\n",
    "    best_fit_func = best_fit[\"function\"]\n",
    "    \n",
    "    return best_fit[\"param\"], best_fit_func\n",
    "\n",
    "\n",
    "def find_zero(offSet:float, best_fit_func, params:np.ndarray, pressure:int, learning_rate=0.01):\n",
    "\n",
    "    volume=0\n",
    "    \n",
    "    while(True):\n",
    "        if offSet < volume:\n",
    "            volume = best_fit_func(pressure, *params)\n",
    "            pressure-=learning_rate\n",
    "        else:\n",
    "            break\n",
    "            \n",
    "    return np.array([pressure,volume])\n",
    "\n",
    "def exponential_cicle(x, a, b, c):\n",
    "    return -a*np.exp(-b*x)+c\n",
    "\n",
    "\n",
    "def find_best_b(df:pd.DataFrame, raw_pressures:np.ndarray,b_percentage_range:tuple=(0.05,0.125), step:float=0.001, plot_figure:bool=True):\n",
    "\n",
    "    params, best_fit_func = select_best(df)\n",
    "\n",
    "    a = params[0]\n",
    "    b = params[1]\n",
    "\n",
    "    b_var_lst = []\n",
    "    b_percentage_lst = []\n",
    "    guess_zero_lst = []\n",
    "\n",
    "    b_initial, b_end = b_percentage_range\n",
    "\n",
    "    for b_percentage in np.arange(b_initial, b_end, 0.001):\n",
    "\n",
    "        offSet = (b_percentage*b+a)\n",
    "        initial_pressure = raw_pressures[0,0]\n",
    "\n",
    "        guess_zero = find_zero(offSet, best_fit_func, params, initial_pressure, learning_rate = 0.01)\n",
    "        guess_zero_lst.append(guess_zero)\n",
    "        \n",
    "        try:\n",
    "            \"\"\"\n",
    "            ESTOU IGNORANDO O PRIMEIRO PAR DE PONTOS, POIS COMECA NO 4 ESSE ARRAY\n",
    "            \"\"\"\n",
    "            b_exp_run_lst = []\n",
    "\n",
    "            for i in range(4, len(raw_pressures)+1, 2):\n",
    "                #Select first two points\n",
    "                run = raw_pressures[i-2:i,:]\n",
    "                #Add guess_zero\n",
    "                run = np.vstack([guess_zero,run])\n",
    "                #Fit curve with 3 points\n",
    "                parameters, pcov = curve_fit(exponential_cicle, run[:,0], run[:,1], method=\"lm\")\n",
    "                b_exp_run_lst.append(parameters[1])\n",
    "\n",
    "            b_var_lst.append(np.var(b_exp_run_lst))\n",
    "            b_percentage_lst.append(b_percentage)\n",
    "            b_exp_run_lst = []\n",
    "\n",
    "        except Exception as e:\n",
    "            print(e)\n",
    "            \n",
    "    if plot_figure:\n",
    "        data=pd.DataFrame([b_percentage_lst,b_var_lst]).T.rename(columns = {0:\"b_percentage\", 1:\"b_var\"}).astype(float)\n",
    "        \n",
    "        fig = plt.figure(figsize = (8,6))\n",
    "        ax = sns.scatterplot(x=\"b_percentage\", y=\"b_var\", data=data)\n",
    "        plt.tight_layout()\n",
    "        plt.show()\n",
    "        \n",
    "    index_best_b = np.argmin(b_var_lst)\n",
    "    return b_percentage_lst[index_best_b], guess_zero_lst[index_best_b]"
   ]
  },
  {
   "cell_type": "code",
   "execution_count": 28,
   "metadata": {
    "ExecuteTime": {
     "end_time": "2020-08-19T00:05:11.760796Z",
     "start_time": "2020-08-19T00:05:11.099796Z"
    }
   },
   "outputs": [
    {
     "name": "stdout",
     "output_type": "stream",
     "text": [
      "Best b: 0.08600000000000003\n",
      "Best zero: [  5.02618474 -83.67586325]\n"
     ]
    },
    {
     "data": {
      "image/png": "[encoded data removed]",
      "text/plain": [
       "<Figure size 1008x576 with 1 Axes>"
      ]
     },
     "metadata": {},
     "output_type": "display_data"
    }
   ],
   "source": [
    "best_b, guess_zero = find_best_b(injuried, raw_pressures=d_data,  b_percentage_range=(0.05,0.125), step=0.001, plot_figure=False)\n",
    "\n",
    "def exponential_cicle_fixed_b(x, a, c):\n",
    "    return -a*np.exp(-best_b*x)+c\n",
    "\n",
    "######################################################################################################\n",
    "plt.figure(figsize = (14,8))\n",
    "plt.scatter(guess_zero[0],guess_zero[1], c = 'k', s = 100, label = \"ZERO\")\n",
    "\n",
    "new_pressures = range(int(guess_zero[0]), 100, 7)\n",
    "\n",
    "colors = [\"b\",\"g\",\"r\",\"m\",\"y\"]\n",
    "\n",
    "for i, cor in zip(range(2, d_data.shape[0]+1, 2), colors):\n",
    "    \n",
    "    run = d_data[i-2:i,:]\n",
    "    run = np.vstack([guess_zero,run])\n",
    "\n",
    "    parameters, pcov = curve_fit(exponential_cicle_fixed_b, run[:,0], run[:,1], method=\"lm\")\n",
    "\n",
    "    new_volumes = exponential_cicle_fixed_b(new_pressures, *parameters)\n",
    "    plt.plot(new_pressures, new_volumes, c=cor, label = f\"exponential {i}\")\n",
    "    plt.scatter(d_data[i-2:i,0], d_data[i-2:i,1], c=cor, label = f\"Pair {i}\")\n",
    "    ##\n",
    "\n",
    "##Plotando best fit\n",
    "best_fit = injuried.sort_values(by = \"error\").reset_index().iloc[0]\n",
    "new_volumes = best_fit[\"function\"](new_pressures,*best_fit[\"param\"])\n",
    "plt.scatter(new_pressures,new_volumes, c = 'black', marker = '+', label = \"Fit\")\n",
    "\n",
    "plt.xlabel(\"pressure\")\n",
    "plt.ylabel(\"volume\")\n",
    "print(f\"Best b: {best_b}\")\n",
    "print(f\"Best zero: {guess_zero}\")\n",
    "plt.legend()\n",
    "plt.show()"
   ]
  },
  {
   "cell_type": "markdown",
   "metadata": {
    "heading_collapsed": true
   },
   "source": [
    "### Healthy"
   ]
  },
  {
   "cell_type": "code",
   "execution_count": null,
   "metadata": {
    "ExecuteTime": {
     "end_time": "2020-08-09T20:03:07.351815Z",
     "start_time": "2020-08-09T20:03:07.289815Z"
    },
    "hidden": true
   },
   "outputs": [],
   "source": [
    "#Interpolando\n",
    "fitter = funcFitter(s_data[0::2, :], n_point = 3, estimators = estimators)\n",
    "healthy = fitter.fit(funcs=funcs, interpolate=True, n_interp_point=10, interp_method=\"linear\")"
   ]
  },
  {
   "cell_type": "code",
   "execution_count": null,
   "metadata": {
    "ExecuteTime": {
     "end_time": "2020-08-09T20:03:07.915815Z",
     "start_time": "2020-08-09T20:03:07.352815Z"
    },
    "hidden": true
   },
   "outputs": [],
   "source": [
    "fitter.make_plot(df = healthy, n_best = 5)"
   ]
  }
 ],
 "metadata": {
  "kernelspec": {
   "display_name": "Python 3",
   "language": "python",
   "name": "python3"
  },
  "language_info": {
   "codemirror_mode": {
    "name": "ipython",
    "version": 3
   },
   "file_extension": ".py",
   "mimetype": "text/x-python",
   "name": "python",
   "nbconvert_exporter": "python",
   "pygments_lexer": "ipython3",
   "version": "3.8.3rc1"
  },
  "toc": {
   "base_numbering": 1,
   "nav_menu": {},
   "number_sections": true,
   "sideBar": true,
   "skip_h1_title": false,
   "title_cell": "Table of Contents",
   "title_sidebar": "Contents",
   "toc_cell": false,
   "toc_position": {},
   "toc_section_display": true,
   "toc_window_display": false
  }
 },
 "nbformat": 4,
 "nbformat_minor": 4
}
