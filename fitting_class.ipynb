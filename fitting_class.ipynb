{
 "cells": [
  {
   "cell_type": "code",
   "execution_count": 1,
   "metadata": {
    "ExecuteTime": {
     "end_time": "2020-08-24T00:00:29.795704Z",
     "start_time": "2020-08-24T00:00:10.177642Z"
    }
   },
   "outputs": [],
   "source": [
    "import pandas as pd\n",
    "import numpy as np\n",
    "\n",
    "import class_pig  \n",
    "\n",
    "import glob\n",
    "import pickle\n",
    "\n",
    "import seaborn as sns\n",
    "import matplotlib.pyplot as plt\n",
    "plt.style.use('ggplot')\n",
    "\n",
    "import os\n",
    "from scipy.optimize import curve_fit\n",
    "\"\"\"\n",
    "CUIDADO!!\n",
    "\"\"\"\n",
    "import warnings\n",
    "warnings.filterwarnings(\"ignore\")"
   ]
  },
  {
   "cell_type": "code",
   "execution_count": 2,
   "metadata": {},
   "outputs": [],
   "source": [
    "from fitterClass import funcFitter\n",
    "from utils import find_best_b, plot_exponentials"
   ]
  },
  {
   "cell_type": "markdown",
   "metadata": {},
   "source": [
    "* d para Doente\n",
    "* s para Saudavel"
   ]
  },
  {
   "cell_type": "markdown",
   "metadata": {
    "collapsed": "true"
   },
   "source": [
    "## Loading Data "
   ]
  },
  {
   "cell_type": "code",
   "execution_count": 3,
   "metadata": {
    "ExecuteTime": {
     "end_time": "2020-08-24T00:00:34.291705Z",
     "start_time": "2020-08-24T00:00:34.284705Z"
    }
   },
   "outputs": [],
   "source": [
    "with open(\"data//doente.txt\", \"r\") as file:\n",
    "    d_data = file.readlines()\n",
    "    #Cleaning\n",
    "    d_data = np.array([list(map(float, row.split())) for row in d_data if row != '\\n'])\n",
    "\n",
    "with open(\"data//normal.txt\", \"r\") as file:\n",
    "    s_data = file.readlines()\n",
    "    #Cleaning\n",
    "    s_data = np.array([list(map(float, row.split())) for row in s_data if row != '\\n'])\n",
    "    \n",
    "with open(\"data//k_func.txt\", \"r\") as file:\n",
    "    k_data = file.readlines()\n",
    "    #Cleaning\n",
    "    k_data = np.array([list(map(float, row.split())) for row in k_data if row != '\\n'])"
   ]
  },
  {
   "cell_type": "code",
   "execution_count": 4,
   "metadata": {},
   "outputs": [
    {
     "data": {
      "text/plain": [
       "array([[  10.17812538, -197.85173035],\n",
       "       [  20.55937481,  -50.39464188],\n",
       "       [  15.21249962,  -95.13343811],\n",
       "       [  25.51250076,   41.52325439],\n",
       "       [  20.421875  ,   97.13526917],\n",
       "       [  30.65312481,  271.86264038],\n",
       "       [  25.34687519,  373.07644653],\n",
       "       [  35.64375114,  563.88049316],\n",
       "       [  30.46250057,  707.39672852],\n",
       "       [  40.765625  ,  864.88140869]])"
      ]
     },
     "execution_count": 4,
     "metadata": {},
     "output_type": "execute_result"
    }
   ],
   "source": [
    "k_data"
   ]
  },
  {
   "cell_type": "markdown",
   "metadata": {
    "collapsed": "true"
   },
   "source": [
    "## Cleaning "
   ]
  },
  {
   "cell_type": "code",
   "execution_count": 5,
   "metadata": {
    "ExecuteTime": {
     "end_time": "2020-08-24T00:00:35.136902Z",
     "start_time": "2020-08-24T00:00:35.133902Z"
    }
   },
   "outputs": [],
   "source": [
    "d_data[6,1] = 466 # valor corrigido"
   ]
  },
  {
   "cell_type": "markdown",
   "metadata": {},
   "source": [
    "## Fitting Sigmoid"
   ]
  },
  {
   "cell_type": "markdown",
   "metadata": {},
   "source": [
    "### Parameters"
   ]
  },
  {
   "cell_type": "code",
   "execution_count": 6,
   "metadata": {
    "ExecuteTime": {
     "end_time": "2020-08-24T00:00:37.943106Z",
     "start_time": "2020-08-24T00:00:37.938106Z"
    }
   },
   "outputs": [],
   "source": [
    "def sigmoid(x, a, b, c, d):\n",
    "    return a + b/(1 + np.exp(-(x-c)/d))\n",
    "\n",
    "def exponential(x, a, b, c, d):\n",
    "    return a - b*np.exp(-(x-c)/d)\n",
    "\n",
    "def exponential_cicle_fixed_b(x, a, c):\n",
    "    return -a*np.exp(-best_b*x)+c\n",
    "\n",
    "estimators = [\"lm\", \"trf\", \"dogbox\"]\n",
    "funcs = [sigmoid, exponential]"
   ]
  },
  {
   "cell_type": "markdown",
   "metadata": {
    "execution": {
     "iopub.execute_input": "2020-09-19T01:59:23.629662Z",
     "iopub.status.busy": "2020-09-19T01:59:23.629554Z",
     "iopub.status.idle": "2020-09-19T01:59:23.631870Z",
     "shell.execute_reply": "2020-09-19T01:59:23.631344Z",
     "shell.execute_reply.started": "2020-09-19T01:59:23.629648Z"
    }
   },
   "source": [
    "### K data"
   ]
  },
  {
   "cell_type": "code",
   "execution_count": null,
   "metadata": {},
   "outputs": [],
   "source": [
    "#Interpolando\n",
    "fitter_k = funcFitter(\"mra26\", \"D\", k_data[0::2, :], n_point = 5, estimators = estimators)\n",
    "k_df = fitter_k.fit(funcs=funcs, interpolate=True, n_interp_point=100, interp_method=\"linear\")\n",
    "k_df.to_csv(os.path.join(\"data\",\"k_df.csv\"), index = False)\n",
    "k_df.head(2)"
   ]
  },
  {
   "cell_type": "code",
   "execution_count": null,
   "metadata": {},
   "outputs": [],
   "source": [
    "fitter_k.make_plot(df = k_df, n_best = 4)"
   ]
  },
  {
   "cell_type": "code",
   "execution_count": null,
   "metadata": {
    "ExecuteTime": {
     "end_time": "2020-08-24T00:00:45.291337Z",
     "start_time": "2020-08-24T00:00:44.697336Z"
    }
   },
   "outputs": [],
   "source": [
    "best_b, guess_zero = find_best_b(k_df, raw_pressures=k_data,  b_percentage_range=(0.05,0.125), step=0.001, plot_figure=False)\n",
    "plot_exponentials(best_b, guess_zero, k_df, k_data, exponential_cicle_fixed_b)"
   ]
  }
 ],
 "metadata": {
  "kernelspec": {
   "display_name": "venv_tie",
   "language": "python",
   "name": "venv_tie"
  },
  "language_info": {
   "codemirror_mode": {
    "name": "ipython",
    "version": 3
   },
   "file_extension": ".py",
   "mimetype": "text/x-python",
   "name": "python",
   "nbconvert_exporter": "python",
   "pygments_lexer": "ipython3",
   "version": "3.8.5"
  },
  "toc": {
   "base_numbering": 1,
   "nav_menu": {},
   "number_sections": true,
   "sideBar": true,
   "skip_h1_title": false,
   "title_cell": "Table of Contents",
   "title_sidebar": "Contents",
   "toc_cell": false,
   "toc_position": {},
   "toc_section_display": true,
   "toc_window_display": false
  }
 },
 "nbformat": 4,
 "nbformat_minor": 4
}
