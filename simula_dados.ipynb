{
 "cells": [
  {
   "cell_type": "code",
   "execution_count": null,
   "metadata": {},
   "outputs": [],
   "source": [
    "import numpy as np\n",
    "import matplotlib.pyplot as plt\n",
    "from scipy.optimize import curve_fit\n",
    "from sklearn.metrics import mean_squared_error\n",
    "import math\n",
    "\n",
    "\"\"\"\n",
    "CUIDADO!!\n",
    "\"\"\"\n",
    "import warnings\n",
    "warnings.filterwarnings(\"ignore\")"
   ]
  },
  {
   "cell_type": "code",
   "execution_count": null,
   "metadata": {},
   "outputs": [],
   "source": [
    "# Para usar LaTex no PyPlot\n",
    "# tive que instalar: > sudo apt-get install cm-super\n",
    "params = {'text.usetex': True} \n",
    "plt.rcParams.update(params)"
   ]
  },
  {
   "cell_type": "markdown",
   "metadata": {},
   "source": [
    "# Declaração das funções utilizadas\n",
    "\n",
    "Exponencial simples: $$ Volume = V_{max} \\left( 1- e^{(-KP_{aw})} \\right) $$\n",
    "\n",
    "Função densidade de probabilidade: $$ \\dfrac{1}{\\sigma \\sqrt{2\\pi}} e^{-\\dfrac{1}{2} \\left( \\dfrac{x-\\mu}{\\sigma} \\right)^2} $$\n",
    "\n",
    "Função densidade de probabilidade acumulada: integral da f.d.p."
   ]
  },
  {
   "cell_type": "code",
   "execution_count": null,
   "metadata": {},
   "outputs": [],
   "source": [
    "# Modelo exponencial simples de curva PV pulmonar\n",
    "# Volume = Vmax*(1-e^(-K*Paw))\n",
    "# Paw = pressão na via aérea\n",
    "# K = 'constante de tempo' da exponencial\n",
    "def exponencial_simples(Paw,K,Vmax):\n",
    "    return Vmax*(1-np.exp(-K*Paw))\n",
    "\n",
    "# função densidade de probabilidade (curva normal)\n",
    "# mi: esperança\n",
    "# sigma: desvio padrão\n",
    "def fdp(x,mi,sigma):\n",
    "    return (1/(sigma*np.sqrt(2*np.pi)))*np.exp((-0.5)*((x-mi)/sigma)**2)\n",
    "\n",
    "# função densidade de probabilidade acumulada (integral da curva normal)\n",
    "# mi: esperança\n",
    "# sigma: desvio padrão\n",
    "def fda(x,mi,sigma,dt=0.1):\n",
    "    x_vec = np.arange(mi-6*sigma,x,dt)\n",
    "    integral = 0\n",
    "    for x in x_vec:\n",
    "        integral = integral + fdp(x,mi,sigma)*dt\n",
    "    return integral\n",
    "\n",
    "# ajustando a função para uma entrada array (para curve_fit)\n",
    "def fda_vec(x,mi,sigma,dt=0.1):\n",
    "    integral_lst = []\n",
    "    for x_in in x:\n",
    "        x_vec = np.arange(mi-6*sigma,x_in,dt)\n",
    "        integral = 0\n",
    "        for x in x_vec:\n",
    "            integral = integral + fdp(x_in,mi,sigma)*dt\n",
    "        integral_lst.append(integral)\n",
    "    return np.array(integral_lst)\n",
    "\n",
    "# Modelo sigmoide da curva PV pulmonar\n",
    "# Segue modelo exponencial, mas Vmax varia com a pressão\n",
    "# Paw = pressão na via aérea\n",
    "# K = 'constante de tempo' da exponencial\n",
    "def modelo_sigmoide(Paw,K,Vmax,mi,sigma):\n",
    "    Vmax_recrutado = Vmax*fda(Paw,mi,sigma)\n",
    "    return Vmax_recrutado*(1-np.exp(-K*Paw))\n",
    "\n",
    "# ajustando a função para uma entrada array (para curve_fit)\n",
    "def modelo_sigmoide_vec(Paw,K,Vmax,mi,sigma):\n",
    "    Vmax_recrutado = np.multiply(Vmax,fda_vec(Paw,mi,sigma))\n",
    "    return Vmax_recrutado*(1-np.exp(-K*Paw))\n",
    "\n"
   ]
  },
  {
   "cell_type": "markdown",
   "metadata": {},
   "source": [
    "# Plotando funções usadas\n",
    "## Modelo exponencial simples"
   ]
  },
  {
   "cell_type": "code",
   "execution_count": null,
   "metadata": {
    "scrolled": false
   },
   "outputs": [],
   "source": [
    "pressoes = np.arange(0,40,0.5)\n",
    "Vmax_lst = np.arange(100,1500,100)\n",
    "K = 0.06\n",
    "plt.figure(figsize=(8,5))\n",
    "for Vmax in Vmax_lst:\n",
    "    volumes = [exponencial_simples(Paw,K,Vmax) for Paw in pressoes]\n",
    "    plt.plot(pressoes,volumes)\n",
    "plt.xlabel('Pressão ($cmH_2O$)')\n",
    "plt.ylabel('Volume ($mL$)')\n",
    "plt.title(r'Modelo pulmonar exponencial: $ Volume = V_{max} \\left( 1- e^{(-KP_{aw})} \\right) $')\n",
    "plt.show()"
   ]
  },
  {
   "cell_type": "markdown",
   "metadata": {},
   "source": [
    "## Probabilidade de novas unidades pulmonares recrutadas"
   ]
  },
  {
   "cell_type": "code",
   "execution_count": null,
   "metadata": {
    "scrolled": false
   },
   "outputs": [],
   "source": [
    "mi = 20\n",
    "sigma = 10\n",
    "prob = [fdp(Paw,mi,sigma) for Paw in pressoes]\n",
    "plt.figure(figsize=(8,5))\n",
    "plt.plot(pressoes,prob)\n",
    "plt.xlabel('Pressão crítica de abertura ($cmH_2O$)')\n",
    "plt.ylabel('Probabilidade')\n",
    "plt.title('Probabilidade de novas unidades pulmonares recrutadas')\n",
    "plt.show()"
   ]
  },
  {
   "cell_type": "markdown",
   "metadata": {},
   "source": [
    "## Probabilidade acumulada de novas unidades pulmonares recrutadas"
   ]
  },
  {
   "cell_type": "code",
   "execution_count": null,
   "metadata": {
    "scrolled": true
   },
   "outputs": [],
   "source": [
    "acumulado = [fda(Paw,mi,sigma) for Paw in pressoes]\n",
    "plt.figure(figsize=(8,5))\n",
    "plt.plot(pressoes,acumulado)\n",
    "plt.xlabel('Pressão crítica de abertura ($cmH_2O$)')\n",
    "plt.ylabel('Probabilidade acumulada')\n",
    "plt.title('Probabilidade acumulada de novas unidades pulmonares recrutadas')\n",
    "plt.show()"
   ]
  },
  {
   "cell_type": "markdown",
   "metadata": {},
   "source": [
    "## Modelo sigmoide simulado"
   ]
  },
  {
   "cell_type": "code",
   "execution_count": null,
   "metadata": {},
   "outputs": [],
   "source": [
    "def plot_curvas_sigmoide(Pmax,mi,sigma,K,Vmax):\n",
    "    Vmax_lst = np.arange(Vmax/10,Vmax+1,Vmax/10)\n",
    "    pressoes = np.arange(0,Pmax,0.5)\n",
    "    sigmoide = [modelo_sigmoide(Paw,K,Vmax,mi,sigma) for Paw in pressoes]\n",
    "\n",
    "    plt.figure(figsize=(15,5))\n",
    "    plt1 = plt.subplot(1,2,1)\n",
    "    for Vmax in Vmax_lst:\n",
    "        volumes = [exponencial_simples(Paw,K,Vmax) for Paw in pressoes]\n",
    "        plt.plot(pressoes,volumes,'k:')\n",
    "    plt.plot(pressoes,sigmoide,label=f'sig: K={K:.3f}, Vmax={Vmax:.0f}, $\\\\mu$={mi:.1f}, $\\\\sigma$={sigma:.1f}')\n",
    "    plt.xlabel('Pressão ($cmH_2O$)')\n",
    "    plt.ylabel('Volume ($mL$)')\n",
    "    plt.title(r'Modelo pulmonar sigmoide')\n",
    "    plt2 = plt.subplot(1,2,2)\n",
    "    prob = [fdp(Paw,mi,sigma) for Paw in pressoes]\n",
    "    plt.plot(pressoes,prob)\n",
    "    plt.xlabel('Pressão crítica de abertura ($cmH_2O$)')\n",
    "    plt.ylabel('Probabilidade')\n",
    "    plt.title('Probabilidade de novas unidades pulmonares recrutadas')\n",
    "    return plt1, plt2"
   ]
  },
  {
   "cell_type": "code",
   "execution_count": null,
   "metadata": {},
   "outputs": [],
   "source": [
    "Pmax = 60\n",
    "Vmax = 1500\n",
    "K = 0.06\n",
    "mi = 20\n",
    "sigma = 10\n",
    "_= plot_curvas_sigmoide(Pmax,mi,sigma,K,Vmax)"
   ]
  },
  {
   "cell_type": "code",
   "execution_count": null,
   "metadata": {},
   "outputs": [],
   "source": [
    "Pmax = 60\n",
    "Vmax = 1500\n",
    "K = 0.06\n",
    "mi = 20\n",
    "sigma = 5\n",
    "_= plot_curvas_sigmoide(Pmax,mi,sigma,K,Vmax)"
   ]
  },
  {
   "cell_type": "code",
   "execution_count": null,
   "metadata": {
    "scrolled": true
   },
   "outputs": [],
   "source": [
    "Pmax = 60\n",
    "Vmax = 1500\n",
    "K = 0.06\n",
    "mi = 10\n",
    "sigma = 10\n",
    "_= plot_curvas_sigmoide(Pmax,mi,sigma,K,Vmax)"
   ]
  },
  {
   "cell_type": "markdown",
   "metadata": {},
   "source": [
    "# Testando ajustes das curvas"
   ]
  },
  {
   "cell_type": "markdown",
   "metadata": {},
   "source": [
    "## Ajustando o modelo antigo"
   ]
  },
  {
   "cell_type": "code",
   "execution_count": null,
   "metadata": {},
   "outputs": [],
   "source": [
    "# função usada para fitar o modelo PV sigmoide (doente)\n",
    "#                b                                   b\n",
    "# V(x) = a + ----------------------   = a + ------------------------\n",
    "#            1 + exp(-(x/d) + (c/d)          1 + exp(-x/d).exp(c/d)\n",
    "#\n",
    "# lim (x-> inf)  V(x) = a + b\n",
    "def sigmoid(x, a, b, c, d):\n",
    "    return a + b/(1 + np.exp(-(x-c)/d))"
   ]
  },
  {
   "cell_type": "code",
   "execution_count": null,
   "metadata": {},
   "outputs": [],
   "source": [
    "# simulando dados PV\n",
    "Pmax = 60\n",
    "Vmax = 1500\n",
    "K = 0.06\n",
    "mi = 10\n",
    "sigma = 10\n",
    "\n",
    "pressoes = [5, 10, 15, 20]\n",
    "vol_sigmoide = [modelo_sigmoide(Paw,K,Vmax,mi,sigma) for Paw in pressoes]\n",
    "\n",
    "estimator_lst = [\"lm\",\"trf\",\"dogbox\"]\n",
    "estimator = estimator_lst[0]\n",
    "parameters, pcov = curve_fit(sigmoid, pressoes, vol_sigmoide, method=estimator)\n",
    "print(parameters)\n",
    "a,b,c,d = parameters\n",
    "\n",
    "plt1,_ = plot_curvas_sigmoide(Pmax,mi,sigma,K,Vmax)\n",
    "_= plt1.scatter(pressoes,vol_sigmoide)\n",
    "vol_sigmoide_fitado = [sigmoid(x,*parameters) for x in range(Pmax)]\n",
    "\n",
    "_= plt1.plot(range(Pmax),vol_sigmoide_fitado,'r:',linewidth=3,label=f'fit: a={a:.1f}, b={b:.1f}, c={c:.1f}, d={d:.1f}')\n",
    "_= plt1.legend(loc='lower right')"
   ]
  },
  {
   "cell_type": "markdown",
   "metadata": {},
   "source": [
    "### Outros ajustes..."
   ]
  },
  {
   "cell_type": "code",
   "execution_count": null,
   "metadata": {},
   "outputs": [],
   "source": [
    "# simulando dados PV\n",
    "Pmax = 60\n",
    "Vmax = 1500\n",
    "K = 0.06\n",
    "mi = 20\n",
    "sigma = 10\n",
    "\n",
    "pressoes = [5, 10, 15, 20]\n",
    "vol_sigmoide = [modelo_sigmoide(Paw,K,Vmax,mi,sigma) for Paw in pressoes]\n",
    "\n",
    "estimator_lst = [\"lm\",\"trf\",\"dogbox\"]\n",
    "estimator = estimator_lst[0]\n",
    "parameters, pcov = curve_fit(sigmoid, pressoes, vol_sigmoide, method=estimator)\n",
    "print(parameters)\n",
    "a,b,c,d = parameters\n",
    "\n",
    "plt1,_ = plot_curvas_sigmoide(Pmax,mi,sigma,K,Vmax)\n",
    "_= plt1.scatter(pressoes,vol_sigmoide)\n",
    "vol_sigmoide_fitado = [sigmoid(x,*parameters) for x in range(Pmax)]\n",
    "\n",
    "_= plt1.plot(range(Pmax),vol_sigmoide_fitado,'r:',linewidth=3,label=f'fit: a={a:.1f}, b={b:.1f}, c={c:.1f}, d={d:.1f}')\n",
    "_= plt1.legend(loc='lower right')"
   ]
  },
  {
   "cell_type": "code",
   "execution_count": null,
   "metadata": {},
   "outputs": [],
   "source": [
    "# simulando dados PV\n",
    "Pmax = 60\n",
    "Vmax = 1500\n",
    "K = 0.06\n",
    "mi = 5\n",
    "sigma = 10\n",
    "\n",
    "pressoes = [5, 10, 15, 20]\n",
    "vol_sigmoide = [modelo_sigmoide(Paw,K,Vmax,mi,sigma) for Paw in pressoes]\n",
    "\n",
    "estimator_lst = [\"lm\",\"trf\",\"dogbox\"]\n",
    "estimator = estimator_lst[0]\n",
    "parameters, pcov = curve_fit(sigmoid, pressoes, vol_sigmoide, method=estimator)\n",
    "print(parameters)\n",
    "a,b,c,d = parameters\n",
    "\n",
    "plt1,_ = plot_curvas_sigmoide(Pmax,mi,sigma,K,Vmax)\n",
    "_= plt1.scatter(pressoes,vol_sigmoide)\n",
    "vol_sigmoide_fitado = [sigmoid(x,*parameters) for x in range(Pmax)]\n",
    "\n",
    "_= plt1.plot(range(Pmax),vol_sigmoide_fitado,'r:',linewidth=3,label=f'fit: a={a:.1f}, b={b:.1f}, c={c:.1f}, d={d:.1f}')\n",
    "_= plt1.legend(loc='lower right')"
   ]
  },
  {
   "cell_type": "code",
   "execution_count": null,
   "metadata": {},
   "outputs": [],
   "source": [
    "# simulando dados PV\n",
    "Pmax = 60\n",
    "Vmax = 1500\n",
    "K = 0.04\n",
    "mi = 10\n",
    "sigma = 10\n",
    "\n",
    "pressoes = [5, 10, 15, 20]\n",
    "vol_sigmoide = [modelo_sigmoide(Paw,K,Vmax,mi,sigma) for Paw in pressoes]\n",
    "\n",
    "estimator_lst = [\"lm\",\"trf\",\"dogbox\"]\n",
    "estimator = estimator_lst[0]\n",
    "parameters, pcov = curve_fit(sigmoid, pressoes, vol_sigmoide, method=estimator)\n",
    "print(parameters)\n",
    "a,b,c,d = parameters\n",
    "\n",
    "plt1,_ = plot_curvas_sigmoide(Pmax,mi,sigma,K,Vmax)\n",
    "_= plt1.scatter(pressoes,vol_sigmoide)\n",
    "vol_sigmoide_fitado = [sigmoid(x,*parameters) for x in range(Pmax)]\n",
    "\n",
    "_= plt1.plot(range(Pmax),vol_sigmoide_fitado,'r:',linewidth=3,label=f'fit: a={a:.1f}, b={b:.1f}, c={c:.1f}, d={d:.1f}')\n",
    "_= plt1.legend(loc='lower right')"
   ]
  },
  {
   "cell_type": "markdown",
   "metadata": {},
   "source": [
    "### Só com 3 pontos, sem bound, não ajusta..."
   ]
  },
  {
   "cell_type": "code",
   "execution_count": null,
   "metadata": {},
   "outputs": [],
   "source": [
    "# simulando dados PV\n",
    "Pmax = 60\n",
    "Vmax = 1500\n",
    "K = 0.06\n",
    "mi = 10\n",
    "sigma = 10\n",
    "\n",
    "pressoes = [10, 15, 20]\n",
    "vol_sigmoide = [modelo_sigmoide(Paw,K,Vmax,mi,sigma) for Paw in pressoes]\n",
    "\n",
    "estimator_lst = [\"lm\",\"trf\",\"dogbox\"]\n",
    "estimator = estimator_lst[2]\n",
    "parameters, pcov = curve_fit(sigmoid, pressoes, vol_sigmoide, method=estimator)\n",
    "print(parameters)\n",
    "a,b,c,d = parameters\n",
    "\n",
    "plt1,_ = plot_curvas_sigmoide(Pmax,mi,sigma,K,Vmax)\n",
    "_= plt1.scatter(pressoes,vol_sigmoide)\n",
    "vol_sigmoide_fitado = [sigmoid(x,*parameters) for x in range(Pmax)]\n",
    "\n",
    "_= plt1.plot(range(Pmax),vol_sigmoide_fitado,'r:',linewidth=3,label=f'fit: a={a:.1f}, b={b:.1f}, c={c:.1f}, d={d:.1f}')\n",
    "_= plt1.legend(loc='lower right')"
   ]
  },
  {
   "cell_type": "markdown",
   "metadata": {},
   "source": [
    "## Brincando com o modelo novo\n",
    "Não ajusta...  não sei porque... nem com estimativa inicial correta"
   ]
  },
  {
   "cell_type": "code",
   "execution_count": null,
   "metadata": {},
   "outputs": [],
   "source": [
    "# simulando dados PV\n",
    "Pmax = 60\n",
    "Vmax = 1500\n",
    "K = 0.06\n",
    "mi = 10\n",
    "sigma = 10\n",
    "\n",
    "# estimativa inicial: K,Vmax,mi,sigma\n",
    "p0 = [0.06, 2000, 10, 10]\n",
    "\n",
    "pressoes = [5, 10, 15, 20, 25, 30]\n",
    "vol_sigmoide = [modelo_sigmoide(Paw,K,Vmax,mi,sigma) for Paw in pressoes]\n",
    "\n",
    "plt1,_ = plot_curvas_sigmoide(Pmax,mi,sigma,K,Vmax)\n",
    "_= plt1.scatter(pressoes,vol_sigmoide)\n",
    "\n",
    "estimator_lst = [\"lm\",\"trf\",\"dogbox\"]\n",
    "estimator = estimator_lst[0]\n",
    "parameters, pcov = curve_fit(modelo_sigmoide_vec, pressoes, vol_sigmoide, p0=p0, method=estimator)\n",
    "print(f'{estimator}: {parameters}')\n",
    "K,Vmax,mi,sigma = parameters\n",
    "vol_sigmoide_fitado = [modelo_sigmoide(x,*parameters) for x in range(Pmax)]\n",
    "_= plt1.plot(range(Pmax),vol_sigmoide_fitado,'r:')"
   ]
  },
  {
   "cell_type": "markdown",
   "metadata": {},
   "source": [
    "### Fazendo meu próprio ajuste..."
   ]
  },
  {
   "cell_type": "markdown",
   "metadata": {},
   "source": [
    "Método beeeem lento, mas funciona..."
   ]
  },
  {
   "cell_type": "code",
   "execution_count": null,
   "metadata": {},
   "outputs": [],
   "source": [
    "def ajusta_funcao(funcao, X_in, Y_in, p0, maxIter = 100, tolerancia = 0.001):\n",
    "    passo = 0.03*np.ones(len(p0))\n",
    "    Y_estimado = [funcao(x, *p0) for x in X_in]\n",
    "    erro_inicial = mean_squared_error(np.array(Y_in), np.array(Y_estimado),squared=False)\n",
    "    parametros = p0\n",
    "    erro = erro_inicial\n",
    "    for iteracao in range(maxIter):\n",
    "        if iteracao % 10 == 0:\n",
    "            print(f'\\rIteracao {iteracao} de {maxIter}. Erro: {erro}.\\t\\t\\t', end=\"\")\n",
    "        erro_antes = erro\n",
    "        for idx in range(len(parametros)):\n",
    "            # erro inicial\n",
    "            Y_estimado0 = [funcao(x, *parametros) for x in X_in]\n",
    "            erro0 = mean_squared_error(np.array(Y_in), np.array(Y_estimado0),squared=False)\n",
    "            # aumentando parametro\n",
    "            parametros_novo1 = np.copy(parametros)\n",
    "            parametros_novo1[idx] = parametros_novo1[idx]*(1+passo[idx])\n",
    "            Y_estimado1 = [funcao(x, *parametros_novo1) for x in X_in]\n",
    "            erro1 = mean_squared_error(np.array(Y_in), np.array(Y_estimado1),squared=False)\n",
    "            # diminuindo parametro\n",
    "            parametros_novo2 = np.copy(parametros)\n",
    "            parametros_novo2[idx] = parametros_novo2[idx]*(1-passo[idx])\n",
    "            Y_estimado2 = [funcao(x, *parametros_novo2) for x in X_in]\n",
    "            erro2 = mean_squared_error(np.array(Y_in), np.array(Y_estimado2),squared=False)\n",
    "            # verificando melhora\n",
    "            index_min = np.argmin([erro0,erro1,erro2])\n",
    "            if index_min == 1:\n",
    "                parametros = parametros_novo1\n",
    "                #print(f'idx: {idx}; {parametros}; erro: {erro1}; erro_anterior: {erro0}')\n",
    "            elif index_min == 2:\n",
    "                parametros = parametros_novo2\n",
    "                #print(f'idx: {idx}; {parametros}; erro: {erro2}; erro_anterior: {erro0}')\n",
    "            else:\n",
    "                passo[idx] = passo[idx]/2\n",
    "                #print(f'idx: {idx}; {parametros}; mantem erro: {erro0}')\n",
    "            Y_estimado = [funcao(x, *parametros) for x in X_in]\n",
    "            erro = mean_squared_error(np.array(Y_in), np.array(Y_estimado),squared=False)\n",
    "        if (erro_antes-erro) < tolerancia:\n",
    "            print(f'\\nTolerancia atingida em {iteracao} iteracoes. Erro: {erro}. Erro antes: {erro_antes}')\n",
    "            break\n",
    "    print('\\n')\n",
    "    return parametros, erro, erro_inicial"
   ]
  },
  {
   "cell_type": "code",
   "execution_count": null,
   "metadata": {},
   "outputs": [],
   "source": [
    "# Rodando poucas iterações, só para teste...\n",
    "Vmax = 2000\n",
    "K = 0.06\n",
    "mi = 15\n",
    "sigma = 15\n",
    "\n",
    "X = [5, 10, 15, 20, 25, 30]\n",
    "p0 = [0.05, 1500, 10, 10]\n",
    "\n",
    "Y = [modelo_sigmoide(Paw,K,Vmax,mi,sigma) for Paw in X]\n",
    "parametros, erro, erro_inicial = ajusta_funcao(modelo_sigmoide, X, Y, p0, maxIter = 10)\n",
    "print(f'{parametros}; erro: {erro}; erro_inicial: {erro_inicial}')"
   ]
  },
  {
   "cell_type": "code",
   "execution_count": null,
   "metadata": {},
   "outputs": [],
   "source": [
    "Y_ajustado = [modelo_sigmoide(Paw,*parametros) for Paw in X]\n",
    "Y_inicial = [modelo_sigmoide(Paw,*p0) for Paw in X]\n",
    "\n",
    "plt.scatter(X,Y_inicial,c='r',label='inicial')\n",
    "plt.scatter(X,Y_ajustado,c='#aaffaa',label='ajustado')\n",
    "plt.scatter(X,Y,c='b',marker='x',label='real')\n",
    "plt.legend()\n",
    "plt.show()"
   ]
  },
  {
   "cell_type": "markdown",
   "metadata": {},
   "source": [
    "# Criando novo modelo para uso com curve_fit()"
   ]
  },
  {
   "cell_type": "code",
   "execution_count": null,
   "metadata": {},
   "outputs": [],
   "source": [
    "# ajustando a função para uma entrada array (para curve_fit)\n",
    "def meu_erf2(Paw,mi,sigma): # parâmetros ajustados empiricamente... ;)\n",
    "    x = (Paw-mi)/(sigma*1.5)\n",
    "    merf = math.erf(x)\n",
    "    return (merf/2)+0.5\n",
    "\n",
    "def meu_erf2_vec(Paw,mi,sigma):\n",
    "    saida_lst = []\n",
    "    for x_in in Paw:\n",
    "        x = (x_in-mi)/(sigma*1.5)\n",
    "        merf = math.erf(x)\n",
    "        saida_lst.append((merf/2)+0.5)\n",
    "    return np.array(saida_lst)\n",
    "\n",
    "\n",
    "def modelo_sigmoide_erf(Paw,K,Vmax,mi,sigma):\n",
    "    Vmax_recrutado = Vmax*meu_erf2(Paw,mi,sigma)\n",
    "    V = Vmax_recrutado*(1-np.exp(-K*Paw))\n",
    "    return V\n",
    "\n",
    "\n",
    "def modelo_sigmoide_erf_vec(Paw,K,Vmax,mi,sigma):\n",
    "    Vmax_recrutado = Vmax*meu_erf2_vec(Paw,mi,sigma)\n",
    "    V = Vmax_recrutado*(1-np.exp(-K*Paw))\n",
    "    return V"
   ]
  },
  {
   "cell_type": "code",
   "execution_count": null,
   "metadata": {},
   "outputs": [],
   "source": [
    "# comparando o modelo com integral e o com erf()\n",
    "Pmax = 60\n",
    "Vmax = 1500\n",
    "K = 0.06\n",
    "mi = 20\n",
    "sigma = 10\n",
    "pressoes = np.arange(0,Pmax,0.5)\n",
    "sigmoide = [modelo_sigmoide(Paw,K,Vmax,mi,sigma) for Paw in pressoes]\n",
    "sigmoide2 = [modelo_sigmoide_erf(Paw,K,Vmax,mi,sigma) for Paw in pressoes]\n",
    "plt.plot(pressoes,sigmoide)\n",
    "plt.plot(pressoes,sigmoide2)"
   ]
  },
  {
   "cell_type": "code",
   "execution_count": null,
   "metadata": {},
   "outputs": [],
   "source": [
    "# simulando dados PV\n",
    "Pmax = 60\n",
    "Vmax = 1500\n",
    "K = 0.06\n",
    "mi = 10\n",
    "sigma = 10\n",
    "\n",
    "# estimativa inicial: K,Vmax,mi,sigma\n",
    "p0 = [0.05, 2000, 10, 10]\n",
    "\n",
    "pressoes = [5, 10, 15, 20, 25, 30]\n",
    "vol_sigmoide = [modelo_sigmoide(Paw,K,Vmax,mi,sigma) for Paw in pressoes]\n",
    "\n",
    "plt1,_ = plot_curvas_sigmoide(Pmax,mi,sigma,K,Vmax)\n",
    "_= plt1.scatter(pressoes,vol_sigmoide)\n",
    "\n",
    "estimator_lst = [\"lm\",\"trf\",\"dogbox\"]\n",
    "estimator = estimator_lst[0]\n",
    "parameters, pcov = curve_fit(modelo_sigmoide_erf_vec, pressoes, vol_sigmoide, p0=p0, method=estimator)\n",
    "print(f'{estimator}: {parameters}')\n",
    "K,Vmax,mi,sigma = parameters\n",
    "vol_sigmoide_fitado = [modelo_sigmoide(x,*parameters) for x in range(Pmax)]\n",
    "_= plt1.plot(range(Pmax),vol_sigmoide_fitado,'r:')"
   ]
  },
  {
   "cell_type": "markdown",
   "metadata": {},
   "source": [
    "## Testando com outros parâmetros"
   ]
  },
  {
   "cell_type": "code",
   "execution_count": null,
   "metadata": {},
   "outputs": [],
   "source": [
    "# p0 = estimativa inicial: [K,Vmax,mi,sigma]\n",
    "def testa_ajuste(Pmax,Vmax,K,mi,sigma,pressoes,p0=[0.05, 2000, 10, 10],estimator=\"trf\"):\n",
    "\n",
    "    # plotando valores 'reais'\n",
    "    vol_sigmoide = [modelo_sigmoide(Paw,K,Vmax,mi,sigma) for Paw in pressoes]\n",
    "    plt1,_ = plot_curvas_sigmoide(Pmax,mi,sigma,K,Vmax)\n",
    "    _= plt1.scatter(pressoes,vol_sigmoide)\n",
    "    \n",
    "    # ajustando parâmetros\n",
    "    parameters, pcov = curve_fit(modelo_sigmoide_erf_vec, pressoes, vol_sigmoide, p0=p0, method=estimator)\n",
    "    vol_sigmoide_fitado = [modelo_sigmoide(x,*parameters) for x in range(Pmax)]\n",
    "    K,Vmax,mi,sigma = parameters\n",
    "    _= plt1.plot(range(Pmax),vol_sigmoide_fitado,'r:',label=f'fit: K={K:.3f}, Vmax={Vmax:.0f}, $\\\\mu$={mi:.1f}, $\\\\sigma$={sigma:.1f}')\n",
    "    plt1.legend()\n",
    "    "
   ]
  },
  {
   "cell_type": "code",
   "execution_count": null,
   "metadata": {
    "scrolled": true
   },
   "outputs": [],
   "source": [
    "# simulando dados PV -> ESTES PARÂMETROS NÃO FITAM COM \"LM\"\n",
    "Pmax = 60\n",
    "Vmax = 1500\n",
    "K = 0.06\n",
    "mi = 20\n",
    "sigma = 20\n",
    "\n",
    "pressoes = [5, 10, 15, 20, 25, 30]\n",
    "testa_ajuste(Pmax,Vmax,K,mi,sigma,pressoes)\n"
   ]
  },
  {
   "cell_type": "code",
   "execution_count": null,
   "metadata": {},
   "outputs": [],
   "source": [
    "# simulando dados PV -> ESTES PARÂMETROS NÃO FITAM COM \"LM\"\n",
    "Pmax = 60\n",
    "Vmax = 1500\n",
    "K = 0.06\n",
    "mi = 20\n",
    "sigma = 20\n",
    "\n",
    "pressoes = [5, 10, 15, 20, 25, 30]\n",
    "testa_ajuste(Pmax,Vmax,K,mi,sigma,pressoes,estimator=\"dogbox\")\n"
   ]
  },
  {
   "cell_type": "code",
   "execution_count": null,
   "metadata": {},
   "outputs": [],
   "source": [
    "pressoes = [5, 10, 15, 20]\n",
    "testa_ajuste(60,1000,0.04,0,10,pressoes) # Pmax,Vmax,K,mi,sigma,pressoes"
   ]
  },
  {
   "cell_type": "code",
   "execution_count": null,
   "metadata": {},
   "outputs": [],
   "source": [
    "pressoes = [10, 15, 20, 25]\n",
    "testa_ajuste(60,1000,0.06,0,10,pressoes) # Pmax,Vmax,K,mi,sigma,pressoes"
   ]
  },
  {
   "cell_type": "code",
   "execution_count": null,
   "metadata": {},
   "outputs": [],
   "source": [
    "pressoes = [10, 15, 20, 25]\n",
    "testa_ajuste(60,3000,0.06,15,5,pressoes) # Pmax,Vmax,K,mi,sigma,pressoes"
   ]
  },
  {
   "cell_type": "code",
   "execution_count": null,
   "metadata": {},
   "outputs": [],
   "source": []
  }
 ],
 "metadata": {
  "kernelspec": {
   "display_name": "Python 3",
   "language": "python",
   "name": "python3"
  },
  "language_info": {
   "codemirror_mode": {
    "name": "ipython",
    "version": 3
   },
   "file_extension": ".py",
   "mimetype": "text/x-python",
   "name": "python",
   "nbconvert_exporter": "python",
   "pygments_lexer": "ipython3",
   "version": "3.8.5"
  }
 },
 "nbformat": 4,
 "nbformat_minor": 4
}
