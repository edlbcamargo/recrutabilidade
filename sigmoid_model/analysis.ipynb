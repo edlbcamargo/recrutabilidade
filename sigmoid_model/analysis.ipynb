{
 "cells": [
  {
   "cell_type": "markdown",
   "metadata": {
    "colab_type": "text",
    "id": "view-in-github"
   },
   "source": [
    "<a href=\"https://colab.research.google.com/github/edlbcamargo/recrutabilidade/blob/master/sigmoid_model/analysis.ipynb\" target=\"_parent\"><img src=\"https://colab.research.google.com/assets/colab-badge.svg\" alt=\"Open In Colab\"/></a>"
   ]
  },
  {
   "cell_type": "code",
   "execution_count": 1,
   "metadata": {
    "colab": {},
    "colab_type": "code",
    "id": "Kxta9m2YG2C4"
   },
   "outputs": [],
   "source": [
    "import numpy as np\n",
    "\n",
    "import matplotlib.pyplot as plt"
   ]
  },
  {
   "cell_type": "markdown",
   "metadata": {
    "colab_type": "text",
    "id": "udJJ5wtIHBVr"
   },
   "source": [
    "# Loading Data\n",
    "Verifica se os arquivos já foram baixados do GitHub ([recrutabilidade](https://github.com/edlbcamargo/recrutabilidade)), caso contrário baixa os arquivos.\n",
    "\n",
    "Cada 2 linhas do arquivo representam um ciclo ventilatório em uma diferente PEEP, e contém os volumes (estimados pela impedância) para a PEEP e para a Pmax no ciclo:\n",
    "\n",
    "Exemplo: Para 3 ciclos ventilatórios, temos:\n",
    "```\n",
    "PEEP_1     vol_min_1\n",
    "Pmax_1     vol_max_1\n",
    "PEEP_2     vol_min_2\n",
    "Pmax_2     vol_max_2\n",
    "PEEP_3     vol_min_3\n",
    "Pmax_3     vol_max_3\n",
    "```\n",
    "\n"
   ]
  },
  {
   "cell_type": "code",
   "execution_count": 2,
   "metadata": {
    "colab": {},
    "colab_type": "code",
    "id": "P1Pl5j5AG8K0"
   },
   "outputs": [],
   "source": [
    "import os.path\n",
    "\n",
    "doente_nome = \"..//data//doente.txt\"\n",
    "saudavel_nome = \"..//data//normal.txt\"\n",
    "\n",
    "if not(os.path.exists(doente_nome)): # se estiver rodando no Colab, baixa o arquivo\n",
    "    !wget /resources/data/doente.txt https://raw.githubusercontent.com/edlbcamargo/recrutabilidade/master/data/doente.txt\n",
    "    doente_nome = \"doente.txt\"\n",
    "\n",
    "if not(os.path.exists(saudavel_nome)): # se estiver rodando no Colab, baixa o arquivo\n",
    "    !wget /resources/data/normal.txt https://raw.githubusercontent.com/edlbcamargo/recrutabilidade/master/data/normal.txt\n",
    "    saudavel_nome = \"normal.txt\"\n",
    "\n",
    "with open(saudavel_nome, \"r\") as file:\n",
    "    d_data = file.readlines()\n",
    "    #Cleaning\n",
    "    d_data = np.array([list(map(float, row.split())) for row in d_data if row != '\\n'])\n",
    "\n",
    "with open(saudavel_nome, \"r\") as file:\n",
    "    s_data = file.readlines()\n",
    "    #Cleaning\n",
    "    s_data = np.array([list(map(float, row.split())) for row in s_data if row != '\\n'])"
   ]
  },
  {
   "cell_type": "markdown",
   "metadata": {
    "colab_type": "text",
    "id": "3J-aETB0HF2X"
   },
   "source": [
    "# Cleaning"
   ]
  },
  {
   "cell_type": "markdown",
   "metadata": {
    "colab_type": "text",
    "id": "V46asFuzODX5"
   },
   "source": [
    "Corrigindo 'problema' com quarto ciclo.\n",
    "Os valores dos arquivos foram obtidos por visualização de um gráfico, e não calculados, e podem não ser precisos.\n",
    "Na próxima etapa do projeto, vamos rodar os dados com dados calculados."
   ]
  },
  {
   "cell_type": "code",
   "execution_count": 3,
   "metadata": {
    "colab": {},
    "colab_type": "code",
    "id": "8AMSuCGoOCx5"
   },
   "outputs": [],
   "source": [
    "# 'Corrige' problema com quarto ciclo:\n",
    "#d_data[6,1] = 474.383081459 # valor original\n",
    "d_data[6,1] = 466 # valor corrigido"
   ]
  },
  {
   "cell_type": "markdown",
   "metadata": {
    "colab_type": "text",
    "id": "WmKmmps7HNUG"
   },
   "source": [
    "# Plotting initial data"
   ]
  },
  {
   "cell_type": "code",
   "execution_count": 4,
   "metadata": {
    "colab": {
     "base_uri": "https://localhost:8080/",
     "height": 515
    },
    "colab_type": "code",
    "id": "n2IEThs5JTl8",
    "outputId": "6ab50975-0a59-4302-b292-dd9497013757"
   },
   "outputs": [
    {
     "data": {
      "image/png": "[encoded data removed]",
      "text/plain": [
       "<Figure size 1008x576 with 2 Axes>"
      ]
     },
     "metadata": {
      "needs_background": "light"
     },
     "output_type": "display_data"
    }
   ],
   "source": [
    "fig, axs = plt.subplots(1,2, figsize = (14,8))\n",
    "\n",
    "data = [d_data, s_data]\n",
    "xlabels = [\"Pressure\",\"Pressure\"]\n",
    "ylabels = [\"Volume\",\"Volume\"]\n",
    "subtitles = [\"Injured\", \"Healthy\"]\n",
    "colors = [\"r\",\"b\"]\n",
    "\n",
    "for ax, d, xlabel, ylabel, subtitle, color in zip(axs.flatten(), data, xlabels, ylabels, subtitles, colors):\n",
    "    ax.scatter(d[:,0], d[:,1], c = color)\n",
    "    ax.set_title(subtitle, fontsize = 16)\n",
    "    ax.set_ylabel(ylabel)\n",
    "    ax.set_xlabel(xlabel)"
   ]
  },
  {
   "cell_type": "markdown",
   "metadata": {
    "colab_type": "text",
    "id": "9Dp_pxQCqgj_"
   },
   "source": [
    "## Fitting Sigmoid"
   ]
  },
  {
   "cell_type": "markdown",
   "metadata": {
    "colab_type": "text",
    "id": "ed9KoafFqmxU"
   },
   "source": [
    "https://docs.scipy.org/doc/scipy/reference/generated/scipy.optimize.curve_fit.html"
   ]
  },
  {
   "cell_type": "code",
   "execution_count": 5,
   "metadata": {
    "colab": {
     "base_uri": "https://localhost:8080/",
     "height": 72
    },
    "colab_type": "code",
    "id": "KimNFEbAqgDr",
    "outputId": "410767b4-7d3c-4d28-ba37-3a009e41d87b"
   },
   "outputs": [
    {
     "name": "stdout",
     "output_type": "stream",
     "text": [
      "Total number of ventilation cycles: 5\n",
      "Using 3 cycles\n",
      "Estimated Lung Capacity: 1600 mL\n"
     ]
    }
   ],
   "source": [
    "import matplotlib.pyplot as plt\n",
    "from scipy.optimize import curve_fit\n",
    "\n",
    "print('Total number of ventilation cycles: ' + str(int(len(d_data[:,0])/2)))\n",
    "\n",
    "numero_de_ciclos = 3\n",
    "pontos_por_ciclo = 5\n",
    "flag_interpolate = True\n",
    "flag_display_data = False\n",
    "metodo = 'dogbox'    # ‘lm’, ‘trf’, ‘dogbox’\n",
    "initial_parameters = [-100, 1000, 20, 8]\n",
    "\n",
    "print('Using' , numero_de_ciclos, 'cycles')\n",
    "\n",
    "d_data_interval = d_data[0:numero_de_ciclos*2:2,:]\n",
    "\n",
    "# Verificando PEEP mínima e máxima no intervalo desejado\n",
    "p_min = np.min(d_data_interval[:,0])\n",
    "p_max = np.max(d_data_interval[:,0])\n",
    "\n",
    "if flag_interpolate: # interpolando pressoes intermediarias\n",
    "    pressure_vals = np.linspace(p_min,p_max,1+(numero_de_ciclos-1)*pontos_por_ciclo,endpoint=True)\n",
    "    d_vols_used = np.interp(pressure_vals,d_data_interval[:,0],d_data_interval[:,1])\n",
    "    d_data_used = np.vstack((pressure_vals, d_vols_used)).T\n",
    "else: # Usando apenas as PEEPs no intervalo desejado\n",
    "    d_data_used = d_data_interval\n",
    "\n",
    "if flag_display_data:\n",
    "    print(\"Pressure interval (cmH2O): \", (p_min,p_max))\n",
    "    print(\"dados:\\n\",d_data)\n",
    "    print(\"intervalo:\\n\",d_data_interval)\n",
    "    print(\"d_data_used:\\n\",d_data_used)\n",
    "\n",
    "def func(x, a, b, c, d):\n",
    "    return a + b/(1 + np.exp(-(x-c)/d))\n",
    "\n",
    "# o método LMS está apresentando uma estimativa muito ruim dependendo dos ciclos utilizados... descobrir porque...\n",
    "d_popt, _ = curve_fit(func, d_data_used[:,0],  d_data_used[:,1], method = metodo, p0 = initial_parameters)\n",
    "\n",
    "print(\"Estimated Lung Capacity: {:.0f} mL\".format(d_popt[1]))"
   ]
  },
  {
   "cell_type": "code",
   "execution_count": 6,
   "metadata": {
    "colab": {
     "base_uri": "https://localhost:8080/",
     "height": 313
    },
    "colab_type": "code",
    "id": "7X6BpKeCqrFM",
    "outputId": "fad5e043-8055-4f48-f963-4f3a70191e16"
   },
   "outputs": [
    {
     "data": {
      "image/png": "[encoded data removed]",
      "text/plain": [
       "<Figure size 432x288 with 1 Axes>"
      ]
     },
     "metadata": {
      "needs_background": "light"
     },
     "output_type": "display_data"
    },
    {
     "name": "stdout",
     "output_type": "stream",
     "text": [
      "fit: a=-729.78, b=1599.50, c=11.02, d= 5.09\n"
     ]
    }
   ],
   "source": [
    "pressures = range(0,100,7)\n",
    "\n",
    "plt.title(\"Doente\")\n",
    "plt.scatter(d_data[:,0], d_data[:,1], c = 'r', label = \"Original\")\n",
    "plt.scatter(d_data_used[:,0], d_data_used[:,1], c = 'k', marker = '.', label = \"Interpolated\")\n",
    "plt.scatter(pressures, func(pressures, *d_popt), c = 'g', marker = '+', label = \"Fit\")\n",
    "plt.xlabel('Pressure')\n",
    "plt.ylabel('Volume')\n",
    "plt.legend()\n",
    "plt.show()\n",
    "print('fit: a=%5.2f, b=%5.2f, c=%5.2f, d=%5.2f' % tuple(d_popt))"
   ]
  },
  {
   "cell_type": "markdown",
   "metadata": {
    "colab_type": "text",
    "id": "7vB0ysW_bvHx"
   },
   "source": [
    "### Results\n",
    "Verificando qual a capacidade pulmonar estimada a cada passo de incremento da PEEP.\n",
    "\n",
    "A ideia é a seguinte: o médico está fazendo uma manobra de recrutamento alveolar, ou seja, ventilando o paciente alguns ciclos em uma certa PEEP, e em seguida aumenta a PEEP por alguns ciclos para recrutar alvéolos... a pergunta que deve ser respondida é: _todos os alvéolos já estão abertos, ou vale a pena incrementar mais ainda a PEEP?_ Sabemos isso verificando se o volume atual está próximo da capacidade pulmonar total (TLC)estimada ou não.\n",
    "\n",
    "PS: idealmente temos que comparar a TLC com onde a exponencial atual vai parar, e não com o volume máximo do ciclo (ou seja, nos interessa a diferença entre onde a sigmoóide termina e onde a exponencial atual termina... lembrar que a sigmoide na verdade é formada por vários trechos de exponenciais). Verificar como fazer isso...\n",
    "\n",
    "\n",
    "\n",
    "---\n",
    "\n",
    "\n",
    "* **A estimativa com 4 ciclos fica fora do esperado (seria algum erro na coleta dos dados?), mas a com 3 ciclos e a com 5 ciclos ficam muito próximas!**\n",
    "* **Alguns números de pontos_por_ciclo dão erro (ex: 5)... descobrir porque...**\n",
    "\n"
   ]
  },
  {
   "cell_type": "code",
   "execution_count": 7,
   "metadata": {
    "colab": {
     "base_uri": "https://localhost:8080/",
     "height": 678
    },
    "colab_type": "code",
    "id": "jW4R0C6wWphi",
    "outputId": "e2d700bd-d7db-4ecd-fb13-62bf3eb277bd"
   },
   "outputs": [
    {
     "name": "stdout",
     "output_type": "stream",
     "text": [
      "Using method lm, with, 3 points per cycle\n",
      "Estimated Lung Capacity (3 cycles): 1693 mL\n",
      "Estimated Lung Capacity (4 cycles): 610 mL\n"
     ]
    },
    {
     "ename": "RuntimeError",
     "evalue": "Optimal parameters not found: Number of calls to function has reached maxfev = 1000.",
     "output_type": "error",
     "traceback": [
      "\u001b[0;31m---------------------------------------------------------------------------\u001b[0m",
      "\u001b[0;31mRuntimeError\u001b[0m                              Traceback (most recent call last)",
      "\u001b[0;32m<ipython-input-7-9dd9ad005b9c>\u001b[0m in \u001b[0;36m<module>\u001b[0;34m\u001b[0m\n\u001b[1;32m     33\u001b[0m         \u001b[0mprint\u001b[0m\u001b[0;34m(\u001b[0m\u001b[0;34mf\"Using method {metodo}, with, {pontos_por_ciclo} points per cycle\"\u001b[0m\u001b[0;34m)\u001b[0m\u001b[0;34m\u001b[0m\u001b[0;34m\u001b[0m\u001b[0m\n\u001b[1;32m     34\u001b[0m         \u001b[0;32mfor\u001b[0m \u001b[0mnciclos\u001b[0m \u001b[0;32min\u001b[0m \u001b[0mnciclos_lst\u001b[0m\u001b[0;34m:\u001b[0m\u001b[0;34m\u001b[0m\u001b[0;34m\u001b[0m\u001b[0m\n\u001b[0;32m---> 35\u001b[0;31m           \u001b[0mdd_popt\u001b[0m \u001b[0;34m=\u001b[0m \u001b[0mestima\u001b[0m\u001b[0;34m(\u001b[0m\u001b[0md_data\u001b[0m\u001b[0;34m,\u001b[0m\u001b[0mnciclos\u001b[0m\u001b[0;34m,\u001b[0m \u001b[0mpontos_por_ciclo\u001b[0m\u001b[0;34m,\u001b[0m \u001b[0mmetodo\u001b[0m\u001b[0;34m,\u001b[0m \u001b[0mflag_interpolate\u001b[0m\u001b[0;34m,\u001b[0m \u001b[0mfunc_sigm\u001b[0m\u001b[0;34m,\u001b[0m \u001b[0minitial_parameters\u001b[0m\u001b[0;34m)\u001b[0m\u001b[0;34m\u001b[0m\u001b[0;34m\u001b[0m\u001b[0m\n\u001b[0m\u001b[1;32m     36\u001b[0m           \u001b[0mprint\u001b[0m\u001b[0;34m(\u001b[0m\u001b[0;34mf\"Estimated Lung Capacity ({nciclos} cycles): {dd_popt[1]:.0f} mL\"\u001b[0m\u001b[0;34m)\u001b[0m\u001b[0;34m\u001b[0m\u001b[0;34m\u001b[0m\u001b[0m\n",
      "\u001b[0;32m<ipython-input-7-9dd9ad005b9c>\u001b[0m in \u001b[0;36mestima\u001b[0;34m(d_data, numero_de_ciclos, pontos_por_ciclo, metodo, flag_interpolate, funcao, initial_parameters)\u001b[0m\n\u001b[1;32m     15\u001b[0m         \u001b[0md_data_used\u001b[0m \u001b[0;34m=\u001b[0m \u001b[0md_data_interval\u001b[0m\u001b[0;34m\u001b[0m\u001b[0;34m\u001b[0m\u001b[0m\n\u001b[1;32m     16\u001b[0m \u001b[0;34m\u001b[0m\u001b[0m\n\u001b[0;32m---> 17\u001b[0;31m     \u001b[0md_popt\u001b[0m\u001b[0;34m,\u001b[0m \u001b[0m_\u001b[0m \u001b[0;34m=\u001b[0m \u001b[0mcurve_fit\u001b[0m\u001b[0;34m(\u001b[0m\u001b[0mfuncao\u001b[0m\u001b[0;34m,\u001b[0m \u001b[0md_data_used\u001b[0m\u001b[0;34m[\u001b[0m\u001b[0;34m:\u001b[0m\u001b[0;34m,\u001b[0m\u001b[0;36m0\u001b[0m\u001b[0;34m]\u001b[0m\u001b[0;34m,\u001b[0m  \u001b[0md_data_used\u001b[0m\u001b[0;34m[\u001b[0m\u001b[0;34m:\u001b[0m\u001b[0;34m,\u001b[0m\u001b[0;36m1\u001b[0m\u001b[0;34m]\u001b[0m\u001b[0;34m,\u001b[0m \u001b[0mmethod\u001b[0m \u001b[0;34m=\u001b[0m \u001b[0mmetodo\u001b[0m \u001b[0;34m,\u001b[0m \u001b[0mp0\u001b[0m \u001b[0;34m=\u001b[0m \u001b[0minitial_parameters\u001b[0m\u001b[0;34m)\u001b[0m\u001b[0;34m\u001b[0m\u001b[0;34m\u001b[0m\u001b[0m\n\u001b[0m\u001b[1;32m     18\u001b[0m \u001b[0;34m\u001b[0m\u001b[0m\n\u001b[1;32m     19\u001b[0m     \u001b[0;32mreturn\u001b[0m \u001b[0md_popt\u001b[0m\u001b[0;34m\u001b[0m\u001b[0;34m\u001b[0m\u001b[0m\n",
      "\u001b[0;32m~/.local/lib/python3.6/site-packages/scipy/optimize/minpack.py\u001b[0m in \u001b[0;36mcurve_fit\u001b[0;34m(f, xdata, ydata, p0, sigma, absolute_sigma, check_finite, bounds, method, jac, **kwargs)\u001b[0m\n\u001b[1;32m    787\u001b[0m         \u001b[0mcost\u001b[0m \u001b[0;34m=\u001b[0m \u001b[0mnp\u001b[0m\u001b[0;34m.\u001b[0m\u001b[0msum\u001b[0m\u001b[0;34m(\u001b[0m\u001b[0minfodict\u001b[0m\u001b[0;34m[\u001b[0m\u001b[0;34m'fvec'\u001b[0m\u001b[0;34m]\u001b[0m \u001b[0;34m**\u001b[0m \u001b[0;36m2\u001b[0m\u001b[0;34m)\u001b[0m\u001b[0;34m\u001b[0m\u001b[0;34m\u001b[0m\u001b[0m\n\u001b[1;32m    788\u001b[0m         \u001b[0;32mif\u001b[0m \u001b[0mier\u001b[0m \u001b[0;32mnot\u001b[0m \u001b[0;32min\u001b[0m \u001b[0;34m[\u001b[0m\u001b[0;36m1\u001b[0m\u001b[0;34m,\u001b[0m \u001b[0;36m2\u001b[0m\u001b[0;34m,\u001b[0m \u001b[0;36m3\u001b[0m\u001b[0;34m,\u001b[0m \u001b[0;36m4\u001b[0m\u001b[0;34m]\u001b[0m\u001b[0;34m:\u001b[0m\u001b[0;34m\u001b[0m\u001b[0;34m\u001b[0m\u001b[0m\n\u001b[0;32m--> 789\u001b[0;31m             \u001b[0;32mraise\u001b[0m \u001b[0mRuntimeError\u001b[0m\u001b[0;34m(\u001b[0m\u001b[0;34m\"Optimal parameters not found: \"\u001b[0m \u001b[0;34m+\u001b[0m \u001b[0merrmsg\u001b[0m\u001b[0;34m)\u001b[0m\u001b[0;34m\u001b[0m\u001b[0;34m\u001b[0m\u001b[0m\n\u001b[0m\u001b[1;32m    790\u001b[0m     \u001b[0;32melse\u001b[0m\u001b[0;34m:\u001b[0m\u001b[0;34m\u001b[0m\u001b[0;34m\u001b[0m\u001b[0m\n\u001b[1;32m    791\u001b[0m         \u001b[0;31m# Rename maxfev (leastsq) to max_nfev (least_squares), if specified.\u001b[0m\u001b[0;34m\u001b[0m\u001b[0;34m\u001b[0m\u001b[0;34m\u001b[0m\u001b[0m\n",
      "\u001b[0;31mRuntimeError\u001b[0m: Optimal parameters not found: Number of calls to function has reached maxfev = 1000."
     ]
    }
   ],
   "source": [
    "\n",
    "def func_sigm(x, a, b, c, d):\n",
    "    return a + b/(1 + np.exp(-(x-c)/d))\n",
    "\n",
    "def estima(d_data, numero_de_ciclos, pontos_por_ciclo, metodo, flag_interpolate, funcao, initial_parameters):\n",
    "    d_data_interval = d_data[0:numero_de_ciclos*2:2,:]\n",
    "    # Verificando PEEP mínima e máxima no intervalo desejado\n",
    "    p_min = np.min(d_data_interval[:,0])\n",
    "    p_max = np.max(d_data_interval[:,0])\n",
    "\n",
    "    if flag_interpolate: # interpolando pressoes intermediarias\n",
    "        pressure_vals = np.linspace(p_min,p_max,1+(numero_de_ciclos-1)*pontos_por_ciclo,endpoint=True)\n",
    "        d_vols_used = np.interp(pressure_vals,d_data_interval[:,0],d_data_interval[:,1])\n",
    "        d_data_used = np.vstack((pressure_vals, d_vols_used)).T\n",
    "    else: # Usando apenas as PEEPs no intervalo desejado\n",
    "        d_data_used = d_data_interval\n",
    "    \n",
    "    d_popt, _ = curve_fit(funcao, d_data_used[:,0],  d_data_used[:,1], method = metodo , p0 = initial_parameters)    \n",
    "\n",
    "    return d_popt\n",
    "\n",
    "# o método LMS está apresentando uma estimativa muito ruim dependendo dos ciclos utilizados... descobrir porque...\n",
    "metodo_lst = ['lm', 'trf', 'dogbox']\n",
    "pontos_por_ciclo_lst = [3,50,200]\n",
    "nciclos_lst = list(range(3,6)) #Poderiamos passar somente range(3,6)\n",
    "flag_interpolate = True\n",
    "initial_parameters = [-100, 1000, 20, 8]\n",
    "\n",
    "# alguns numeros de pontos_por_ciclo dao erro (ex: 5)... descobrir porque...\n",
    "# estimativa com 'lm' usando 4 ciclos fica bem ruim... descobrir porque...\n",
    "\n",
    "for pontos_por_ciclo in pontos_por_ciclo_lst: \n",
    "    for metodo in metodo_lst:\n",
    "        print(f\"Using method {metodo}, with, {pontos_por_ciclo} points per cycle\")\n",
    "        for nciclos in nciclos_lst:\n",
    "          dd_popt = estima(d_data,nciclos, pontos_por_ciclo, metodo, flag_interpolate, func_sigm, initial_parameters)\n",
    "          print(f\"Estimated Lung Capacity ({nciclos} cycles): {dd_popt[1]:.0f} mL\")"
   ]
  },
  {
   "cell_type": "markdown",
   "metadata": {
    "colab_type": "text",
    "id": "KRRMz0-yL3xK"
   },
   "source": [
    "Verificando 'problema' com o quarto ciclo."
   ]
  },
  {
   "cell_type": "code",
   "execution_count": null,
   "metadata": {
    "colab": {
     "base_uri": "https://localhost:8080/",
     "height": 1000
    },
    "colab_type": "code",
    "id": "8GxLyg3iL9fR",
    "outputId": "d049b80f-4bfe-4c8a-b00b-08df9b1341a0"
   },
   "outputs": [],
   "source": [
    "metodo_lst = ['lm']\n",
    "pontos_por_ciclo_lst = [200]\n",
    "nciclos_lst = list(range(3,6)) #Poderiamos passar somente range(3,6)\n",
    "flag_interpolate = True\n",
    "initial_parameters = [-100, 1000, 20, 8]\n",
    "volume_original = 474.383081459\n",
    "\n",
    "variacoes_V4 = list(range(-10,11))\n",
    "\n",
    "for variacao in variacoes_V4:\n",
    "    d_data[6,1] = volume_original + variacao\n",
    "    for pontos_por_ciclo in pontos_por_ciclo_lst: \n",
    "        for metodo in metodo_lst:\n",
    "            print(f\"Using method {metodo}, with, {pontos_por_ciclo} points per cycle\")\n",
    "            for nciclos in nciclos_lst:\n",
    "              dd_popt = estima(d_data,nciclos, pontos_por_ciclo, metodo, flag_interpolate, func_sigm, initial_parameters)\n",
    "              print(f\"Estimated Lung Capacity ({nciclos} cycles, V4={d_data[6,1]:.2f}): {dd_popt[1]:.0f} mL\")"
   ]
  }
 ],
 "metadata": {
  "colab": {
   "collapsed_sections": [],
   "include_colab_link": true,
   "name": "analysis.ipynb",
   "provenance": [],
   "toc_visible": true
  },
  "kernelspec": {
   "display_name": "Python 3",
   "language": "python",
   "name": "python3"
  },
  "language_info": {
   "codemirror_mode": {
    "name": "ipython",
    "version": 3
   },
   "file_extension": ".py",
   "mimetype": "text/x-python",
   "name": "python",
   "nbconvert_exporter": "python",
   "pygments_lexer": "ipython3",
   "version": "3.6.9"
  }
 },
 "nbformat": 4,
 "nbformat_minor": 1
}
