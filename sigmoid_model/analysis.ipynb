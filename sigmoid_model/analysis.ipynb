{
  "nbformat": 4,
  "nbformat_minor": 0,
  "metadata": {
    "colab": {
      "name": "analysis.ipynb",
      "provenance": [],
      "collapsed_sections": [],
      "toc_visible": true
    },
    "kernelspec": {
      "name": "python3",
      "display_name": "Python 3"
    }
  },
  "cells": [
    {
      "cell_type": "code",
      "metadata": {
        "id": "Kxta9m2YG2C4",
        "colab_type": "code",
        "colab": {}
      },
      "source": [
        "import numpy as np\n",
        "\n",
        "import matplotlib.pyplot as plt"
      ],
      "execution_count": null,
      "outputs": []
    },
    {
      "cell_type": "markdown",
      "metadata": {
        "id": "29e9tFRirVyE",
        "colab_type": "text"
      },
      "source": [
        "Ta um português com inglês hahaha"
      ]
    },
    {
      "cell_type": "code",
      "metadata": {
        "id": "e5EGqkLFInY4",
        "colab_type": "code",
        "colab": {}
      },
      "source": [
        "# lendo os arquivos do github...\n",
        "# ignorar este trecho...\n",
        "#from google.colab import files\n",
        "\n",
        "#up = files.upload()"
      ],
      "execution_count": null,
      "outputs": []
    },
    {
      "cell_type": "markdown",
      "metadata": {
        "id": "udJJ5wtIHBVr",
        "colab_type": "text"
      },
      "source": [
        "# Loading Data\n",
        "Verifica se os arquivos já foram baixados do GitHub ([recrutabilidade](https://github.com/edlbcamargo/recrutabilidade)), caso contrário baixa os arquivos.\n",
        "\n",
        "Cada 2 linhas do arquivo representam um ciclo ventilatório em uma diferente PEEP, e contém os volumes (estimados pela impedância) para a PEEP e para a Pmax no ciclo:\n",
        "\n",
        "Exemplo: Para 3 ciclos ventilatórios, temos:\n",
        "```\n",
        "PEEP_1     vol_min_1\n",
        "Pmax_1     vol_max_1\n",
        "PEEP_2     vol_min_2\n",
        "Pmax_2     vol_max_2\n",
        "PEEP_3     vol_min_3\n",
        "Pmax_3     vol_max_3\n",
        "```\n",
        "\n"
      ]
    },
    {
      "cell_type": "code",
      "metadata": {
        "id": "P1Pl5j5AG8K0",
        "colab_type": "code",
        "colab": {}
      },
      "source": [
        "import os.path\n",
        "\n",
        "if not(os.path.exists(\"doente.txt\")):\n",
        "    !wget /resources/data/doente.txt https://raw.githubusercontent.com/edlbcamargo/recrutabilidade/master/data/doente.txt\n",
        "\n",
        "if not(os.path.exists(\"normal.txt\")):\n",
        "    !wget /resources/data/normal.txt https://raw.githubusercontent.com/edlbcamargo/recrutabilidade/master/data/normal.txt\n",
        "\n",
        "with open(\"doente.txt\", \"r\") as file:\n",
        "    d_data = file.readlines()\n",
        "    \n",
        "with open(\"normal.txt\", \"r\") as file:\n",
        "    s_data = file.readlines()"
      ],
      "execution_count": null,
      "outputs": []
    },
    {
      "cell_type": "markdown",
      "metadata": {
        "id": "3J-aETB0HF2X",
        "colab_type": "text"
      },
      "source": [
        "# Cleaning"
      ]
    },
    {
      "cell_type": "code",
      "metadata": {
        "id": "1KHnk83cHMf-",
        "colab_type": "code",
        "colab": {}
      },
      "source": [
        "d_data = np.array([list(map(float, row.split())) for row in d_data if row != '\\n'])\n",
        "s_data = np.array([list(map(float, row.split())) for row in s_data if row != '\\n'])"
      ],
      "execution_count": null,
      "outputs": []
    },
    {
      "cell_type": "markdown",
      "metadata": {
        "id": "hTd7O2jBy_p0",
        "colab_type": "text"
      },
      "source": [
        "EU FIZ AS COISAS SEM LER ANTES HAHAHA EU JA ENTENDI OQ FAZER..."
      ]
    },
    {
      "cell_type": "markdown",
      "metadata": {
        "id": "WmKmmps7HNUG",
        "colab_type": "text"
      },
      "source": [
        "# Plotting initial data"
      ]
    },
    {
      "cell_type": "markdown",
      "metadata": {
        "id": "da_cuHeWLpQY",
        "colab_type": "text"
      },
      "source": [
        "Professor sao varias variaveis??? Entao tem algum indice implicito nesses dados e na verdade ficaria mais ou menos assim? Os eixos estão corretos?"
      ]
    },
    {
      "cell_type": "code",
      "metadata": {
        "id": "n2IEThs5JTl8",
        "colab_type": "code",
        "colab": {
          "base_uri": "https://localhost:8080/",
          "height": 515
        },
        "outputId": "74e0af52-e55b-41bb-9886-345f022170bb"
      },
      "source": [
        "fig, axs = plt.subplots(1,2, figsize = (14,8))\n",
        "\n",
        "data = [d_data, s_data]\n",
        "xlabels = [\"Pressure\",\"Pressure\"]\n",
        "ylabels = [\"Volume\",\"Volume\"]\n",
        "subtitles = [\"Injured\", \"Healthy\"]\n",
        "colors = [\"r\",\"b\"]\n",
        "\n",
        "for ax, d, xlabel, ylabel, subtitle, color in zip(axs.flatten(), data, xlabels, ylabels, subtitles, colors):\n",
        "    ax.scatter(d[:,0], d[:,1], c = color)\n",
        "    ax.set_title(subtitle, fontsize = 16)\n",
        "    ax.set_ylabel(ylabel)\n",
        "    ax.set_xlabel(xlabel)"
      ],
      "execution_count": 29,
      "outputs": [
        {
          "output_type": "display_data",
          "data": {
            "image/png": "[encoded data removed]",
            "text/plain": [
              "<Figure size 1008x576 with 2 Axes>"
            ]
          },
          "metadata": {
            "tags": [],
            "needs_background": "light"
          }
        }
      ]
    },
    {
      "cell_type": "markdown",
      "metadata": {
        "id": "9Dp_pxQCqgj_",
        "colab_type": "text"
      },
      "source": [
        "## Fitting Sigmoid"
      ]
    },
    {
      "cell_type": "markdown",
      "metadata": {
        "id": "ed9KoafFqmxU",
        "colab_type": "text"
      },
      "source": [
        "https://docs.scipy.org/doc/scipy/reference/generated/scipy.optimize.curve_fit.html"
      ]
    },
    {
      "cell_type": "code",
      "metadata": {
        "id": "KimNFEbAqgDr",
        "colab_type": "code",
        "colab": {
          "base_uri": "https://localhost:8080/",
          "height": 72
        },
        "outputId": "941799a7-b703-4651-83d6-0b772c98e627"
      },
      "source": [
        "import matplotlib.pyplot as plt\n",
        "from scipy.optimize import curve_fit\n",
        "\n",
        "print('Total number of ventilation cycles: ' + str(int(len(d_data[:,0])/2)))\n",
        "\n",
        "numero_de_ciclos = 3\n",
        "pontos_por_ciclo = 5\n",
        "flag_interpolate = True\n",
        "flag_display_data = False\n",
        "metodo = 'dogbox'    # ‘lm’, ‘trf’, ‘dogbox’\n",
        "\n",
        "print('Using' , numero_de_ciclos, 'cycles')\n",
        "\n",
        "d_data_interval = d_data[0:numero_de_ciclos*2:2,:]\n",
        "\n",
        "\n",
        "# Verificando PEEP mínima e máxima no intervalo desejado\n",
        "p_min = np.min(d_data_interval[:,0])\n",
        "p_max = np.max(d_data_interval[:,0])\n",
        "\n",
        "\n",
        "\n",
        "if flag_interpolate: # interpoando pressoes intermediarias\n",
        "    pressure_vals = np.linspace(p_min,p_max,1+(numero_de_ciclos-1)*pontos_por_ciclo,endpoint=True)\n",
        "    d_vols_used = np.interp(pressure_vals,d_data_interval[:,0],d_data_interval[:,1])\n",
        "    d_data_used = np.vstack((pressure_vals, d_vols_used)).T\n",
        "else: # Usando apenas as PEEPs no intervalo desejado\n",
        "    d_data_used = d_data_interval\n",
        "\n",
        "if flag_display_data:\n",
        "    print(\"Pressure interval (cmH2O): \", (p_min,p_max))\n",
        "    print(\"dados:\\n\",d_data)\n",
        "    print(\"intervalo:\\n\",d_data_interval)\n",
        "    print(\"d_data_used:\\n\",d_data_used)\n",
        "\n",
        "def func(x, a, b, c, d):\n",
        "    return a + b/(1 + np.exp(-(x-c)/d))\n",
        "\n",
        "# o método LMS está apresentando uma estimativa muito ruim dependendo dos ciclos utilizados... descobrir porque...\n",
        "#d_popt, _ = curve_fit(func, d_data_used[:,0],  d_data_used[:,1], method = \"lm\")\n",
        "d_popt, _ = curve_fit(func, d_data_used[:,0],  d_data_used[:,1], method = metodo)\n",
        "\n",
        "print(\"Estimated Lung Capacity: {:.0f} mL\".format(d_popt[1]))"
      ],
      "execution_count": 271,
      "outputs": [
        {
          "output_type": "stream",
          "text": [
            "Total number of ventilation cycles: 5\n",
            "Using 3 cycles\n",
            "Estimated Lung Capacity: 1169 mL\n"
          ],
          "name": "stdout"
        }
      ]
    },
    {
      "cell_type": "code",
      "metadata": {
        "id": "7X6BpKeCqrFM",
        "colab_type": "code",
        "colab": {
          "base_uri": "https://localhost:8080/",
          "height": 313
        },
        "outputId": "3c3f2012-0bcf-4b25-f4eb-48b657bb1220"
      },
      "source": [
        "pressures = range(0,100,7)\n",
        "\n",
        "plt.title(\"Doente\")\n",
        "plt.scatter(d_data[:,0], d_data[:,1], c = 'r', label = \"Original\")\n",
        "plt.scatter(d_data_used[:,0], d_data_used[:,1], c = 'k', marker = '.', label = \"Interpolated\")\n",
        "plt.scatter(pressures, func(pressures, *d_popt), c = 'g', marker = '+', label = \"Fit\")\n",
        "plt.xlabel('Pressure')\n",
        "plt.ylabel('Volume')\n",
        "plt.legend()\n",
        "plt.show()\n",
        "print('fit: a=%5.2f, b=%5.2f, c=%5.2f, d=%5.2f' % tuple(d_popt))"
      ],
      "execution_count": 232,
      "outputs": [
        {
          "output_type": "display_data",
          "data": {
            "image/png": "[encoded data removed]",
            "text/plain": [
              "<Figure size 432x288 with 1 Axes>"
            ]
          },
          "metadata": {
            "tags": [],
            "needs_background": "light"
          }
        },
        {
          "output_type": "stream",
          "text": [
            "fit: a=-191.76, b=1438.70, c=26.69, d= 8.68\n"
          ],
          "name": "stdout"
        }
      ]
    },
    {
      "cell_type": "markdown",
      "metadata": {
        "id": "7vB0ysW_bvHx",
        "colab_type": "text"
      },
      "source": [
        "### Results\n",
        "Verificando qual a capacidade pulmonar estimada a cada passo de incremento da PEEP.\n",
        "\n",
        "A ideia é a seguinte: o médico está fazendo uma manobra de recrutamento alveolar, ou seja, ventilando o paciente alguns ciclos em uma certa PEEP, e em seguida aumenta a PEEP por alguns ciclos para recrutar alvéolos... a pergunta que deve ser respondida é: _todos os alvéolos já estão abertos, ou vale a pena incrementar mais ainda a PEEP?_ Sabemos isso verificando se o volume atual está próximo da capacidade pulmonar total (TLC)estimada ou não.\n",
        "\n",
        "PS: idealmente temos que comparar a TLC com onde a exponencial atual vai parar, e não com o volume máximo do ciclo (ou seja, nos interessa a diferença entre onde a sigmoóide termina e onde a exponencial atual termina... lembrar que a sigmoide na verdade é formada por vários trechos de exponenciais). Verificar como fazer isso...\n",
        "\n",
        "\n",
        "\n",
        "---\n",
        "\n",
        "\n",
        "**A estimativa com 4 ciclos fica fora do esperado (seria algum erro na coleta dos dados?), mas a com 3 ciclos e a com 5 ciclos ficam muito próximas!**\n",
        "\n"
      ]
    },
    {
      "cell_type": "code",
      "metadata": {
        "id": "jW4R0C6wWphi",
        "colab_type": "code",
        "colab": {
          "base_uri": "https://localhost:8080/",
          "height": 678
        },
        "outputId": "9456d062-1a61-4044-99ee-6aa2643940e6"
      },
      "source": [
        "\n",
        "def func_sigm(x, a, b, c, d):\n",
        "    return a + b/(1 + np.exp(-(x-c)/d))\n",
        "\n",
        "def estima(d_data,numero_de_ciclos,pontos_por_ciclo,metodo,flag_interpolate,funcao):\n",
        "    d_data_interval = d_data[0:numero_de_ciclos*2:2,:]\n",
        "    # Verificando PEEP mínima e máxima no intervalo desejado\n",
        "    p_min = np.min(d_data_interval[:,0])\n",
        "    p_max = np.max(d_data_interval[:,0])\n",
        "\n",
        "    if flag_interpolate: # interpoando pressoes intermediarias\n",
        "        pressure_vals = np.linspace(p_min,p_max,1+(numero_de_ciclos-1)*pontos_por_ciclo,endpoint=True)\n",
        "        d_vols_used = np.interp(pressure_vals,d_data_interval[:,0],d_data_interval[:,1])\n",
        "        d_data_used = np.vstack((pressure_vals, d_vols_used)).T\n",
        "    else: # Usando apenas as PEEPs no intervalo desejado\n",
        "        d_data_used = d_data_interval\n",
        "    \n",
        "    d_popt, _ = curve_fit(funcao, d_data_used[:,0],  d_data_used[:,1], method = metodo)    \n",
        "\n",
        "    return d_popt\n",
        "\n",
        "# o método LMS está apresentando uma estimativa muito ruim dependendo dos ciclos utilizados... descobrir porque...\n",
        "metodos = {1:'lm', 2:'trf', 3:'dogbox'}\n",
        "pontos_por_ciclo = 3\n",
        "flag_interpolate = True\n",
        "\n",
        "# alguns numeros de pontos_por_ciclo dao erro (ex: 5)... descobrir porque...\n",
        "# estimativa com 'lm' usando 4 ciclos fica bem ruim... descobrir porque...\n",
        "for pontos_por_ciclo in [3,50,200]: \n",
        "    for metodo_index in range(1,4):\n",
        "        print(\"Using method \",metodos[metodo_index],\"with\",pontos_por_ciclo,\"points per cycle\")\n",
        "        for nciclos in range(3,6):\n",
        "            dd_popt = estima(d_data,nciclos,pontos_por_ciclo,metodos[metodo_index],flag_interpolate,func_sigm)\n",
        "            print(\"Estimated Lung Capacity ({:} cycles): {:.0f} mL\".format(nciclos,dd_popt[1]))\n",
        "\n"
      ],
      "execution_count": 275,
      "outputs": [
        {
          "output_type": "stream",
          "text": [
            "Using method  lm with 3 points per cycle\n",
            "Estimated Lung Capacity (3 cycles): 153 mL\n",
            "Estimated Lung Capacity (4 cycles): 65 mL\n",
            "Estimated Lung Capacity (5 cycles): 1127 mL\n",
            "Using method  trf with 3 points per cycle\n",
            "Estimated Lung Capacity (3 cycles): 1189 mL\n",
            "Estimated Lung Capacity (4 cycles): 1450 mL\n",
            "Estimated Lung Capacity (5 cycles): 1127 mL\n",
            "Using method  dogbox with 3 points per cycle\n",
            "Estimated Lung Capacity (3 cycles): 1189 mL\n",
            "Estimated Lung Capacity (4 cycles): 1450 mL\n",
            "Estimated Lung Capacity (5 cycles): 1127 mL\n",
            "Using method  lm with 50 points per cycle\n",
            "Estimated Lung Capacity (3 cycles): 1103 mL\n",
            "Estimated Lung Capacity (4 cycles): 52 mL\n",
            "Estimated Lung Capacity (5 cycles): 1092 mL\n",
            "Using method  trf with 50 points per cycle\n",
            "Estimated Lung Capacity (3 cycles): 1103 mL\n",
            "Estimated Lung Capacity (4 cycles): 1408 mL\n",
            "Estimated Lung Capacity (5 cycles): 1092 mL\n",
            "Using method  dogbox with 50 points per cycle\n",
            "Estimated Lung Capacity (3 cycles): 1103 mL\n",
            "Estimated Lung Capacity (4 cycles): 1408 mL\n",
            "Estimated Lung Capacity (5 cycles): 1092 mL\n",
            "Using method  lm with 200 points per cycle\n",
            "Estimated Lung Capacity (3 cycles): 1095 mL\n",
            "Estimated Lung Capacity (4 cycles): 52 mL\n",
            "Estimated Lung Capacity (5 cycles): 1090 mL\n",
            "Using method  trf with 200 points per cycle\n",
            "Estimated Lung Capacity (3 cycles): 1095 mL\n",
            "Estimated Lung Capacity (4 cycles): 1404 mL\n",
            "Estimated Lung Capacity (5 cycles): 1090 mL\n",
            "Using method  dogbox with 200 points per cycle\n",
            "Estimated Lung Capacity (3 cycles): 1095 mL\n",
            "Estimated Lung Capacity (4 cycles): 1404 mL\n",
            "Estimated Lung Capacity (5 cycles): 1090 mL\n"
          ],
          "name": "stdout"
        }
      ]
    }
  ]
}