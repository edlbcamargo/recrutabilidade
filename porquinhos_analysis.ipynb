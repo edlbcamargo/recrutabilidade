{
 "cells": [
  {
   "cell_type": "code",
   "execution_count": 1,
   "metadata": {},
   "outputs": [],
   "source": [
    "import pandas as pd\n",
    "import numpy as np\n",
    "\n",
    "import pig_class  \n",
    "\n",
    "import glob\n",
    "import pickle\n",
    "\n",
    "\"\"\"\n",
    "CUIDADO!!\n",
    "\"\"\"\n",
    "import warnings\n",
    "warnings.filterwarnings(\"ignore\")"
   ]
  },
  {
   "cell_type": "code",
   "execution_count": 2,
   "metadata": {},
   "outputs": [],
   "source": [
    "from fitterClass import funcFitter\n",
    "from utils import find_best_b, plot_exponentials"
   ]
  },
  {
   "cell_type": "code",
   "execution_count": 3,
   "metadata": {},
   "outputs": [],
   "source": [
    "def sigmoid(x, a, b, c, d):\n",
    "    return a + b/(1 + np.exp(-(x-c)/d))\n",
    "\n",
    "def exponential(x, a, b, c, d):\n",
    "    return a - b*np.exp(-(x-c)/d)\n",
    "\n",
    "def exponential_cicle_fixed_b(x, a, c):\n",
    "    return -a*np.exp(-best_b*x)+c\n",
    "\n",
    "estimators = [\"lm\", \"trf\", \"dogbox\"]\n",
    "funcs = [sigmoid, exponential]"
   ]
  },
  {
   "cell_type": "code",
   "execution_count": 27,
   "metadata": {
    "collapsed": true,
    "jupyter": {
     "outputs_hidden": true
    }
   },
   "outputs": [
    {
     "name": "stdout",
     "output_type": "stream",
     "text": [
      "porquinhos/porquinho_mra26.pickle\n",
      "Porquinho: mra26\n",
      "Manobra: B\n",
      " Qtd Passo: 3\n",
      "\n"
     ]
    },
    {
     "name": "stderr",
     "output_type": "stream",
     "text": [
      "<ipython-input-3-996b412142fa>:2: RuntimeWarning: overflow encountered in exp\n",
      "  return a + b/(1 + np.exp(-(x-c)/d))\n"
     ]
    },
    {
     "name": "stdout",
     "output_type": "stream",
     "text": [
      "Porquinho: mra26\n",
      "Manobra: D\n",
      " Qtd Passo: 5\n",
      "\n"
     ]
    },
    {
     "name": "stderr",
     "output_type": "stream",
     "text": [
      "<ipython-input-3-996b412142fa>:2: RuntimeWarning: overflow encountered in exp\n",
      "  return a + b/(1 + np.exp(-(x-c)/d))\n"
     ]
    },
    {
     "name": "stdout",
     "output_type": "stream",
     "text": [
      "Porquinho: mra26\n",
      "Manobra: D\n",
      " Qtd Passo: 5\n",
      "\n"
     ]
    },
    {
     "name": "stderr",
     "output_type": "stream",
     "text": [
      "<ipython-input-3-996b412142fa>:2: RuntimeWarning: overflow encountered in exp\n",
      "  return a + b/(1 + np.exp(-(x-c)/d))\n"
     ]
    },
    {
     "name": "stdout",
     "output_type": "stream",
     "text": [
      "Porquinho: mra26\n",
      "Manobra: D\n",
      " Qtd Passo: 5\n",
      "\n"
     ]
    },
    {
     "name": "stderr",
     "output_type": "stream",
     "text": [
      "<ipython-input-3-996b412142fa>:2: RuntimeWarning: overflow encountered in exp\n",
      "  return a + b/(1 + np.exp(-(x-c)/d))\n"
     ]
    },
    {
     "name": "stdout",
     "output_type": "stream",
     "text": [
      "Porquinho: mra26\n",
      "Manobra: C\n",
      " Qtd Passo: 4\n",
      "\n"
     ]
    },
    {
     "name": "stderr",
     "output_type": "stream",
     "text": [
      "<ipython-input-3-996b412142fa>:2: RuntimeWarning: overflow encountered in exp\n",
      "  return a + b/(1 + np.exp(-(x-c)/d))\n"
     ]
    },
    {
     "name": "stdout",
     "output_type": "stream",
     "text": [
      "Porquinho: mra26\n",
      "Manobra: C\n",
      " Qtd Passo: 4\n",
      "\n"
     ]
    },
    {
     "name": "stderr",
     "output_type": "stream",
     "text": [
      "<ipython-input-3-996b412142fa>:2: RuntimeWarning: overflow encountered in exp\n",
      "  return a + b/(1 + np.exp(-(x-c)/d))\n"
     ]
    },
    {
     "name": "stdout",
     "output_type": "stream",
     "text": [
      "porquinhos/porquinho_mra28.pickle\n",
      "Porquinho: mra28\n",
      "Manobra: C\n",
      " Qtd Passo: 4\n",
      "\n"
     ]
    },
    {
     "name": "stderr",
     "output_type": "stream",
     "text": [
      "<ipython-input-3-996b412142fa>:2: RuntimeWarning: overflow encountered in exp\n",
      "  return a + b/(1 + np.exp(-(x-c)/d))\n",
      "<ipython-input-3-996b412142fa>:2: RuntimeWarning: overflow encountered in exp\n",
      "  return a + b/(1 + np.exp(-(x-c)/d))\n"
     ]
    },
    {
     "name": "stdout",
     "output_type": "stream",
     "text": [
      "Porquinho: mra28\n",
      "Manobra: C\n",
      " Qtd Passo: 4\n",
      "\n"
     ]
    },
    {
     "name": "stderr",
     "output_type": "stream",
     "text": [
      "<ipython-input-3-996b412142fa>:2: RuntimeWarning: overflow encountered in exp\n",
      "  return a + b/(1 + np.exp(-(x-c)/d))\n",
      "<ipython-input-3-996b412142fa>:2: RuntimeWarning: overflow encountered in exp\n",
      "  return a + b/(1 + np.exp(-(x-c)/d))\n"
     ]
    },
    {
     "name": "stdout",
     "output_type": "stream",
     "text": [
      "Porquinho: mra28\n",
      "Manobra: B\n",
      " Qtd Passo: 3\n",
      "\n"
     ]
    },
    {
     "name": "stderr",
     "output_type": "stream",
     "text": [
      "<ipython-input-3-996b412142fa>:2: RuntimeWarning: overflow encountered in exp\n",
      "  return a + b/(1 + np.exp(-(x-c)/d))\n",
      "<ipython-input-3-996b412142fa>:2: RuntimeWarning: overflow encountered in exp\n",
      "  return a + b/(1 + np.exp(-(x-c)/d))\n"
     ]
    },
    {
     "name": "stdout",
     "output_type": "stream",
     "text": [
      "Porquinho: mra28\n",
      "Manobra: D\n",
      " Qtd Passo: 5\n",
      "\n"
     ]
    },
    {
     "name": "stderr",
     "output_type": "stream",
     "text": [
      "<ipython-input-3-996b412142fa>:2: RuntimeWarning: overflow encountered in exp\n",
      "  return a + b/(1 + np.exp(-(x-c)/d))\n",
      "<ipython-input-3-996b412142fa>:2: RuntimeWarning: overflow encountered in exp\n",
      "  return a + b/(1 + np.exp(-(x-c)/d))\n"
     ]
    },
    {
     "name": "stdout",
     "output_type": "stream",
     "text": [
      "Porquinho: mra28\n",
      "Manobra: D\n",
      " Qtd Passo: 5\n",
      "\n"
     ]
    },
    {
     "name": "stderr",
     "output_type": "stream",
     "text": [
      "<ipython-input-3-996b412142fa>:2: RuntimeWarning: overflow encountered in exp\n",
      "  return a + b/(1 + np.exp(-(x-c)/d))\n",
      "<ipython-input-3-996b412142fa>:2: RuntimeWarning: overflow encountered in exp\n",
      "  return a + b/(1 + np.exp(-(x-c)/d))\n"
     ]
    },
    {
     "name": "stdout",
     "output_type": "stream",
     "text": [
      "Porquinho: mra28\n",
      "Manobra: D\n",
      " Qtd Passo: 5\n",
      "\n"
     ]
    },
    {
     "name": "stderr",
     "output_type": "stream",
     "text": [
      "<ipython-input-3-996b412142fa>:2: RuntimeWarning: overflow encountered in exp\n",
      "  return a + b/(1 + np.exp(-(x-c)/d))\n",
      "<ipython-input-3-996b412142fa>:2: RuntimeWarning: overflow encountered in exp\n",
      "  return a + b/(1 + np.exp(-(x-c)/d))\n"
     ]
    }
   ],
   "source": [
    "dataframes_lst = []\n",
    "\n",
    "for file_name in glob.glob('porquinhos/*'):\n",
    "    print(file_name)\n",
    "    with open(file_name, \"rb\") as file:\n",
    "        \n",
    "        porquinho = pickle.load(file)\n",
    "        for manobra in porquinho.manobra.keys(): #Para cada manobra \n",
    "\n",
    "            if manobra == \"D\": # Posso fazer 3,4,5 passos\n",
    "                n_steps = 5\n",
    "            elif manobra == \"C\": # Posso fazer 3,4 passos\n",
    "                n_steps = 4\n",
    "            elif manobra == \"B\": # Posso fazer 3 passos\n",
    "                n_steps = 3\n",
    "                \n",
    "            # Formato os dados de entrada\n",
    "            manobra_data = porquinho.manobra[\"B\"]\n",
    "            format_data = []\n",
    "            for pi, pe, wi, we in zip(manobra_data[\"p_i\"], manobra_data[\"p_e\"],\n",
    "                                      manobra_data[\"w_i\"], manobra_data[\"w_e\"]):\n",
    "\n",
    "                format_data.extend([pi,wi,pe,we])\n",
    "\n",
    "            format_data = np.array(format_data).reshape(-1,2)\n",
    "            ##########################################################\n",
    "            \n",
    "            for n_point in range(3,n_steps+1):\n",
    "                fitter = funcFitter(porquinho.name, manobra, format_data[0::2, :], n_point = n_point, estimators = estimators)\n",
    "\n",
    "                print(f\"Porquinho: {porquinho.name}\\nManobra: {manobra}\\n Qtd Passo: {n_steps}\\n\")\n",
    "                dataframes_lst.append(fitter.fit(funcs=funcs, interpolate=True, n_interp_point=20, interp_method=\"linear\"))"
   ]
  },
  {
   "cell_type": "code",
   "execution_count": 46,
   "metadata": {},
   "outputs": [
    {
     "data": {
      "text/html": [
       "<div>\n",
       "<style scoped>\n",
       "    .dataframe tbody tr th:only-of-type {\n",
       "        vertical-align: middle;\n",
       "    }\n",
       "\n",
       "    .dataframe tbody tr th {\n",
       "        vertical-align: top;\n",
       "    }\n",
       "\n",
       "    .dataframe thead th {\n",
       "        text-align: right;\n",
       "    }\n",
       "</style>\n",
       "<table border=\"1\" class=\"dataframe\">\n",
       "  <thead>\n",
       "    <tr style=\"text-align: right;\">\n",
       "      <th></th>\n",
       "      <th></th>\n",
       "      <th></th>\n",
       "      <th>prof_example</th>\n",
       "    </tr>\n",
       "    <tr>\n",
       "      <th>subject</th>\n",
       "      <th>manobra</th>\n",
       "      <th>n_point</th>\n",
       "      <th></th>\n",
       "    </tr>\n",
       "  </thead>\n",
       "  <tbody>\n",
       "    <tr>\n",
       "      <th rowspan=\"6\" valign=\"top\">mra26</th>\n",
       "      <th>B</th>\n",
       "      <th>3</th>\n",
       "      <td>8</td>\n",
       "    </tr>\n",
       "    <tr>\n",
       "      <th rowspan=\"2\" valign=\"top\">C</th>\n",
       "      <th>3</th>\n",
       "      <td>8</td>\n",
       "    </tr>\n",
       "    <tr>\n",
       "      <th>4</th>\n",
       "      <td>8</td>\n",
       "    </tr>\n",
       "    <tr>\n",
       "      <th rowspan=\"3\" valign=\"top\">D</th>\n",
       "      <th>3</th>\n",
       "      <td>8</td>\n",
       "    </tr>\n",
       "    <tr>\n",
       "      <th>4</th>\n",
       "      <td>8</td>\n",
       "    </tr>\n",
       "    <tr>\n",
       "      <th>5</th>\n",
       "      <td>8</td>\n",
       "    </tr>\n",
       "    <tr>\n",
       "      <th rowspan=\"6\" valign=\"top\">mra28</th>\n",
       "      <th>B</th>\n",
       "      <th>3</th>\n",
       "      <td>11</td>\n",
       "    </tr>\n",
       "    <tr>\n",
       "      <th rowspan=\"2\" valign=\"top\">C</th>\n",
       "      <th>3</th>\n",
       "      <td>11</td>\n",
       "    </tr>\n",
       "    <tr>\n",
       "      <th>4</th>\n",
       "      <td>11</td>\n",
       "    </tr>\n",
       "    <tr>\n",
       "      <th rowspan=\"3\" valign=\"top\">D</th>\n",
       "      <th>3</th>\n",
       "      <td>11</td>\n",
       "    </tr>\n",
       "    <tr>\n",
       "      <th>4</th>\n",
       "      <td>11</td>\n",
       "    </tr>\n",
       "    <tr>\n",
       "      <th>5</th>\n",
       "      <td>11</td>\n",
       "    </tr>\n",
       "  </tbody>\n",
       "</table>\n",
       "</div>"
      ],
      "text/plain": [
       "                         prof_example\n",
       "subject manobra n_point              \n",
       "mra26   B       3                   8\n",
       "        C       3                   8\n",
       "                4                   8\n",
       "        D       3                   8\n",
       "                4                   8\n",
       "                5                   8\n",
       "mra28   B       3                  11\n",
       "        C       3                  11\n",
       "                4                  11\n",
       "        D       3                  11\n",
       "                4                  11\n",
       "                5                  11"
      ]
     },
     "execution_count": 46,
     "metadata": {},
     "output_type": "execute_result"
    }
   ],
   "source": [
    "pd.concat(dataframes_lst)\\\n",
    "  .rename(columns = {\"function\":\"prof_example\"})\\\n",
    "  .groupby([\"subject\", \"manobra\", \"n_point\"])\\\n",
    "  [[\"prof_example\"]].count()"
   ]
  },
  {
   "cell_type": "code",
   "execution_count": 2,
   "metadata": {},
   "outputs": [],
   "source": [
    "nomeArq = os.path.join(os.getcwd(), 'rec_img_data', 'mra26_D_255000_290000_data.npz')"
   ]
  },
  {
   "cell_type": "code",
   "execution_count": 16,
   "metadata": {},
   "outputs": [
    {
     "data": {
      "text/plain": [
       "{'parameters': array([0.00975539, 5.27912001]),\n",
       " 'p_i': array([10.0218749 , 14.96249962, 20.07500076]),\n",
       " 'p_e': array([20.25625038, 25.38125038, 30.40312576]),\n",
       " 'w_i': array([-128.14525 ,   -2.108897,  219.72273 ], dtype=float32),\n",
       " 'w_e': array([  8.277574, 165.29181 , 394.6262  ], dtype=float32)}"
      ]
     },
     "execution_count": 16,
     "metadata": {},
     "output_type": "execute_result"
    }
   ],
   "source": [
    "porquinho.manobra[\"B\"]"
   ]
  },
  {
   "cell_type": "code",
   "execution_count": 19,
   "metadata": {},
   "outputs": [],
   "source": []
  },
  {
   "cell_type": "code",
   "execution_count": 22,
   "metadata": {},
   "outputs": [],
   "source": []
  },
  {
   "cell_type": "code",
   "execution_count": 25,
   "metadata": {},
   "outputs": [
    {
     "data": {
      "text/plain": [
       "array([[  10.0218749 , -128.14524841],\n",
       "       [  20.25625038,    8.27757359],\n",
       "       [  14.96249962,   -2.10889697],\n",
       "       [  25.38125038,  165.29180908],\n",
       "       [  20.07500076,  219.72273254],\n",
       "       [  30.40312576,  394.62619019]])"
      ]
     },
     "execution_count": 25,
     "metadata": {},
     "output_type": "execute_result"
    }
   ],
   "source": []
  },
  {
   "cell_type": "code",
   "execution_count": 26,
   "metadata": {},
   "outputs": [
    {
     "data": {
      "text/plain": [
       "{'parameters': array([0.00975539, 5.27912001]),\n",
       " 'p_i': array([10.0218749 , 14.96249962, 20.07500076]),\n",
       " 'p_e': array([20.25625038, 25.38125038, 30.40312576]),\n",
       " 'w_i': array([-128.14525 ,   -2.108897,  219.72273 ], dtype=float32),\n",
       " 'w_e': array([  8.277574, 165.29181 , 394.6262  ], dtype=float32)}"
      ]
     },
     "execution_count": 26,
     "metadata": {},
     "output_type": "execute_result"
    }
   ],
   "source": [
    "aux"
   ]
  },
  {
   "cell_type": "code",
   "execution_count": null,
   "metadata": {},
   "outputs": [],
   "source": [
    "with open(\"k_func.txt\", \"wt\") as file:\n",
    "    for pi, pe, wi, we in zip(p_i, p_e, w_i, w_e):\n",
    "        file.write(f'{pi} {wi}\\n{pe} {we}\\n')"
   ]
  }
 ],
 "metadata": {
  "kernelspec": {
   "display_name": "venv_tie",
   "language": "python",
   "name": "venv_tie"
  },
  "language_info": {
   "codemirror_mode": {
    "name": "ipython",
    "version": 3
   },
   "file_extension": ".py",
   "mimetype": "text/x-python",
   "name": "python",
   "nbconvert_exporter": "python",
   "pygments_lexer": "ipython3",
   "version": "3.8.5"
  }
 },
 "nbformat": 4,
 "nbformat_minor": 4
}
