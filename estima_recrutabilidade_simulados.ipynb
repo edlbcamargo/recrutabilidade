{
 "cells": [
  {
   "cell_type": "markdown",
   "metadata": {
    "heading_collapsed": true
   },
   "source": [
    "# Importando bibliotecas"
   ]
  },
  {
   "cell_type": "code",
   "execution_count": 1,
   "metadata": {
    "ExecuteTime": {
     "end_time": "2021-04-17T14:55:43.063362Z",
     "start_time": "2021-04-17T14:55:42.205304Z"
    },
    "hidden": true
   },
   "outputs": [],
   "source": [
    "import numpy as np         # para fazer contas e mexer com matrizes\n",
    "import pandas as pd        # para montar DataFrames (tabelas de bancos de dados)\n",
    "\n",
    "import matplotlib.pyplot as plt\n",
    "import seaborn as sns\n",
    "\n",
    "import modelos as m\n",
    "from scipy.optimize import curve_fit   # para ajuste das curvas dos modelos\n",
    "\n",
    "# CUIDADO!!! Para esconder os avisos do curvefit():\n",
    "import warnings\n",
    "warnings.filterwarnings(\"ignore\")"
   ]
  },
  {
   "cell_type": "code",
   "execution_count": 2,
   "metadata": {
    "ExecuteTime": {
     "end_time": "2021-04-17T14:55:43.083050Z",
     "start_time": "2021-04-17T14:55:43.065821Z"
    },
    "hidden": true
   },
   "outputs": [],
   "source": [
    "# para não precisar reiniciar o kernel do jupyter-notebook quando mudar os arquivos .py\n",
    "%load_ext autoreload\n",
    "%autoreload 2"
   ]
  },
  {
   "cell_type": "code",
   "execution_count": 3,
   "metadata": {
    "ExecuteTime": {
     "end_time": "2021-04-17T14:55:43.096523Z",
     "start_time": "2021-04-17T14:55:43.084795Z"
    },
    "hidden": true
   },
   "outputs": [],
   "source": [
    "sns.set_theme()"
   ]
  },
  {
   "cell_type": "markdown",
   "metadata": {},
   "source": [
    "# Simulando uma curva"
   ]
  },
  {
   "cell_type": "markdown",
   "metadata": {
    "heading_collapsed": true
   },
   "source": [
    "## Testando modelo *sigmoidvenegas1*"
   ]
  },
  {
   "cell_type": "markdown",
   "metadata": {
    "hidden": true
   },
   "source": [
    "Simulando curva com modelo *sigmoid_recruit_units* e tentando ajustar o modelo *sigmoidvenegas1*.<br>\n",
    "Nenhum parâmetro do modelo do Venegas parece  ter relação com a constante *K* das exponenciais."
   ]
  },
  {
   "cell_type": "code",
   "execution_count": 4,
   "metadata": {
    "ExecuteTime": {
     "end_time": "2021-04-17T14:55:43.110756Z",
     "start_time": "2021-04-17T14:55:43.098310Z"
    },
    "hidden": true
   },
   "outputs": [],
   "source": [
    "p = np.array(range(-10,50))\n",
    "param = [0.02,1000,20,10,-200] # K,Vmax,mi,sigma,offset\n",
    "v = m.sigmoid_recruit_units(p,*param)"
   ]
  },
  {
   "cell_type": "code",
   "execution_count": 11,
   "metadata": {
    "ExecuteTime": {
     "end_time": "2021-04-17T14:59:18.304894Z",
     "start_time": "2021-04-17T14:59:18.282767Z"
    },
    "hidden": true
   },
   "outputs": [],
   "source": [
    "modelo = m.sigmoidvenegas1\n",
    "Vmin =  500 # mL\n",
    "Vmax = 3500 # mL\n",
    "bounds = ([  -500, Vmin,   20,      5],\n",
    "          [   200, Vmax,   40,     18])"
   ]
  },
  {
   "cell_type": "code",
   "execution_count": 6,
   "metadata": {
    "ExecuteTime": {
     "end_time": "2021-04-17T14:55:43.370107Z",
     "start_time": "2021-04-17T14:55:43.128742Z"
    },
    "hidden": true
   },
   "outputs": [
    {
     "name": "stdout",
     "output_type": "stream",
     "text": [
      "[-215.21448113  655.61859464   27.3517997     7.31375689]\n"
     ]
    },
    {
     "data": {
      "image/png": "[encoded data removed]",
      "text/plain": [
       "<Figure size 432x288 with 1 Axes>"
      ]
     },
     "metadata": {},
     "output_type": "display_data"
    }
   ],
   "source": [
    "parameters, pcov = curve_fit(modelo, p, v, method='trf',bounds=bounds)\n",
    "v_fit = modelo(p,*parameters)\n",
    "plt.plot(p,v,'b')\n",
    "plt.plot(p,v_fit,'r')\n",
    "plt.xlim((0,100))\n",
    "print(parameters)"
   ]
  },
  {
   "cell_type": "markdown",
   "metadata": {
    "hidden": true
   },
   "source": [
    "Tentando ajustar o modelo exponencial no final da curva sigmoide.<br>\n",
    "Parece também não ser possível estimar a constante *K* desse modo."
   ]
  },
  {
   "cell_type": "code",
   "execution_count": 7,
   "metadata": {
    "ExecuteTime": {
     "end_time": "2021-04-17T14:55:43.386097Z",
     "start_time": "2021-04-17T14:55:43.372186Z"
    },
    "hidden": true
   },
   "outputs": [],
   "source": [
    "def expsalazaroffset(x,Vo,K,of):\n",
    "    return Vo*(1-np.exp(-K*x))+of"
   ]
  },
  {
   "cell_type": "code",
   "execution_count": 8,
   "metadata": {
    "ExecuteTime": {
     "end_time": "2021-04-17T14:55:43.416942Z",
     "start_time": "2021-04-17T14:55:43.387906Z"
    },
    "hidden": true
   },
   "outputs": [
    {
     "name": "stdout",
     "output_type": "stream",
     "text": [
      "[ 1.44083802e+03  8.22523343e-02 -1.00000000e+03]\n"
     ]
    }
   ],
   "source": [
    "p_inicio = parameters[2]+3*parameters[3]\n",
    "p_ven = np.array(range(int(p_inicio),200))\n",
    "v_ven = m.sigmoidvenegas1(p_ven,*parameters)\n",
    "modelo = expsalazaroffset\n",
    "bounds_sal = ([50,0.001,-1000],[30000,1,1000])\n",
    "parameters2, pcov2 = curve_fit(modelo, p_ven, v_ven, method='trf',bounds=bounds_sal)\n",
    "print(parameters2)"
   ]
  },
  {
   "cell_type": "code",
   "execution_count": 9,
   "metadata": {
    "ExecuteTime": {
     "end_time": "2021-04-17T14:55:43.603949Z",
     "start_time": "2021-04-17T14:55:43.418862Z"
    },
    "hidden": true
   },
   "outputs": [
    {
     "data": {
      "text/plain": [
       "[<matplotlib.lines.Line2D at 0x7ff05b40d6d0>]"
      ]
     },
     "execution_count": 9,
     "metadata": {},
     "output_type": "execute_result"
    },
    {
     "data": {
      "image/png": "[encoded data removed]",
      "text/plain": [
       "<Figure size 432x288 with 1 Axes>"
      ]
     },
     "metadata": {},
     "output_type": "display_data"
    }
   ],
   "source": [
    "v_sal = expsalazaroffset(p_ven,*parameters2)\n",
    "plt.plot(p_ven,v_ven,'b')\n",
    "plt.plot(p_ven,v_sal,'r')"
   ]
  },
  {
   "cell_type": "markdown",
   "metadata": {},
   "source": [
    "## Testando modelo *sigmoidvenegas2offset*"
   ]
  },
  {
   "cell_type": "markdown",
   "metadata": {},
   "source": [
    "Constante *K* é dada por <code>parameters[2]</code>.<br>\n",
    "Com poucos pontos, modelo *sigmoidvenegas2offset* tende a superestimar *K*."
   ]
  },
  {
   "cell_type": "code",
   "execution_count": 73,
   "metadata": {
    "ExecuteTime": {
     "end_time": "2021-04-17T15:19:26.583625Z",
     "start_time": "2021-04-17T15:19:26.562010Z"
    }
   },
   "outputs": [],
   "source": [
    "intervalo = 5\n",
    "p = np.array(range(0,70,intervalo))\n",
    "param = [0.05,1000,20,10,-200] # K,Vmax,mi,sigma,offset\n",
    "v = m.sigmoid_recruit_units(p,*param)"
   ]
  },
  {
   "cell_type": "code",
   "execution_count": 74,
   "metadata": {
    "ExecuteTime": {
     "end_time": "2021-04-17T15:19:26.786996Z",
     "start_time": "2021-04-17T15:19:26.764981Z"
    }
   },
   "outputs": [],
   "source": [
    "modelo = m.sigmoidvenegas2offset\n",
    "Vmin =  500 # mL\n",
    "Vmax = 3500 # mL\n",
    "p0 =      [  2000,    2000,    0.05,      28,       7,    -200] # TLC,B,k,c,d,offset\n",
    "bounds = ([  Vmin,       0,       0,      15,       4,    -500],\n",
    "          [  Vmax,    Vmax,       1,      40,      15,     200])"
   ]
  },
  {
   "cell_type": "code",
   "execution_count": 75,
   "metadata": {
    "ExecuteTime": {
     "end_time": "2021-04-17T15:19:27.277088Z",
     "start_time": "2021-04-17T15:19:27.006681Z"
    }
   },
   "outputs": [
    {
     "name": "stdout",
     "output_type": "stream",
     "text": [
      "[ 9.67808826e+02  1.23739921e+03  6.40398901e-02  2.03849802e+01\n",
      "  6.85046035e+00 -1.87966753e+02]\n",
      "K simulado: 0.05; K estimado: 0.06403989006680383\n"
     ]
    },
    {
     "data": {
      "image/png": "[encoded data removed]",
      "text/plain": [
       "<Figure size 432x288 with 1 Axes>"
      ]
     },
     "metadata": {},
     "output_type": "display_data"
    }
   ],
   "source": [
    "parameters, pcov = curve_fit(modelo, p, v, method='trf',bounds=bounds, p0=p0)\n",
    "v_fit = modelo(p,*parameters)\n",
    "plt.plot(p,v,'bo',label='sim')\n",
    "plt.plot(p,v_fit,'rx',label='fit')\n",
    "p_sim = np.array(range(0,100))\n",
    "v_sim = m.sigmoid_recruit_units(p_sim,*param)\n",
    "v_fit_curva = modelo(p_sim,*parameters)\n",
    "plt.plot(p_sim,v_sim,'b:')\n",
    "plt.plot(p_sim,v_fit_curva,'r:')\n",
    "plt.xlim((0,100))\n",
    "plt.legend()\n",
    "print(parameters)\n",
    "print(f'K simulado: {param[0]}; K estimado: {parameters[2]}')"
   ]
  },
  {
   "cell_type": "markdown",
   "metadata": {
    "ExecuteTime": {
     "end_time": "2021-04-17T15:21:03.353665Z",
     "start_time": "2021-04-17T15:21:03.330267Z"
    }
   },
   "source": [
    "## Testando modelo *sigmoidpaivaoffset*"
   ]
  },
  {
   "cell_type": "markdown",
   "metadata": {},
   "source": [
    "Nenhum parâmetro do modelo parece ter relação com a constante *K*;"
   ]
  },
  {
   "cell_type": "code",
   "execution_count": 84,
   "metadata": {
    "ExecuteTime": {
     "end_time": "2021-04-17T15:24:00.335440Z",
     "start_time": "2021-04-17T15:24:00.312781Z"
    }
   },
   "outputs": [],
   "source": [
    "intervalo = 1\n",
    "p = np.array(range(0,40,intervalo))\n",
    "param = [0.05,1000,20,10,-200] # K,Vmax,mi,sigma,offset\n",
    "v = m.sigmoid_recruit_units(p,*param)"
   ]
  },
  {
   "cell_type": "code",
   "execution_count": 85,
   "metadata": {
    "ExecuteTime": {
     "end_time": "2021-04-17T15:24:00.578905Z",
     "start_time": "2021-04-17T15:24:00.559131Z"
    }
   },
   "outputs": [],
   "source": [
    "modelo = m.sigmoidpaivaoffset\n",
    "Vmin =  500 # mL\n",
    "Vmax = 3500 # mL\n",
    "p0 =      [  2000,   0.03, 0.13,   -200] # TLC,k1,k2,offset\n",
    "bounds = ([  Vmin,  0.008, 0.08,   -500],\n",
    "          [  Vmax,   0.15, 0.25,    200])"
   ]
  },
  {
   "cell_type": "code",
   "execution_count": 86,
   "metadata": {
    "ExecuteTime": {
     "end_time": "2021-04-17T15:24:01.096544Z",
     "start_time": "2021-04-17T15:24:00.849403Z"
    }
   },
   "outputs": [
    {
     "name": "stdout",
     "output_type": "stream",
     "text": [
      "[ 9.41648863e+02  3.63656477e-02  1.49911153e-01 -2.35720061e+02]\n"
     ]
    },
    {
     "data": {
      "image/png": "[encoded data removed]",
      "text/plain": [
       "<Figure size 432x288 with 1 Axes>"
      ]
     },
     "metadata": {},
     "output_type": "display_data"
    }
   ],
   "source": [
    "parameters, pcov = curve_fit(modelo, p, v, method='trf',bounds=bounds, p0=p0)\n",
    "v_fit = modelo(p,*parameters)\n",
    "plt.plot(p,v,'bo',label='sim')\n",
    "plt.plot(p,v_fit,'rx',label='fit')\n",
    "p_sim = np.array(range(0,100))\n",
    "v_sim = m.sigmoid_recruit_units(p_sim,*param)\n",
    "v_fit_curva = modelo(p_sim,*parameters)\n",
    "plt.plot(p_sim,v_sim,'b:')\n",
    "plt.plot(p_sim,v_fit_curva,'r:')\n",
    "plt.xlim((0,100))\n",
    "plt.legend()\n",
    "print(parameters)"
   ]
  },
  {
   "cell_type": "markdown",
   "metadata": {},
   "source": []
  },
  {
   "cell_type": "code",
   "execution_count": null,
   "metadata": {},
   "outputs": [],
   "source": []
  }
 ],
 "metadata": {
  "kernelspec": {
   "display_name": "Python 3",
   "language": "python",
   "name": "python3"
  },
  "language_info": {
   "codemirror_mode": {
    "name": "ipython",
    "version": 3
   },
   "file_extension": ".py",
   "mimetype": "text/x-python",
   "name": "python",
   "nbconvert_exporter": "python",
   "pygments_lexer": "ipython3",
   "version": "3.8.5"
  }
 },
 "nbformat": 4,
 "nbformat_minor": 4
}
