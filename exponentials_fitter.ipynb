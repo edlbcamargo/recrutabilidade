{
 "cells": [
  {
   "cell_type": "code",
   "execution_count": 1,
   "metadata": {
    "ExecuteTime": {
     "end_time": "2020-08-08T01:01:50.142037Z",
     "start_time": "2020-08-08T01:01:49.713039Z"
    }
   },
   "outputs": [],
   "source": [
    "import pandas as pd\n",
    "import numpy as np\n",
    "\n",
    "import os\n",
    "\n",
    "import matplotlib.pyplot as plt\n",
    "from scipy.interpolate import interp1d\n",
    "\n",
    "\"\"\"\n",
    "CUIDADO!!\n",
    "\"\"\"\n",
    "import warnings\n",
    "warnings.filterwarnings(\"ignore\")"
   ]
  },
  {
   "cell_type": "markdown",
   "metadata": {},
   "source": [
    "### Loading data "
   ]
  },
  {
   "cell_type": "code",
   "execution_count": 2,
   "metadata": {
    "ExecuteTime": {
     "end_time": "2020-08-08T01:01:50.224038Z",
     "start_time": "2020-08-08T01:01:50.221037Z"
    }
   },
   "outputs": [],
   "source": [
    "with open(\"data//doente.txt\", \"r\") as file:\n",
    "    d_data = file.readlines()\n",
    "    #Cleaning\n",
    "    d_data = np.array([list(map(float, row.split())) for row in d_data if row != '\\n'])\n",
    "    d_data[6,1] = 466 # valor corrigido\n",
    "\n",
    "    \n",
    "with open(\"data//normal.txt\", \"r\") as file:\n",
    "    s_data = file.readlines()\n",
    "    #Cleaning\n",
    "    s_data = np.array([list(map(float, row.split())) for row in s_data if row != '\\n'])"
   ]
  },
  {
   "cell_type": "code",
   "execution_count": 5,
   "metadata": {
    "ExecuteTime": {
     "end_time": "2020-08-08T01:02:45.973699Z",
     "start_time": "2020-08-08T01:02:45.967699Z"
    }
   },
   "outputs": [],
   "source": [
    "injuried = pd.read_csv(os.path.join(\"data\",\"injuried_fit.csv\"))"
   ]
  },
  {
   "cell_type": "code",
   "execution_count": null,
   "metadata": {},
   "outputs": [],
   "source": [
    "def exponential_cicle(x, a, b, c):\n",
    "    return -a*np.exp(-b*x)"
   ]
  },
  {
   "cell_type": "code",
   "execution_count": 35,
   "metadata": {
    "ExecuteTime": {
     "end_time": "2020-08-08T01:19:46.766493Z",
     "start_time": "2020-08-08T01:19:46.762493Z"
    }
   },
   "outputs": [],
   "source": [
    "best_fit = injuried.sort_values(by = \"error\").iloc[39]"
   ]
  },
  {
   "cell_type": "code",
   "execution_count": 38,
   "metadata": {
    "ExecuteTime": {
     "end_time": "2020-08-08T01:23:12.294956Z",
     "start_time": "2020-08-08T01:23:12.291956Z"
    }
   },
   "outputs": [
    {
     "data": {
      "text/plain": [
       "'[-163.09208354 1108.27423965   23.53463078    7.47531858]'"
      ]
     },
     "execution_count": 38,
     "metadata": {},
     "output_type": "execute_result"
    }
   ],
   "source": [
    "best_fit[\"param\"]"
   ]
  },
  {
   "cell_type": "code",
   "execution_count": 39,
   "metadata": {
    "ExecuteTime": {
     "end_time": "2020-08-08T01:40:54.298408Z",
     "start_time": "2020-08-08T01:40:54.296408Z"
    }
   },
   "outputs": [],
   "source": [
    "for i in range(2, d_data.shape[0]+1, 2):\n",
    "    pressures = d_data[i-2:i,0]\n"
   ]
  },
  {
   "cell_type": "code",
   "execution_count": 7,
   "metadata": {
    "ExecuteTime": {
     "end_time": "2020-08-08T01:02:55.704699Z",
     "start_time": "2020-08-08T01:02:55.697698Z"
    }
   },
   "outputs": [
    {
     "ename": "NameError",
     "evalue": "name 'fitter' is not defined",
     "output_type": "error",
     "traceback": [
      "\u001b[1;31m---------------------------------------------------------------------------\u001b[0m",
      "\u001b[1;31mNameError\u001b[0m                                 Traceback (most recent call last)",
      "\u001b[1;32m<ipython-input-7-4eecae513af6>\u001b[0m in \u001b[0;36m<module>\u001b[1;34m\u001b[0m\n\u001b[0;32m      6\u001b[0m \u001b[0my_aux\u001b[0m \u001b[1;33m=\u001b[0m \u001b[0mbest_fit\u001b[0m\u001b[1;33m[\u001b[0m\u001b[1;34m\"param\"\u001b[0m\u001b[1;33m]\u001b[0m\u001b[1;33m[\u001b[0m\u001b[1;36m0\u001b[0m\u001b[1;33m]\u001b[0m\u001b[1;33m\u001b[0m\u001b[1;33m\u001b[0m\u001b[0m\n\u001b[0;32m      7\u001b[0m \u001b[1;33m\u001b[0m\u001b[0m\n\u001b[1;32m----> 8\u001b[1;33m \u001b[0maux\u001b[0m \u001b[1;33m=\u001b[0m \u001b[0mfitter\u001b[0m\u001b[1;33m.\u001b[0m\u001b[0mpressures\u001b[0m\u001b[1;33m[\u001b[0m\u001b[1;36m0\u001b[0m\u001b[1;33m]\u001b[0m\u001b[1;33m\u001b[0m\u001b[1;33m\u001b[0m\u001b[0m\n\u001b[0m\u001b[0;32m      9\u001b[0m \u001b[1;32mwhile\u001b[0m\u001b[1;33m(\u001b[0m\u001b[1;32mTrue\u001b[0m\u001b[1;33m)\u001b[0m\u001b[1;33m:\u001b[0m\u001b[1;33m\u001b[0m\u001b[1;33m\u001b[0m\u001b[0m\n\u001b[0;32m     10\u001b[0m     \u001b[1;32mif\u001b[0m \u001b[0my_aux\u001b[0m \u001b[1;33m<\u001b[0m \u001b[0my_test\u001b[0m\u001b[1;33m:\u001b[0m\u001b[1;33m\u001b[0m\u001b[1;33m\u001b[0m\u001b[0m\n",
      "\u001b[1;31mNameError\u001b[0m: name 'fitter' is not defined"
     ]
    }
   ],
   "source": [
    "#FAZER PARA TODA LINHA DO DATAFRAME\n",
    "\n",
    "y_test=0\n",
    "\n",
    "best_fit = injuried.sort_values(by = \"error\").iloc[39]\n",
    "y_aux = best_fit[\"param\"][0]\n",
    "\n",
    "aux = fitter.pressures[0]\n",
    "while(True):\n",
    "    if y_aux < y_test:\n",
    "        y_test = best_fit[\"function\"](aux,*best_fit[\"param\"])\n",
    "        aux-=0.01\n",
    "    else:\n",
    "        print(f\"X:{aux}, Y:{y_test}\")\n",
    "        break"
   ]
  },
  {
   "cell_type": "code",
   "execution_count": null,
   "metadata": {},
   "outputs": [],
   "source": [
    "for vol, press in zip(fitter.volumes, fitter.pressures):\n",
    "    vol_run = np.array([y_test,vol])\n",
    "    press_run = np.array([aux,press])\n",
    "\n",
    "    #Interpola\n",
    "    print(f\"press_run:{press_run}\")\n",
    "    print(f\"vol_run:{vol_run}\\n\\n\")\n",
    "    \n",
    "    ####################################\n",
    "    interp_pressures = np.linspace(press_run[0], press_run[1], 5, endpoint=True)\n",
    "    print(f\"interp_pressures: {interp_pressures}\")\n",
    "    interp_func = interp1d(press_run, vol_run, kind=\"linear\")\n",
    "    interp_volumes = interp_func(interp_pressures)\n",
    "    print(f\"interp_volumes: {interp_volumes}\\n\")\n",
    "\n",
    "    parameters, pcov = curve_fit(exponential_2_ponto, interp_pressures, interp_volumes, method=\"dogbox\")\n",
    "    break\n",
    "\n",
    "\n",
    "#new_pressures = range(int(y_aux),100,7)\n",
    "#plt.scatter(interp_pressures, interp_volumes, c = 'k', marker = '.', label = \"Interpolated\")\n",
    "#new_volumes = exponential_2_ponto(new_pressures, *parameters)\n",
    "#print(f\"{new_volumes}\")\n",
    "plt.scatter(aux,y_aux, label = \"Nosso zero-zero\")\n",
    "plt.scatter(fitter.pressures, fitter.volumes, c = 'r', label = \"Original\")\n",
    "#plt.scatter(new_pressures, new_volumes, c = 'g', marker = '+', label = \"Fit\")\n",
    "plt.legend()\n",
    "plt.show()"
   ]
  },
  {
   "cell_type": "code",
   "execution_count": null,
   "metadata": {},
   "outputs": [],
   "source": [
    "def exponential2(x, a, b, c):\n",
    "    return a - np.exp(-(x-c))"
   ]
  }
 ],
 "metadata": {
  "kernelspec": {
   "display_name": "Python 3",
   "language": "python",
   "name": "python3"
  },
  "language_info": {
   "codemirror_mode": {
    "name": "ipython",
    "version": 3
   },
   "file_extension": ".py",
   "mimetype": "text/x-python",
   "name": "python",
   "nbconvert_exporter": "python",
   "pygments_lexer": "ipython3",
   "version": "3.8.3rc1"
  },
  "toc": {
   "base_numbering": 1,
   "nav_menu": {},
   "number_sections": true,
   "sideBar": true,
   "skip_h1_title": false,
   "title_cell": "Table of Contents",
   "title_sidebar": "Contents",
   "toc_cell": false,
   "toc_position": {},
   "toc_section_display": true,
   "toc_window_display": false
  }
 },
 "nbformat": 4,
 "nbformat_minor": 4
}
